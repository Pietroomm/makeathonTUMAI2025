{
 "cells": [
  {
   "cell_type": "code",
   "execution_count": 7,
   "id": "575f814c-46e9-4609-8228-589d03c1000f",
   "metadata": {
    "scrolled": true
   },
   "outputs": [
    {
     "name": "stdout",
     "output_type": "stream",
     "text": [
      "Collecting tensorboard\n",
      "  Downloading tensorboard-2.19.0-py3-none-any.whl.metadata (1.8 kB)\n",
      "Collecting absl-py>=0.4 (from tensorboard)\n",
      "  Downloading absl_py-2.2.2-py3-none-any.whl.metadata (2.6 kB)\n",
      "Collecting grpcio>=1.48.2 (from tensorboard)\n",
      "  Downloading grpcio-1.71.0-cp310-cp310-manylinux_2_17_x86_64.manylinux2014_x86_64.whl.metadata (3.8 kB)\n",
      "Collecting markdown>=2.6.8 (from tensorboard)\n",
      "  Downloading markdown-3.8-py3-none-any.whl.metadata (5.1 kB)\n",
      "Requirement already satisfied: numpy>=1.12.0 in /home/ec2-user/anaconda3/envs/pytorch_p310/lib/python3.10/site-packages (from tensorboard) (1.26.4)\n",
      "Requirement already satisfied: packaging in /home/ec2-user/anaconda3/envs/pytorch_p310/lib/python3.10/site-packages (from tensorboard) (21.3)\n",
      "Requirement already satisfied: protobuf!=4.24.0,>=3.19.6 in /home/ec2-user/anaconda3/envs/pytorch_p310/lib/python3.10/site-packages (from tensorboard) (5.29.4)\n",
      "Requirement already satisfied: setuptools>=41.0.0 in /home/ec2-user/anaconda3/envs/pytorch_p310/lib/python3.10/site-packages (from tensorboard) (78.1.0)\n",
      "Requirement already satisfied: six>1.9 in /home/ec2-user/anaconda3/envs/pytorch_p310/lib/python3.10/site-packages (from tensorboard) (1.17.0)\n",
      "Collecting tensorboard-data-server<0.8.0,>=0.7.0 (from tensorboard)\n",
      "  Downloading tensorboard_data_server-0.7.2-py3-none-any.whl.metadata (1.1 kB)\n",
      "Requirement already satisfied: werkzeug>=1.0.1 in /home/ec2-user/anaconda3/envs/pytorch_p310/lib/python3.10/site-packages (from tensorboard) (3.1.3)\n",
      "Requirement already satisfied: MarkupSafe>=2.1.1 in /home/ec2-user/anaconda3/envs/pytorch_p310/lib/python3.10/site-packages (from werkzeug>=1.0.1->tensorboard) (3.0.2)\n",
      "Requirement already satisfied: pyparsing!=3.0.5,>=2.0.2 in /home/ec2-user/anaconda3/envs/pytorch_p310/lib/python3.10/site-packages (from packaging->tensorboard) (3.2.3)\n",
      "Downloading tensorboard-2.19.0-py3-none-any.whl (5.5 MB)\n",
      "\u001b[2K   \u001b[90m━━━━━━━━━━━━━━━━━━━━━━━━━━━━━━━━━━━━━━━━\u001b[0m \u001b[32m5.5/5.5 MB\u001b[0m \u001b[31m141.3 MB/s\u001b[0m eta \u001b[36m0:00:00\u001b[0m\n",
      "\u001b[?25hDownloading absl_py-2.2.2-py3-none-any.whl (135 kB)\n",
      "Downloading grpcio-1.71.0-cp310-cp310-manylinux_2_17_x86_64.manylinux2014_x86_64.whl (5.9 MB)\n",
      "\u001b[2K   \u001b[90m━━━━━━━━━━━━━━━━━━━━━━━━━━━━━━━━━━━━━━━━\u001b[0m \u001b[32m5.9/5.9 MB\u001b[0m \u001b[31m188.5 MB/s\u001b[0m eta \u001b[36m0:00:00\u001b[0m\n",
      "\u001b[?25hDownloading markdown-3.8-py3-none-any.whl (106 kB)\n",
      "Downloading tensorboard_data_server-0.7.2-py3-none-any.whl (2.4 kB)\n",
      "Installing collected packages: tensorboard-data-server, markdown, grpcio, absl-py, tensorboard\n",
      "Successfully installed absl-py-2.2.2 grpcio-1.71.0 markdown-3.8 tensorboard-2.19.0 tensorboard-data-server-0.7.2\n",
      "Note: you may need to restart the kernel to use updated packages.\n"
     ]
    }
   ],
   "source": [
    "%pip install --upgrade ultralytics\n",
    "%pip install tensorboard "
   ]
  },
  {
   "cell_type": "code",
   "execution_count": 1,
   "id": "153c9de1-89d0-4514-af6d-5ba5ebae7977",
   "metadata": {},
   "outputs": [],
   "source": [
    "from ultralytics import YOLO\n",
    "\n",
    "# Load the pretrained YOLOv8 model weights\n",
    "model = YOLO('yolov8n.pt')\n",
    "\n"
   ]
  },
  {
   "cell_type": "code",
   "execution_count": 2,
   "id": "788474fb-e759-4a3d-a64c-74c7d041f2c7",
   "metadata": {},
   "outputs": [
    {
     "name": "stdout",
     "output_type": "stream",
     "text": [
      "1 GPUs available\n",
      "NVIDIA A10G\n"
     ]
    }
   ],
   "source": [
    "# Check for the GPU\n",
    "import torch\n",
    "print(torch.cuda.device_count(), \"GPUs available\")  \n",
    "print(torch.cuda.get_device_name(0))  "
   ]
  },
  {
   "cell_type": "code",
   "execution_count": 14,
   "id": "1e502f7e-f298-4972-8e3b-d0ace7a8fbc3",
   "metadata": {
    "scrolled": true
   },
   "outputs": [
    {
     "name": "stdout",
     "output_type": "stream",
     "text": [
      "/home/ec2-user/SageMaker/dataSetDrone/data.yaml\n",
      "Ultralytics 8.3.117 🚀 Python-3.10.14 torch-2.2.2 CUDA:0 (NVIDIA A10G, 22503MiB)\n",
      "\u001b[34m\u001b[1mengine/trainer: \u001b[0mtask=detect, mode=train, model=runs/detect/train13/weights/best.pt, data=/home/ec2-user/SageMaker/dataSetDrone/data.yaml, epochs=50, time=None, patience=100, batch=16, imgsz=1280, save=True, save_period=-1, cache=False, device=cuda:0, workers=8, project=None, name=train, exist_ok=False, pretrained=True, optimizer=auto, verbose=True, seed=0, deterministic=True, single_cls=False, rect=False, cos_lr=False, close_mosaic=10, resume=False, amp=True, fraction=1.0, profile=False, freeze=None, multi_scale=False, overlap_mask=True, mask_ratio=4, dropout=0.0, val=True, split=val, save_json=False, conf=None, iou=0.7, max_det=300, half=False, dnn=False, plots=True, source=None, vid_stride=1, stream_buffer=False, visualize=False, augment=False, agnostic_nms=False, classes=None, retina_masks=False, embed=None, show=False, save_frames=False, save_txt=False, save_conf=False, save_crop=False, show_labels=True, show_conf=True, show_boxes=True, line_width=None, format=torchscript, keras=False, optimize=False, int8=False, dynamic=False, simplify=True, opset=None, workspace=None, nms=False, lr0=0.01, lrf=0.01, momentum=0.937, weight_decay=0.0005, warmup_epochs=3.0, warmup_momentum=0.8, warmup_bias_lr=0.1, box=7.5, cls=0.5, dfl=1.5, pose=12.0, kobj=1.0, nbs=64, hsv_h=0.015, hsv_s=0.7, hsv_v=0.4, degrees=0.0, translate=0.1, scale=0.5, shear=0.0, perspective=0.0, flipud=0.0, fliplr=0.5, bgr=0.0, mosaic=1.0, mixup=0.0, copy_paste=0.0, copy_paste_mode=flip, auto_augment=randaugment, erasing=0.4, cfg=None, tracker=botsort.yaml, save_dir=runs/detect/train\n",
      "\n",
      "                   from  n    params  module                                       arguments                     \n",
      "  0                  -1  1       464  ultralytics.nn.modules.conv.Conv             [3, 16, 3, 2]                 \n",
      "  1                  -1  1      4672  ultralytics.nn.modules.conv.Conv             [16, 32, 3, 2]                \n",
      "  2                  -1  1      7360  ultralytics.nn.modules.block.C2f             [32, 32, 1, True]             \n",
      "  3                  -1  1     18560  ultralytics.nn.modules.conv.Conv             [32, 64, 3, 2]                \n",
      "  4                  -1  2     49664  ultralytics.nn.modules.block.C2f             [64, 64, 2, True]             \n",
      "  5                  -1  1     73984  ultralytics.nn.modules.conv.Conv             [64, 128, 3, 2]               \n",
      "  6                  -1  2    197632  ultralytics.nn.modules.block.C2f             [128, 128, 2, True]           \n",
      "  7                  -1  1    295424  ultralytics.nn.modules.conv.Conv             [128, 256, 3, 2]              \n",
      "  8                  -1  1    460288  ultralytics.nn.modules.block.C2f             [256, 256, 1, True]           \n",
      "  9                  -1  1    164608  ultralytics.nn.modules.block.SPPF            [256, 256, 5]                 \n",
      " 10                  -1  1         0  torch.nn.modules.upsampling.Upsample         [None, 2, 'nearest']          \n",
      " 11             [-1, 6]  1         0  ultralytics.nn.modules.conv.Concat           [1]                           \n",
      " 12                  -1  1    148224  ultralytics.nn.modules.block.C2f             [384, 128, 1]                 \n",
      " 13                  -1  1         0  torch.nn.modules.upsampling.Upsample         [None, 2, 'nearest']          \n",
      " 14             [-1, 4]  1         0  ultralytics.nn.modules.conv.Concat           [1]                           \n",
      " 15                  -1  1     37248  ultralytics.nn.modules.block.C2f             [192, 64, 1]                  \n",
      " 16                  -1  1     36992  ultralytics.nn.modules.conv.Conv             [64, 64, 3, 2]                \n",
      " 17            [-1, 12]  1         0  ultralytics.nn.modules.conv.Concat           [1]                           \n",
      " 18                  -1  1    123648  ultralytics.nn.modules.block.C2f             [192, 128, 1]                 \n",
      " 19                  -1  1    147712  ultralytics.nn.modules.conv.Conv             [128, 128, 3, 2]              \n",
      " 20             [-1, 9]  1         0  ultralytics.nn.modules.conv.Concat           [1]                           \n",
      " 21                  -1  1    493056  ultralytics.nn.modules.block.C2f             [384, 256, 1]                 \n",
      " 22        [15, 18, 21]  1    751702  ultralytics.nn.modules.head.Detect           [2, [64, 128, 256]]           \n",
      "Model summary: 129 layers, 3,011,238 parameters, 3,011,222 gradients, 8.2 GFLOPs\n",
      "\n",
      "Transferred 70/355 items from pretrained weights\n",
      "Freezing layer 'model.22.dfl.conv.weight'\n",
      "\u001b[34m\u001b[1mAMP: \u001b[0mrunning Automatic Mixed Precision (AMP) checks...\n",
      "\u001b[34m\u001b[1mAMP: \u001b[0mchecks passed ✅\n",
      "\u001b[34m\u001b[1mtrain: \u001b[0mFast image access ✅ (ping: 0.0±0.0 ms, read: 5325.8±4247.0 MB/s, size: 2846.4 KB)\n"
     ]
    },
    {
     "name": "stderr",
     "output_type": "stream",
     "text": [
      "\u001b[34m\u001b[1mtrain: \u001b[0mScanning /home/ec2-user/SageMaker/dataSetDrone/train/labels.cache... 133 images, 25 backgrounds, 0 corrupt: 100%|██████████| 133/133 [00:00<?, ?it/s]"
     ]
    },
    {
     "name": "stdout",
     "output_type": "stream",
     "text": [
      "WARNING ⚠️ Box and segment counts should be equal, but got len(segments) = 8, len(boxes) = 941. To resolve this only boxes will be used and all segments will be removed. To avoid this please supply either a detect or segment dataset, not a detect-segment mixed dataset.\n"
     ]
    },
    {
     "name": "stderr",
     "output_type": "stream",
     "text": [
      "\n"
     ]
    },
    {
     "name": "stdout",
     "output_type": "stream",
     "text": [
      "\u001b[34m\u001b[1mval: \u001b[0mFast image access ✅ (ping: 0.0±0.0 ms, read: 5551.9±3527.6 MB/s, size: 3153.4 KB)\n"
     ]
    },
    {
     "name": "stderr",
     "output_type": "stream",
     "text": [
      "\u001b[34m\u001b[1mval: \u001b[0mScanning /home/ec2-user/SageMaker/dataSetDrone/valid/labels.cache... 30 images, 8 backgrounds, 0 corrupt: 100%|██████████| 30/30 [00:00<?, ?it/s]\n"
     ]
    },
    {
     "name": "stdout",
     "output_type": "stream",
     "text": [
      "Plotting labels to runs/detect/train/labels.jpg... \n",
      "\u001b[34m\u001b[1moptimizer:\u001b[0m 'optimizer=auto' found, ignoring 'lr0=0.01' and 'momentum=0.937' and determining best 'optimizer', 'lr0' and 'momentum' automatically... \n",
      "\u001b[34m\u001b[1moptimizer:\u001b[0m AdamW(lr=0.001667, momentum=0.9) with parameter groups 57 weight(decay=0.0), 64 weight(decay=0.0005), 63 bias(decay=0.0)\n",
      "Image sizes 1280 train, 1280 val\n",
      "Using 4 dataloader workers\n",
      "Logging results to \u001b[1mruns/detect/train\u001b[0m\n",
      "Starting training for 50 epochs...\n",
      "\n",
      "      Epoch    GPU_mem   box_loss   cls_loss   dfl_loss  Instances       Size\n"
     ]
    },
    {
     "name": "stderr",
     "output_type": "stream",
     "text": [
      "       1/50      8.79G      2.637      3.253      1.959         80       1280: 100%|██████████| 9/9 [00:08<00:00,  1.09it/s]\n",
      "                 Class     Images  Instances      Box(P          R      mAP50  mAP50-95): 100%|██████████| 1/1 [00:01<00:00,  1.04s/it]"
     ]
    },
    {
     "name": "stdout",
     "output_type": "stream",
     "text": [
      "                   all         30        196          1      0.104      0.366      0.144\n"
     ]
    },
    {
     "name": "stderr",
     "output_type": "stream",
     "text": [
      "\n"
     ]
    },
    {
     "name": "stdout",
     "output_type": "stream",
     "text": [
      "\n",
      "      Epoch    GPU_mem   box_loss   cls_loss   dfl_loss  Instances       Size\n"
     ]
    },
    {
     "name": "stderr",
     "output_type": "stream",
     "text": [
      "       2/50      8.79G      2.005      1.838      1.534         51       1280: 100%|██████████| 9/9 [00:05<00:00,  1.55it/s]\n",
      "                 Class     Images  Instances      Box(P          R      mAP50  mAP50-95): 100%|██████████| 1/1 [00:00<00:00,  1.97it/s]"
     ]
    },
    {
     "name": "stdout",
     "output_type": "stream",
     "text": [
      "                   all         30        196      0.978      0.141       0.35      0.154\n"
     ]
    },
    {
     "name": "stderr",
     "output_type": "stream",
     "text": [
      "\n"
     ]
    },
    {
     "name": "stdout",
     "output_type": "stream",
     "text": [
      "\n",
      "      Epoch    GPU_mem   box_loss   cls_loss   dfl_loss  Instances       Size\n"
     ]
    },
    {
     "name": "stderr",
     "output_type": "stream",
     "text": [
      "       3/50      8.79G      1.784      1.461      1.314         68       1280: 100%|██████████| 9/9 [00:03<00:00,  2.82it/s]\n",
      "                 Class     Images  Instances      Box(P          R      mAP50  mAP50-95): 100%|██████████| 1/1 [00:00<00:00,  2.20it/s]"
     ]
    },
    {
     "name": "stdout",
     "output_type": "stream",
     "text": [
      "                   all         30        196       0.97      0.103       0.36      0.147\n"
     ]
    },
    {
     "name": "stderr",
     "output_type": "stream",
     "text": [
      "\n"
     ]
    },
    {
     "name": "stdout",
     "output_type": "stream",
     "text": [
      "\n",
      "      Epoch    GPU_mem   box_loss   cls_loss   dfl_loss  Instances       Size\n"
     ]
    },
    {
     "name": "stderr",
     "output_type": "stream",
     "text": [
      "       4/50      8.79G      1.762      1.463      1.325         48       1280: 100%|██████████| 9/9 [00:04<00:00,  2.09it/s]\n",
      "                 Class     Images  Instances      Box(P          R      mAP50  mAP50-95): 100%|██████████| 1/1 [00:00<00:00,  1.79it/s]"
     ]
    },
    {
     "name": "stdout",
     "output_type": "stream",
     "text": [
      "                   all         30        196       0.94     0.0957      0.322      0.141\n"
     ]
    },
    {
     "name": "stderr",
     "output_type": "stream",
     "text": [
      "\n"
     ]
    },
    {
     "name": "stdout",
     "output_type": "stream",
     "text": [
      "\n",
      "      Epoch    GPU_mem   box_loss   cls_loss   dfl_loss  Instances       Size\n"
     ]
    },
    {
     "name": "stderr",
     "output_type": "stream",
     "text": [
      "       5/50      8.79G      1.606      1.242      1.176         59       1280: 100%|██████████| 9/9 [00:03<00:00,  2.34it/s]\n",
      "                 Class     Images  Instances      Box(P          R      mAP50  mAP50-95): 100%|██████████| 1/1 [00:00<00:00,  1.88it/s]"
     ]
    },
    {
     "name": "stdout",
     "output_type": "stream",
     "text": [
      "                   all         30        196      0.961      0.247        0.4      0.196\n"
     ]
    },
    {
     "name": "stderr",
     "output_type": "stream",
     "text": [
      "\n"
     ]
    },
    {
     "name": "stdout",
     "output_type": "stream",
     "text": [
      "\n",
      "      Epoch    GPU_mem   box_loss   cls_loss   dfl_loss  Instances       Size\n"
     ]
    },
    {
     "name": "stderr",
     "output_type": "stream",
     "text": [
      "       6/50      8.79G      1.586      1.222      1.166         49       1280: 100%|██████████| 9/9 [00:02<00:00,  3.43it/s]\n",
      "                 Class     Images  Instances      Box(P          R      mAP50  mAP50-95): 100%|██████████| 1/1 [00:00<00:00,  2.14it/s]"
     ]
    },
    {
     "name": "stdout",
     "output_type": "stream",
     "text": [
      "                   all         30        196      0.923       0.39      0.472      0.252\n"
     ]
    },
    {
     "name": "stderr",
     "output_type": "stream",
     "text": [
      "\n"
     ]
    },
    {
     "name": "stdout",
     "output_type": "stream",
     "text": [
      "\n",
      "      Epoch    GPU_mem   box_loss   cls_loss   dfl_loss  Instances       Size\n"
     ]
    },
    {
     "name": "stderr",
     "output_type": "stream",
     "text": [
      "       7/50      8.79G      1.585      1.194      1.153         33       1280: 100%|██████████| 9/9 [00:03<00:00,  2.95it/s]\n",
      "                 Class     Images  Instances      Box(P          R      mAP50  mAP50-95): 100%|██████████| 1/1 [00:00<00:00,  2.49it/s]"
     ]
    },
    {
     "name": "stdout",
     "output_type": "stream",
     "text": [
      "                   all         30        196      0.884      0.486      0.572      0.294\n"
     ]
    },
    {
     "name": "stderr",
     "output_type": "stream",
     "text": [
      "\n"
     ]
    },
    {
     "name": "stdout",
     "output_type": "stream",
     "text": [
      "\n",
      "      Epoch    GPU_mem   box_loss   cls_loss   dfl_loss  Instances       Size\n"
     ]
    },
    {
     "name": "stderr",
     "output_type": "stream",
     "text": [
      "       8/50      8.79G      1.597      1.192      1.165         30       1280: 100%|██████████| 9/9 [00:02<00:00,  3.50it/s]\n",
      "                 Class     Images  Instances      Box(P          R      mAP50  mAP50-95): 100%|██████████| 1/1 [00:00<00:00,  2.60it/s]"
     ]
    },
    {
     "name": "stdout",
     "output_type": "stream",
     "text": [
      "                   all         30        196      0.986      0.466      0.575      0.318\n"
     ]
    },
    {
     "name": "stderr",
     "output_type": "stream",
     "text": [
      "\n"
     ]
    },
    {
     "name": "stdout",
     "output_type": "stream",
     "text": [
      "\n",
      "      Epoch    GPU_mem   box_loss   cls_loss   dfl_loss  Instances       Size\n"
     ]
    },
    {
     "name": "stderr",
     "output_type": "stream",
     "text": [
      "       9/50      8.79G      1.526      1.071      1.124        107       1280: 100%|██████████| 9/9 [00:02<00:00,  3.33it/s]\n",
      "                 Class     Images  Instances      Box(P          R      mAP50  mAP50-95): 100%|██████████| 1/1 [00:00<00:00,  2.80it/s]"
     ]
    },
    {
     "name": "stdout",
     "output_type": "stream",
     "text": [
      "                   all         30        196       0.69      0.562      0.635      0.334\n"
     ]
    },
    {
     "name": "stderr",
     "output_type": "stream",
     "text": [
      "\n"
     ]
    },
    {
     "name": "stdout",
     "output_type": "stream",
     "text": [
      "\n",
      "      Epoch    GPU_mem   box_loss   cls_loss   dfl_loss  Instances       Size\n"
     ]
    },
    {
     "name": "stderr",
     "output_type": "stream",
     "text": [
      "      10/50      8.79G      1.549       1.08      1.136         33       1280: 100%|██████████| 9/9 [00:02<00:00,  3.71it/s]\n",
      "                 Class     Images  Instances      Box(P          R      mAP50  mAP50-95): 100%|██████████| 1/1 [00:00<00:00,  2.23it/s]"
     ]
    },
    {
     "name": "stdout",
     "output_type": "stream",
     "text": [
      "                   all         30        196      0.685      0.638      0.677      0.346\n"
     ]
    },
    {
     "name": "stderr",
     "output_type": "stream",
     "text": [
      "\n"
     ]
    },
    {
     "name": "stdout",
     "output_type": "stream",
     "text": [
      "\n",
      "      Epoch    GPU_mem   box_loss   cls_loss   dfl_loss  Instances       Size\n"
     ]
    },
    {
     "name": "stderr",
     "output_type": "stream",
     "text": [
      "      11/50      8.79G      1.523      1.034      1.152         69       1280: 100%|██████████| 9/9 [00:02<00:00,  3.53it/s]\n",
      "                 Class     Images  Instances      Box(P          R      mAP50  mAP50-95): 100%|██████████| 1/1 [00:00<00:00,  2.96it/s]"
     ]
    },
    {
     "name": "stdout",
     "output_type": "stream",
     "text": [
      "                   all         30        196      0.713      0.601      0.673      0.332\n"
     ]
    },
    {
     "name": "stderr",
     "output_type": "stream",
     "text": [
      "\n"
     ]
    },
    {
     "name": "stdout",
     "output_type": "stream",
     "text": [
      "\n",
      "      Epoch    GPU_mem   box_loss   cls_loss   dfl_loss  Instances       Size\n"
     ]
    },
    {
     "name": "stderr",
     "output_type": "stream",
     "text": [
      "      12/50      8.79G      1.517      1.013      1.138         67       1280: 100%|██████████| 9/9 [00:02<00:00,  3.51it/s]\n",
      "                 Class     Images  Instances      Box(P          R      mAP50  mAP50-95): 100%|██████████| 1/1 [00:00<00:00,  2.66it/s]"
     ]
    },
    {
     "name": "stdout",
     "output_type": "stream",
     "text": [
      "                   all         30        196      0.724       0.68      0.692      0.355\n"
     ]
    },
    {
     "name": "stderr",
     "output_type": "stream",
     "text": [
      "\n"
     ]
    },
    {
     "name": "stdout",
     "output_type": "stream",
     "text": [
      "\n",
      "      Epoch    GPU_mem   box_loss   cls_loss   dfl_loss  Instances       Size\n"
     ]
    },
    {
     "name": "stderr",
     "output_type": "stream",
     "text": [
      "      13/50      8.79G      1.525      0.991      1.131         77       1280: 100%|██████████| 9/9 [00:02<00:00,  3.66it/s]\n",
      "                 Class     Images  Instances      Box(P          R      mAP50  mAP50-95): 100%|██████████| 1/1 [00:00<00:00,  2.33it/s]"
     ]
    },
    {
     "name": "stdout",
     "output_type": "stream",
     "text": [
      "                   all         30        196      0.728      0.693      0.671      0.333\n"
     ]
    },
    {
     "name": "stderr",
     "output_type": "stream",
     "text": [
      "\n"
     ]
    },
    {
     "name": "stdout",
     "output_type": "stream",
     "text": [
      "\n",
      "      Epoch    GPU_mem   box_loss   cls_loss   dfl_loss  Instances       Size\n"
     ]
    },
    {
     "name": "stderr",
     "output_type": "stream",
     "text": [
      "      14/50      8.79G      1.487     0.9972      1.173         28       1280: 100%|██████████| 9/9 [00:02<00:00,  3.48it/s]\n",
      "                 Class     Images  Instances      Box(P          R      mAP50  mAP50-95): 100%|██████████| 1/1 [00:00<00:00,  2.48it/s]"
     ]
    },
    {
     "name": "stdout",
     "output_type": "stream",
     "text": [
      "                   all         30        196      0.711      0.684      0.663      0.327\n"
     ]
    },
    {
     "name": "stderr",
     "output_type": "stream",
     "text": [
      "\n"
     ]
    },
    {
     "name": "stdout",
     "output_type": "stream",
     "text": [
      "\n",
      "      Epoch    GPU_mem   box_loss   cls_loss   dfl_loss  Instances       Size\n"
     ]
    },
    {
     "name": "stderr",
     "output_type": "stream",
     "text": [
      "      15/50      8.79G      1.483     0.9693      1.141         60       1280: 100%|██████████| 9/9 [00:02<00:00,  3.45it/s]\n",
      "                 Class     Images  Instances      Box(P          R      mAP50  mAP50-95): 100%|██████████| 1/1 [00:00<00:00,  2.75it/s]"
     ]
    },
    {
     "name": "stdout",
     "output_type": "stream",
     "text": [
      "                   all         30        196      0.712      0.697      0.686      0.343\n"
     ]
    },
    {
     "name": "stderr",
     "output_type": "stream",
     "text": [
      "\n"
     ]
    },
    {
     "name": "stdout",
     "output_type": "stream",
     "text": [
      "\n",
      "      Epoch    GPU_mem   box_loss   cls_loss   dfl_loss  Instances       Size\n"
     ]
    },
    {
     "name": "stderr",
     "output_type": "stream",
     "text": [
      "      16/50      8.79G      1.402     0.9491       1.12         13       1280: 100%|██████████| 9/9 [00:02<00:00,  3.57it/s]\n",
      "                 Class     Images  Instances      Box(P          R      mAP50  mAP50-95): 100%|██████████| 1/1 [00:00<00:00,  2.78it/s]"
     ]
    },
    {
     "name": "stdout",
     "output_type": "stream",
     "text": [
      "                   all         30        196      0.751      0.689      0.748      0.355\n"
     ]
    },
    {
     "name": "stderr",
     "output_type": "stream",
     "text": [
      "\n"
     ]
    },
    {
     "name": "stdout",
     "output_type": "stream",
     "text": [
      "\n",
      "      Epoch    GPU_mem   box_loss   cls_loss   dfl_loss  Instances       Size\n"
     ]
    },
    {
     "name": "stderr",
     "output_type": "stream",
     "text": [
      "      17/50      8.79G      1.481     0.9151      1.123         40       1280: 100%|██████████| 9/9 [00:02<00:00,  3.52it/s]\n",
      "                 Class     Images  Instances      Box(P          R      mAP50  mAP50-95): 100%|██████████| 1/1 [00:00<00:00,  2.67it/s]"
     ]
    },
    {
     "name": "stdout",
     "output_type": "stream",
     "text": [
      "                   all         30        196      0.744      0.727      0.744      0.357\n"
     ]
    },
    {
     "name": "stderr",
     "output_type": "stream",
     "text": [
      "\n"
     ]
    },
    {
     "name": "stdout",
     "output_type": "stream",
     "text": [
      "\n",
      "      Epoch    GPU_mem   box_loss   cls_loss   dfl_loss  Instances       Size\n"
     ]
    },
    {
     "name": "stderr",
     "output_type": "stream",
     "text": [
      "      18/50      8.79G      1.483     0.9232      1.131         38       1280: 100%|██████████| 9/9 [00:02<00:00,  3.60it/s]\n",
      "                 Class     Images  Instances      Box(P          R      mAP50  mAP50-95): 100%|██████████| 1/1 [00:00<00:00,  3.04it/s]"
     ]
    },
    {
     "name": "stdout",
     "output_type": "stream",
     "text": [
      "                   all         30        196      0.742      0.701      0.716      0.341\n"
     ]
    },
    {
     "name": "stderr",
     "output_type": "stream",
     "text": [
      "\n"
     ]
    },
    {
     "name": "stdout",
     "output_type": "stream",
     "text": [
      "\n",
      "      Epoch    GPU_mem   box_loss   cls_loss   dfl_loss  Instances       Size\n"
     ]
    },
    {
     "name": "stderr",
     "output_type": "stream",
     "text": [
      "      19/50      8.79G      1.465     0.9245      1.137         37       1280: 100%|██████████| 9/9 [00:02<00:00,  3.54it/s]\n",
      "                 Class     Images  Instances      Box(P          R      mAP50  mAP50-95): 100%|██████████| 1/1 [00:00<00:00,  2.66it/s]"
     ]
    },
    {
     "name": "stdout",
     "output_type": "stream",
     "text": [
      "                   all         30        196      0.695      0.672        0.7       0.34\n"
     ]
    },
    {
     "name": "stderr",
     "output_type": "stream",
     "text": [
      "\n"
     ]
    },
    {
     "name": "stdout",
     "output_type": "stream",
     "text": [
      "\n",
      "      Epoch    GPU_mem   box_loss   cls_loss   dfl_loss  Instances       Size\n"
     ]
    },
    {
     "name": "stderr",
     "output_type": "stream",
     "text": [
      "      20/50      8.79G      1.471     0.8539      1.114         85       1280: 100%|██████████| 9/9 [00:02<00:00,  3.30it/s]\n",
      "                 Class     Images  Instances      Box(P          R      mAP50  mAP50-95): 100%|██████████| 1/1 [00:00<00:00,  2.70it/s]"
     ]
    },
    {
     "name": "stdout",
     "output_type": "stream",
     "text": [
      "                   all         30        196      0.746      0.701      0.737      0.371\n"
     ]
    },
    {
     "name": "stderr",
     "output_type": "stream",
     "text": [
      "\n"
     ]
    },
    {
     "name": "stdout",
     "output_type": "stream",
     "text": [
      "\n",
      "      Epoch    GPU_mem   box_loss   cls_loss   dfl_loss  Instances       Size\n"
     ]
    },
    {
     "name": "stderr",
     "output_type": "stream",
     "text": [
      "      21/50      8.79G      1.449     0.8831      1.129         46       1280: 100%|██████████| 9/9 [00:02<00:00,  3.03it/s]\n",
      "                 Class     Images  Instances      Box(P          R      mAP50  mAP50-95): 100%|██████████| 1/1 [00:00<00:00,  3.35it/s]"
     ]
    },
    {
     "name": "stdout",
     "output_type": "stream",
     "text": [
      "                   all         30        196      0.779      0.701      0.733      0.355\n"
     ]
    },
    {
     "name": "stderr",
     "output_type": "stream",
     "text": [
      "\n"
     ]
    },
    {
     "name": "stdout",
     "output_type": "stream",
     "text": [
      "\n",
      "      Epoch    GPU_mem   box_loss   cls_loss   dfl_loss  Instances       Size\n"
     ]
    },
    {
     "name": "stderr",
     "output_type": "stream",
     "text": [
      "      22/50      8.79G      1.461     0.8575      1.139         85       1280: 100%|██████████| 9/9 [00:02<00:00,  3.59it/s]\n",
      "                 Class     Images  Instances      Box(P          R      mAP50  mAP50-95): 100%|██████████| 1/1 [00:00<00:00,  1.83it/s]"
     ]
    },
    {
     "name": "stdout",
     "output_type": "stream",
     "text": [
      "                   all         30        196      0.771      0.697      0.728      0.369\n"
     ]
    },
    {
     "name": "stderr",
     "output_type": "stream",
     "text": [
      "\n"
     ]
    },
    {
     "name": "stdout",
     "output_type": "stream",
     "text": [
      "\n",
      "      Epoch    GPU_mem   box_loss   cls_loss   dfl_loss  Instances       Size\n"
     ]
    },
    {
     "name": "stderr",
     "output_type": "stream",
     "text": [
      "      23/50      8.79G      1.432     0.8595      1.095         76       1280: 100%|██████████| 9/9 [00:02<00:00,  3.62it/s]\n",
      "                 Class     Images  Instances      Box(P          R      mAP50  mAP50-95): 100%|██████████| 1/1 [00:00<00:00,  2.81it/s]"
     ]
    },
    {
     "name": "stdout",
     "output_type": "stream",
     "text": [
      "                   all         30        196      0.727      0.701      0.721      0.362\n"
     ]
    },
    {
     "name": "stderr",
     "output_type": "stream",
     "text": [
      "\n"
     ]
    },
    {
     "name": "stdout",
     "output_type": "stream",
     "text": [
      "\n",
      "      Epoch    GPU_mem   box_loss   cls_loss   dfl_loss  Instances       Size\n"
     ]
    },
    {
     "name": "stderr",
     "output_type": "stream",
     "text": [
      "      24/50      8.79G      1.416     0.8611      1.144         46       1280: 100%|██████████| 9/9 [00:02<00:00,  3.43it/s]\n",
      "                 Class     Images  Instances      Box(P          R      mAP50  mAP50-95): 100%|██████████| 1/1 [00:00<00:00,  2.48it/s]"
     ]
    },
    {
     "name": "stdout",
     "output_type": "stream",
     "text": [
      "                   all         30        196      0.742      0.683      0.715      0.354\n"
     ]
    },
    {
     "name": "stderr",
     "output_type": "stream",
     "text": [
      "\n"
     ]
    },
    {
     "name": "stdout",
     "output_type": "stream",
     "text": [
      "\n",
      "      Epoch    GPU_mem   box_loss   cls_loss   dfl_loss  Instances       Size\n"
     ]
    },
    {
     "name": "stderr",
     "output_type": "stream",
     "text": [
      "      25/50      8.79G      1.453     0.8294      1.127         44       1280: 100%|██████████| 9/9 [00:02<00:00,  3.42it/s]\n",
      "                 Class     Images  Instances      Box(P          R      mAP50  mAP50-95): 100%|██████████| 1/1 [00:00<00:00,  3.00it/s]"
     ]
    },
    {
     "name": "stdout",
     "output_type": "stream",
     "text": [
      "                   all         30        196      0.729      0.718      0.714      0.369\n"
     ]
    },
    {
     "name": "stderr",
     "output_type": "stream",
     "text": [
      "\n"
     ]
    },
    {
     "name": "stdout",
     "output_type": "stream",
     "text": [
      "\n",
      "      Epoch    GPU_mem   box_loss   cls_loss   dfl_loss  Instances       Size\n"
     ]
    },
    {
     "name": "stderr",
     "output_type": "stream",
     "text": [
      "      26/50      8.79G      1.387     0.7843      1.095         41       1280: 100%|██████████| 9/9 [00:02<00:00,  3.59it/s]\n",
      "                 Class     Images  Instances      Box(P          R      mAP50  mAP50-95): 100%|██████████| 1/1 [00:00<00:00,  2.51it/s]"
     ]
    },
    {
     "name": "stdout",
     "output_type": "stream",
     "text": [
      "                   all         30        196      0.735      0.751      0.746       0.36\n"
     ]
    },
    {
     "name": "stderr",
     "output_type": "stream",
     "text": [
      "\n"
     ]
    },
    {
     "name": "stdout",
     "output_type": "stream",
     "text": [
      "\n",
      "      Epoch    GPU_mem   box_loss   cls_loss   dfl_loss  Instances       Size\n"
     ]
    },
    {
     "name": "stderr",
     "output_type": "stream",
     "text": [
      "      27/50      8.79G       1.44     0.8504      1.136         32       1280: 100%|██████████| 9/9 [00:02<00:00,  3.84it/s]\n",
      "                 Class     Images  Instances      Box(P          R      mAP50  mAP50-95): 100%|██████████| 1/1 [00:00<00:00,  2.49it/s]"
     ]
    },
    {
     "name": "stdout",
     "output_type": "stream",
     "text": [
      "                   all         30        196      0.747      0.745      0.758      0.368\n"
     ]
    },
    {
     "name": "stderr",
     "output_type": "stream",
     "text": [
      "\n"
     ]
    },
    {
     "name": "stdout",
     "output_type": "stream",
     "text": [
      "\n",
      "      Epoch    GPU_mem   box_loss   cls_loss   dfl_loss  Instances       Size\n"
     ]
    },
    {
     "name": "stderr",
     "output_type": "stream",
     "text": [
      "      28/50      8.79G      1.405     0.9224      1.121          7       1280: 100%|██████████| 9/9 [00:02<00:00,  3.70it/s]\n",
      "                 Class     Images  Instances      Box(P          R      mAP50  mAP50-95): 100%|██████████| 1/1 [00:00<00:00,  2.79it/s]"
     ]
    },
    {
     "name": "stdout",
     "output_type": "stream",
     "text": [
      "                   all         30        196       0.74      0.754      0.762      0.369\n"
     ]
    },
    {
     "name": "stderr",
     "output_type": "stream",
     "text": [
      "\n"
     ]
    },
    {
     "name": "stdout",
     "output_type": "stream",
     "text": [
      "\n",
      "      Epoch    GPU_mem   box_loss   cls_loss   dfl_loss  Instances       Size\n"
     ]
    },
    {
     "name": "stderr",
     "output_type": "stream",
     "text": [
      "      29/50      8.79G      1.381     0.7866      1.098         38       1280: 100%|██████████| 9/9 [00:02<00:00,  3.40it/s]\n",
      "                 Class     Images  Instances      Box(P          R      mAP50  mAP50-95): 100%|██████████| 1/1 [00:00<00:00,  3.37it/s]"
     ]
    },
    {
     "name": "stdout",
     "output_type": "stream",
     "text": [
      "                   all         30        196      0.757      0.748      0.765      0.361\n"
     ]
    },
    {
     "name": "stderr",
     "output_type": "stream",
     "text": [
      "\n"
     ]
    },
    {
     "name": "stdout",
     "output_type": "stream",
     "text": [
      "\n",
      "      Epoch    GPU_mem   box_loss   cls_loss   dfl_loss  Instances       Size\n"
     ]
    },
    {
     "name": "stderr",
     "output_type": "stream",
     "text": [
      "      30/50      8.79G      1.417     0.7671      1.098         73       1280: 100%|██████████| 9/9 [00:02<00:00,  3.59it/s]\n",
      "                 Class     Images  Instances      Box(P          R      mAP50  mAP50-95): 100%|██████████| 1/1 [00:00<00:00,  3.01it/s]"
     ]
    },
    {
     "name": "stdout",
     "output_type": "stream",
     "text": [
      "                   all         30        196      0.753      0.777      0.773      0.382\n"
     ]
    },
    {
     "name": "stderr",
     "output_type": "stream",
     "text": [
      "\n"
     ]
    },
    {
     "name": "stdout",
     "output_type": "stream",
     "text": [
      "\n",
      "      Epoch    GPU_mem   box_loss   cls_loss   dfl_loss  Instances       Size\n"
     ]
    },
    {
     "name": "stderr",
     "output_type": "stream",
     "text": [
      "      31/50      8.79G      1.413     0.7819      1.104        112       1280: 100%|██████████| 9/9 [00:02<00:00,  3.73it/s]\n",
      "                 Class     Images  Instances      Box(P          R      mAP50  mAP50-95): 100%|██████████| 1/1 [00:00<00:00,  3.27it/s]"
     ]
    },
    {
     "name": "stdout",
     "output_type": "stream",
     "text": [
      "                   all         30        196      0.749      0.769      0.755       0.36\n"
     ]
    },
    {
     "name": "stderr",
     "output_type": "stream",
     "text": [
      "\n"
     ]
    },
    {
     "name": "stdout",
     "output_type": "stream",
     "text": [
      "\n",
      "      Epoch    GPU_mem   box_loss   cls_loss   dfl_loss  Instances       Size\n"
     ]
    },
    {
     "name": "stderr",
     "output_type": "stream",
     "text": [
      "      32/50      8.79G      1.407     0.8747      1.169         18       1280: 100%|██████████| 9/9 [00:02<00:00,  3.57it/s]\n",
      "                 Class     Images  Instances      Box(P          R      mAP50  mAP50-95): 100%|██████████| 1/1 [00:00<00:00,  3.05it/s]"
     ]
    },
    {
     "name": "stdout",
     "output_type": "stream",
     "text": [
      "                   all         30        196      0.788      0.756      0.781      0.366\n"
     ]
    },
    {
     "name": "stderr",
     "output_type": "stream",
     "text": [
      "\n"
     ]
    },
    {
     "name": "stdout",
     "output_type": "stream",
     "text": [
      "\n",
      "      Epoch    GPU_mem   box_loss   cls_loss   dfl_loss  Instances       Size\n"
     ]
    },
    {
     "name": "stderr",
     "output_type": "stream",
     "text": [
      "      33/50      8.79G      1.364     0.7669      1.081         49       1280: 100%|██████████| 9/9 [00:02<00:00,  3.37it/s]\n",
      "                 Class     Images  Instances      Box(P          R      mAP50  mAP50-95): 100%|██████████| 1/1 [00:00<00:00,  3.73it/s]"
     ]
    },
    {
     "name": "stdout",
     "output_type": "stream",
     "text": [
      "                   all         30        196      0.763       0.77       0.78      0.372\n"
     ]
    },
    {
     "name": "stderr",
     "output_type": "stream",
     "text": [
      "\n"
     ]
    },
    {
     "name": "stdout",
     "output_type": "stream",
     "text": [
      "\n",
      "      Epoch    GPU_mem   box_loss   cls_loss   dfl_loss  Instances       Size\n"
     ]
    },
    {
     "name": "stderr",
     "output_type": "stream",
     "text": [
      "      34/50      9.29G      1.393     0.7651      1.079        140       1280: 100%|██████████| 9/9 [00:02<00:00,  3.41it/s]\n",
      "                 Class     Images  Instances      Box(P          R      mAP50  mAP50-95): 100%|██████████| 1/1 [00:00<00:00,  3.08it/s]"
     ]
    },
    {
     "name": "stdout",
     "output_type": "stream",
     "text": [
      "                   all         30        196      0.726      0.757      0.748      0.354\n"
     ]
    },
    {
     "name": "stderr",
     "output_type": "stream",
     "text": [
      "\n"
     ]
    },
    {
     "name": "stdout",
     "output_type": "stream",
     "text": [
      "\n",
      "      Epoch    GPU_mem   box_loss   cls_loss   dfl_loss  Instances       Size\n"
     ]
    },
    {
     "name": "stderr",
     "output_type": "stream",
     "text": [
      "      35/50      9.29G      1.356     0.7662      1.115         68       1280: 100%|██████████| 9/9 [00:02<00:00,  3.46it/s]\n",
      "                 Class     Images  Instances      Box(P          R      mAP50  mAP50-95): 100%|██████████| 1/1 [00:00<00:00,  2.98it/s]"
     ]
    },
    {
     "name": "stdout",
     "output_type": "stream",
     "text": [
      "                   all         30        196      0.738      0.748      0.756       0.34\n"
     ]
    },
    {
     "name": "stderr",
     "output_type": "stream",
     "text": [
      "\n"
     ]
    },
    {
     "name": "stdout",
     "output_type": "stream",
     "text": [
      "\n",
      "      Epoch    GPU_mem   box_loss   cls_loss   dfl_loss  Instances       Size\n"
     ]
    },
    {
     "name": "stderr",
     "output_type": "stream",
     "text": [
      "      36/50      9.29G      1.354     0.7421       1.09         47       1280: 100%|██████████| 9/9 [00:02<00:00,  3.50it/s]\n",
      "                 Class     Images  Instances      Box(P          R      mAP50  mAP50-95): 100%|██████████| 1/1 [00:00<00:00,  2.41it/s]"
     ]
    },
    {
     "name": "stdout",
     "output_type": "stream",
     "text": [
      "                   all         30        196      0.794      0.764      0.785      0.373\n"
     ]
    },
    {
     "name": "stderr",
     "output_type": "stream",
     "text": [
      "\n"
     ]
    },
    {
     "name": "stdout",
     "output_type": "stream",
     "text": [
      "\n",
      "      Epoch    GPU_mem   box_loss   cls_loss   dfl_loss  Instances       Size\n"
     ]
    },
    {
     "name": "stderr",
     "output_type": "stream",
     "text": [
      "      37/50      9.29G      1.346      0.736      1.063         42       1280: 100%|██████████| 9/9 [00:02<00:00,  3.60it/s]\n",
      "                 Class     Images  Instances      Box(P          R      mAP50  mAP50-95): 100%|██████████| 1/1 [00:00<00:00,  3.31it/s]"
     ]
    },
    {
     "name": "stdout",
     "output_type": "stream",
     "text": [
      "                   all         30        196       0.78      0.745      0.764      0.362\n"
     ]
    },
    {
     "name": "stderr",
     "output_type": "stream",
     "text": [
      "\n"
     ]
    },
    {
     "name": "stdout",
     "output_type": "stream",
     "text": [
      "\n",
      "      Epoch    GPU_mem   box_loss   cls_loss   dfl_loss  Instances       Size\n"
     ]
    },
    {
     "name": "stderr",
     "output_type": "stream",
     "text": [
      "      38/50      9.29G      1.326     0.7379      1.071         65       1280: 100%|██████████| 9/9 [00:03<00:00,  2.85it/s]\n",
      "                 Class     Images  Instances      Box(P          R      mAP50  mAP50-95): 100%|██████████| 1/1 [00:00<00:00,  2.75it/s]"
     ]
    },
    {
     "name": "stdout",
     "output_type": "stream",
     "text": [
      "                   all         30        196      0.747      0.756      0.757      0.361\n"
     ]
    },
    {
     "name": "stderr",
     "output_type": "stream",
     "text": [
      "\n"
     ]
    },
    {
     "name": "stdout",
     "output_type": "stream",
     "text": [
      "\n",
      "      Epoch    GPU_mem   box_loss   cls_loss   dfl_loss  Instances       Size\n"
     ]
    },
    {
     "name": "stderr",
     "output_type": "stream",
     "text": [
      "      39/50      9.29G      1.358     0.7325      1.105         13       1280: 100%|██████████| 9/9 [00:02<00:00,  3.80it/s]\n",
      "                 Class     Images  Instances      Box(P          R      mAP50  mAP50-95): 100%|██████████| 1/1 [00:00<00:00,  3.34it/s]"
     ]
    },
    {
     "name": "stdout",
     "output_type": "stream",
     "text": [
      "                   all         30        196      0.785       0.76      0.768      0.369\n"
     ]
    },
    {
     "name": "stderr",
     "output_type": "stream",
     "text": [
      "\n"
     ]
    },
    {
     "name": "stdout",
     "output_type": "stream",
     "text": [
      "\n",
      "      Epoch    GPU_mem   box_loss   cls_loss   dfl_loss  Instances       Size\n"
     ]
    },
    {
     "name": "stderr",
     "output_type": "stream",
     "text": [
      "      40/50      9.29G      1.324     0.7423       1.09         70       1280: 100%|██████████| 9/9 [00:02<00:00,  3.46it/s]\n",
      "                 Class     Images  Instances      Box(P          R      mAP50  mAP50-95): 100%|██████████| 1/1 [00:00<00:00,  2.88it/s]"
     ]
    },
    {
     "name": "stdout",
     "output_type": "stream",
     "text": [
      "                   all         30        196      0.764      0.773       0.78      0.372\n"
     ]
    },
    {
     "name": "stderr",
     "output_type": "stream",
     "text": [
      "\n"
     ]
    },
    {
     "name": "stdout",
     "output_type": "stream",
     "text": [
      "Closing dataloader mosaic\n",
      "\n",
      "      Epoch    GPU_mem   box_loss   cls_loss   dfl_loss  Instances       Size\n"
     ]
    },
    {
     "name": "stderr",
     "output_type": "stream",
     "text": [
      "      41/50      9.29G      1.329     0.7539      1.093         22       1280: 100%|██████████| 9/9 [00:07<00:00,  1.14it/s]\n",
      "                 Class     Images  Instances      Box(P          R      mAP50  mAP50-95): 100%|██████████| 1/1 [00:00<00:00,  3.62it/s]"
     ]
    },
    {
     "name": "stdout",
     "output_type": "stream",
     "text": [
      "                   all         30        196      0.759       0.77       0.77      0.364\n"
     ]
    },
    {
     "name": "stderr",
     "output_type": "stream",
     "text": [
      "\n"
     ]
    },
    {
     "name": "stdout",
     "output_type": "stream",
     "text": [
      "\n",
      "      Epoch    GPU_mem   box_loss   cls_loss   dfl_loss  Instances       Size\n"
     ]
    },
    {
     "name": "stderr",
     "output_type": "stream",
     "text": [
      "      42/50      9.29G      1.371      0.798      1.121         14       1280: 100%|██████████| 9/9 [00:05<00:00,  1.72it/s]\n",
      "                 Class     Images  Instances      Box(P          R      mAP50  mAP50-95): 100%|██████████| 1/1 [00:00<00:00,  2.94it/s]"
     ]
    },
    {
     "name": "stdout",
     "output_type": "stream",
     "text": [
      "                   all         30        196      0.777      0.786      0.776      0.364\n"
     ]
    },
    {
     "name": "stderr",
     "output_type": "stream",
     "text": [
      "\n"
     ]
    },
    {
     "name": "stdout",
     "output_type": "stream",
     "text": [
      "\n",
      "      Epoch    GPU_mem   box_loss   cls_loss   dfl_loss  Instances       Size\n"
     ]
    },
    {
     "name": "stderr",
     "output_type": "stream",
     "text": [
      "      43/50      9.29G      1.284     0.7673      1.031         17       1280: 100%|██████████| 9/9 [00:04<00:00,  1.82it/s]\n",
      "                 Class     Images  Instances      Box(P          R      mAP50  mAP50-95): 100%|██████████| 1/1 [00:00<00:00,  4.32it/s]"
     ]
    },
    {
     "name": "stdout",
     "output_type": "stream",
     "text": [
      "                   all         30        196      0.791      0.777      0.785      0.372\n"
     ]
    },
    {
     "name": "stderr",
     "output_type": "stream",
     "text": [
      "\n"
     ]
    },
    {
     "name": "stdout",
     "output_type": "stream",
     "text": [
      "\n",
      "      Epoch    GPU_mem   box_loss   cls_loss   dfl_loss  Instances       Size\n"
     ]
    },
    {
     "name": "stderr",
     "output_type": "stream",
     "text": [
      "      44/50      9.29G       1.29      0.717      1.039         36       1280: 100%|██████████| 9/9 [00:03<00:00,  2.41it/s]\n",
      "                 Class     Images  Instances      Box(P          R      mAP50  mAP50-95): 100%|██████████| 1/1 [00:00<00:00,  2.81it/s]"
     ]
    },
    {
     "name": "stdout",
     "output_type": "stream",
     "text": [
      "                   all         30        196      0.783      0.785      0.785      0.374\n"
     ]
    },
    {
     "name": "stderr",
     "output_type": "stream",
     "text": [
      "\n"
     ]
    },
    {
     "name": "stdout",
     "output_type": "stream",
     "text": [
      "\n",
      "      Epoch    GPU_mem   box_loss   cls_loss   dfl_loss  Instances       Size\n"
     ]
    },
    {
     "name": "stderr",
     "output_type": "stream",
     "text": [
      "      45/50      9.29G      1.344     0.7388      1.072         39       1280: 100%|██████████| 9/9 [00:03<00:00,  2.35it/s]\n",
      "                 Class     Images  Instances      Box(P          R      mAP50  mAP50-95): 100%|██████████| 1/1 [00:00<00:00,  3.24it/s]"
     ]
    },
    {
     "name": "stdout",
     "output_type": "stream",
     "text": [
      "                   all         30        196       0.78      0.777      0.781      0.372\n"
     ]
    },
    {
     "name": "stderr",
     "output_type": "stream",
     "text": [
      "\n"
     ]
    },
    {
     "name": "stdout",
     "output_type": "stream",
     "text": [
      "\n",
      "      Epoch    GPU_mem   box_loss   cls_loss   dfl_loss  Instances       Size\n"
     ]
    },
    {
     "name": "stderr",
     "output_type": "stream",
     "text": [
      "      46/50      9.29G      1.308     0.7353      1.085         27       1280: 100%|██████████| 9/9 [00:02<00:00,  3.86it/s]\n",
      "                 Class     Images  Instances      Box(P          R      mAP50  mAP50-95): 100%|██████████| 1/1 [00:00<00:00,  3.41it/s]"
     ]
    },
    {
     "name": "stdout",
     "output_type": "stream",
     "text": [
      "                   all         30        196      0.766      0.772      0.784      0.365\n"
     ]
    },
    {
     "name": "stderr",
     "output_type": "stream",
     "text": [
      "\n"
     ]
    },
    {
     "name": "stdout",
     "output_type": "stream",
     "text": [
      "\n",
      "      Epoch    GPU_mem   box_loss   cls_loss   dfl_loss  Instances       Size\n"
     ]
    },
    {
     "name": "stderr",
     "output_type": "stream",
     "text": [
      "      47/50      9.29G      1.309     0.7075      1.046         50       1280: 100%|██████████| 9/9 [00:02<00:00,  3.21it/s]\n",
      "                 Class     Images  Instances      Box(P          R      mAP50  mAP50-95): 100%|██████████| 1/1 [00:00<00:00,  3.12it/s]"
     ]
    },
    {
     "name": "stdout",
     "output_type": "stream",
     "text": [
      "                   all         30        196      0.787      0.766      0.787      0.369\n"
     ]
    },
    {
     "name": "stderr",
     "output_type": "stream",
     "text": [
      "\n"
     ]
    },
    {
     "name": "stdout",
     "output_type": "stream",
     "text": [
      "\n",
      "      Epoch    GPU_mem   box_loss   cls_loss   dfl_loss  Instances       Size\n"
     ]
    },
    {
     "name": "stderr",
     "output_type": "stream",
     "text": [
      "      48/50      9.29G      1.316     0.7188      1.086         38       1280: 100%|██████████| 9/9 [00:03<00:00,  2.95it/s]\n",
      "                 Class     Images  Instances      Box(P          R      mAP50  mAP50-95): 100%|██████████| 1/1 [00:00<00:00,  2.88it/s]"
     ]
    },
    {
     "name": "stdout",
     "output_type": "stream",
     "text": [
      "                   all         30        196       0.76      0.777      0.788      0.374\n"
     ]
    },
    {
     "name": "stderr",
     "output_type": "stream",
     "text": [
      "\n"
     ]
    },
    {
     "name": "stdout",
     "output_type": "stream",
     "text": [
      "\n",
      "      Epoch    GPU_mem   box_loss   cls_loss   dfl_loss  Instances       Size\n"
     ]
    },
    {
     "name": "stderr",
     "output_type": "stream",
     "text": [
      "      49/50      9.29G      1.283     0.7015      1.057         45       1280: 100%|██████████| 9/9 [00:02<00:00,  3.04it/s]\n",
      "                 Class     Images  Instances      Box(P          R      mAP50  mAP50-95): 100%|██████████| 1/1 [00:00<00:00,  3.19it/s]"
     ]
    },
    {
     "name": "stdout",
     "output_type": "stream",
     "text": [
      "                   all         30        196       0.77      0.773      0.787      0.371\n"
     ]
    },
    {
     "name": "stderr",
     "output_type": "stream",
     "text": [
      "\n"
     ]
    },
    {
     "name": "stdout",
     "output_type": "stream",
     "text": [
      "\n",
      "      Epoch    GPU_mem   box_loss   cls_loss   dfl_loss  Instances       Size\n"
     ]
    },
    {
     "name": "stderr",
     "output_type": "stream",
     "text": [
      "      50/50      9.29G      1.323      0.737      1.088         21       1280: 100%|██████████| 9/9 [00:02<00:00,  3.83it/s]\n",
      "                 Class     Images  Instances      Box(P          R      mAP50  mAP50-95): 100%|██████████| 1/1 [00:00<00:00,  2.85it/s]"
     ]
    },
    {
     "name": "stdout",
     "output_type": "stream",
     "text": [
      "                   all         30        196      0.765      0.773      0.787      0.371\n"
     ]
    },
    {
     "name": "stderr",
     "output_type": "stream",
     "text": [
      "\n"
     ]
    },
    {
     "name": "stdout",
     "output_type": "stream",
     "text": [
      "\n",
      "50 epochs completed in 0.058 hours.\n",
      "Optimizer stripped from runs/detect/train/weights/last.pt, 6.4MB\n",
      "Optimizer stripped from runs/detect/train/weights/best.pt, 6.4MB\n",
      "\n",
      "Validating runs/detect/train/weights/best.pt...\n",
      "Ultralytics 8.3.117 🚀 Python-3.10.14 torch-2.2.2 CUDA:0 (NVIDIA A10G, 22503MiB)\n",
      "Model summary (fused): 72 layers, 3,006,038 parameters, 0 gradients, 8.1 GFLOPs\n"
     ]
    },
    {
     "name": "stderr",
     "output_type": "stream",
     "text": [
      "                 Class     Images  Instances      Box(P          R      mAP50  mAP50-95): 100%|██████████| 1/1 [00:00<00:00,  4.35it/s]\n"
     ]
    },
    {
     "name": "stdout",
     "output_type": "stream",
     "text": [
      "                   all         30        196      0.753      0.777      0.773      0.382\n",
      "               barcode         13        119      0.614       0.58      0.556      0.163\n",
      "               pallets         22         77      0.892      0.974      0.989      0.601\n",
      "Speed: 0.4ms preprocess, 2.4ms inference, 0.0ms loss, 1.0ms postprocess per image\n",
      "Results saved to \u001b[1mruns/detect/train\u001b[0m\n"
     ]
    },
    {
     "data": {
      "text/plain": [
       "ultralytics.utils.metrics.DetMetrics object with attributes:\n",
       "\n",
       "ap_class_index: array([0, 1])\n",
       "box: ultralytics.utils.metrics.Metric object\n",
       "confusion_matrix: <ultralytics.utils.metrics.ConfusionMatrix object at 0x7fe1200d6bc0>\n",
       "curves: ['Precision-Recall(B)', 'F1-Confidence(B)', 'Precision-Confidence(B)', 'Recall-Confidence(B)']\n",
       "curves_results: [[array([          0,    0.001001,    0.002002,    0.003003,    0.004004,    0.005005,    0.006006,    0.007007,    0.008008,    0.009009,     0.01001,    0.011011,    0.012012,    0.013013,    0.014014,    0.015015,    0.016016,    0.017017,    0.018018,    0.019019,     0.02002,    0.021021,    0.022022,    0.023023,\n",
       "          0.024024,    0.025025,    0.026026,    0.027027,    0.028028,    0.029029,     0.03003,    0.031031,    0.032032,    0.033033,    0.034034,    0.035035,    0.036036,    0.037037,    0.038038,    0.039039,     0.04004,    0.041041,    0.042042,    0.043043,    0.044044,    0.045045,    0.046046,    0.047047,\n",
       "          0.048048,    0.049049,     0.05005,    0.051051,    0.052052,    0.053053,    0.054054,    0.055055,    0.056056,    0.057057,    0.058058,    0.059059,     0.06006,    0.061061,    0.062062,    0.063063,    0.064064,    0.065065,    0.066066,    0.067067,    0.068068,    0.069069,     0.07007,    0.071071,\n",
       "          0.072072,    0.073073,    0.074074,    0.075075,    0.076076,    0.077077,    0.078078,    0.079079,     0.08008,    0.081081,    0.082082,    0.083083,    0.084084,    0.085085,    0.086086,    0.087087,    0.088088,    0.089089,     0.09009,    0.091091,    0.092092,    0.093093,    0.094094,    0.095095,\n",
       "          0.096096,    0.097097,    0.098098,    0.099099,      0.1001,      0.1011,      0.1021,      0.1031,      0.1041,     0.10511,     0.10611,     0.10711,     0.10811,     0.10911,     0.11011,     0.11111,     0.11211,     0.11311,     0.11411,     0.11512,     0.11612,     0.11712,     0.11812,     0.11912,\n",
       "           0.12012,     0.12112,     0.12212,     0.12312,     0.12412,     0.12513,     0.12613,     0.12713,     0.12813,     0.12913,     0.13013,     0.13113,     0.13213,     0.13313,     0.13413,     0.13514,     0.13614,     0.13714,     0.13814,     0.13914,     0.14014,     0.14114,     0.14214,     0.14314,\n",
       "           0.14414,     0.14515,     0.14615,     0.14715,     0.14815,     0.14915,     0.15015,     0.15115,     0.15215,     0.15315,     0.15415,     0.15516,     0.15616,     0.15716,     0.15816,     0.15916,     0.16016,     0.16116,     0.16216,     0.16316,     0.16416,     0.16517,     0.16617,     0.16717,\n",
       "           0.16817,     0.16917,     0.17017,     0.17117,     0.17217,     0.17317,     0.17417,     0.17518,     0.17618,     0.17718,     0.17818,     0.17918,     0.18018,     0.18118,     0.18218,     0.18318,     0.18418,     0.18519,     0.18619,     0.18719,     0.18819,     0.18919,     0.19019,     0.19119,\n",
       "           0.19219,     0.19319,     0.19419,      0.1952,      0.1962,      0.1972,      0.1982,      0.1992,      0.2002,      0.2012,      0.2022,      0.2032,      0.2042,     0.20521,     0.20621,     0.20721,     0.20821,     0.20921,     0.21021,     0.21121,     0.21221,     0.21321,     0.21421,     0.21522,\n",
       "           0.21622,     0.21722,     0.21822,     0.21922,     0.22022,     0.22122,     0.22222,     0.22322,     0.22422,     0.22523,     0.22623,     0.22723,     0.22823,     0.22923,     0.23023,     0.23123,     0.23223,     0.23323,     0.23423,     0.23524,     0.23624,     0.23724,     0.23824,     0.23924,\n",
       "           0.24024,     0.24124,     0.24224,     0.24324,     0.24424,     0.24525,     0.24625,     0.24725,     0.24825,     0.24925,     0.25025,     0.25125,     0.25225,     0.25325,     0.25425,     0.25526,     0.25626,     0.25726,     0.25826,     0.25926,     0.26026,     0.26126,     0.26226,     0.26326,\n",
       "           0.26426,     0.26527,     0.26627,     0.26727,     0.26827,     0.26927,     0.27027,     0.27127,     0.27227,     0.27327,     0.27427,     0.27528,     0.27628,     0.27728,     0.27828,     0.27928,     0.28028,     0.28128,     0.28228,     0.28328,     0.28428,     0.28529,     0.28629,     0.28729,\n",
       "           0.28829,     0.28929,     0.29029,     0.29129,     0.29229,     0.29329,     0.29429,      0.2953,      0.2963,      0.2973,      0.2983,      0.2993,      0.3003,      0.3013,      0.3023,      0.3033,      0.3043,     0.30531,     0.30631,     0.30731,     0.30831,     0.30931,     0.31031,     0.31131,\n",
       "           0.31231,     0.31331,     0.31431,     0.31532,     0.31632,     0.31732,     0.31832,     0.31932,     0.32032,     0.32132,     0.32232,     0.32332,     0.32432,     0.32533,     0.32633,     0.32733,     0.32833,     0.32933,     0.33033,     0.33133,     0.33233,     0.33333,     0.33433,     0.33534,\n",
       "           0.33634,     0.33734,     0.33834,     0.33934,     0.34034,     0.34134,     0.34234,     0.34334,     0.34434,     0.34535,     0.34635,     0.34735,     0.34835,     0.34935,     0.35035,     0.35135,     0.35235,     0.35335,     0.35435,     0.35536,     0.35636,     0.35736,     0.35836,     0.35936,\n",
       "           0.36036,     0.36136,     0.36236,     0.36336,     0.36436,     0.36537,     0.36637,     0.36737,     0.36837,     0.36937,     0.37037,     0.37137,     0.37237,     0.37337,     0.37437,     0.37538,     0.37638,     0.37738,     0.37838,     0.37938,     0.38038,     0.38138,     0.38238,     0.38338,\n",
       "           0.38438,     0.38539,     0.38639,     0.38739,     0.38839,     0.38939,     0.39039,     0.39139,     0.39239,     0.39339,     0.39439,      0.3954,      0.3964,      0.3974,      0.3984,      0.3994,      0.4004,      0.4014,      0.4024,      0.4034,      0.4044,     0.40541,     0.40641,     0.40741,\n",
       "           0.40841,     0.40941,     0.41041,     0.41141,     0.41241,     0.41341,     0.41441,     0.41542,     0.41642,     0.41742,     0.41842,     0.41942,     0.42042,     0.42142,     0.42242,     0.42342,     0.42442,     0.42543,     0.42643,     0.42743,     0.42843,     0.42943,     0.43043,     0.43143,\n",
       "           0.43243,     0.43343,     0.43443,     0.43544,     0.43644,     0.43744,     0.43844,     0.43944,     0.44044,     0.44144,     0.44244,     0.44344,     0.44444,     0.44545,     0.44645,     0.44745,     0.44845,     0.44945,     0.45045,     0.45145,     0.45245,     0.45345,     0.45445,     0.45546,\n",
       "           0.45646,     0.45746,     0.45846,     0.45946,     0.46046,     0.46146,     0.46246,     0.46346,     0.46446,     0.46547,     0.46647,     0.46747,     0.46847,     0.46947,     0.47047,     0.47147,     0.47247,     0.47347,     0.47447,     0.47548,     0.47648,     0.47748,     0.47848,     0.47948,\n",
       "           0.48048,     0.48148,     0.48248,     0.48348,     0.48448,     0.48549,     0.48649,     0.48749,     0.48849,     0.48949,     0.49049,     0.49149,     0.49249,     0.49349,     0.49449,      0.4955,      0.4965,      0.4975,      0.4985,      0.4995,      0.5005,      0.5015,      0.5025,      0.5035,\n",
       "            0.5045,     0.50551,     0.50651,     0.50751,     0.50851,     0.50951,     0.51051,     0.51151,     0.51251,     0.51351,     0.51451,     0.51552,     0.51652,     0.51752,     0.51852,     0.51952,     0.52052,     0.52152,     0.52252,     0.52352,     0.52452,     0.52553,     0.52653,     0.52753,\n",
       "           0.52853,     0.52953,     0.53053,     0.53153,     0.53253,     0.53353,     0.53453,     0.53554,     0.53654,     0.53754,     0.53854,     0.53954,     0.54054,     0.54154,     0.54254,     0.54354,     0.54454,     0.54555,     0.54655,     0.54755,     0.54855,     0.54955,     0.55055,     0.55155,\n",
       "           0.55255,     0.55355,     0.55455,     0.55556,     0.55656,     0.55756,     0.55856,     0.55956,     0.56056,     0.56156,     0.56256,     0.56356,     0.56456,     0.56557,     0.56657,     0.56757,     0.56857,     0.56957,     0.57057,     0.57157,     0.57257,     0.57357,     0.57457,     0.57558,\n",
       "           0.57658,     0.57758,     0.57858,     0.57958,     0.58058,     0.58158,     0.58258,     0.58358,     0.58458,     0.58559,     0.58659,     0.58759,     0.58859,     0.58959,     0.59059,     0.59159,     0.59259,     0.59359,     0.59459,      0.5956,      0.5966,      0.5976,      0.5986,      0.5996,\n",
       "            0.6006,      0.6016,      0.6026,      0.6036,      0.6046,     0.60561,     0.60661,     0.60761,     0.60861,     0.60961,     0.61061,     0.61161,     0.61261,     0.61361,     0.61461,     0.61562,     0.61662,     0.61762,     0.61862,     0.61962,     0.62062,     0.62162,     0.62262,     0.62362,\n",
       "           0.62462,     0.62563,     0.62663,     0.62763,     0.62863,     0.62963,     0.63063,     0.63163,     0.63263,     0.63363,     0.63463,     0.63564,     0.63664,     0.63764,     0.63864,     0.63964,     0.64064,     0.64164,     0.64264,     0.64364,     0.64464,     0.64565,     0.64665,     0.64765,\n",
       "           0.64865,     0.64965,     0.65065,     0.65165,     0.65265,     0.65365,     0.65465,     0.65566,     0.65666,     0.65766,     0.65866,     0.65966,     0.66066,     0.66166,     0.66266,     0.66366,     0.66466,     0.66567,     0.66667,     0.66767,     0.66867,     0.66967,     0.67067,     0.67167,\n",
       "           0.67267,     0.67367,     0.67467,     0.67568,     0.67668,     0.67768,     0.67868,     0.67968,     0.68068,     0.68168,     0.68268,     0.68368,     0.68468,     0.68569,     0.68669,     0.68769,     0.68869,     0.68969,     0.69069,     0.69169,     0.69269,     0.69369,     0.69469,      0.6957,\n",
       "            0.6967,      0.6977,      0.6987,      0.6997,      0.7007,      0.7017,      0.7027,      0.7037,      0.7047,     0.70571,     0.70671,     0.70771,     0.70871,     0.70971,     0.71071,     0.71171,     0.71271,     0.71371,     0.71471,     0.71572,     0.71672,     0.71772,     0.71872,     0.71972,\n",
       "           0.72072,     0.72172,     0.72272,     0.72372,     0.72472,     0.72573,     0.72673,     0.72773,     0.72873,     0.72973,     0.73073,     0.73173,     0.73273,     0.73373,     0.73473,     0.73574,     0.73674,     0.73774,     0.73874,     0.73974,     0.74074,     0.74174,     0.74274,     0.74374,\n",
       "           0.74474,     0.74575,     0.74675,     0.74775,     0.74875,     0.74975,     0.75075,     0.75175,     0.75275,     0.75375,     0.75475,     0.75576,     0.75676,     0.75776,     0.75876,     0.75976,     0.76076,     0.76176,     0.76276,     0.76376,     0.76476,     0.76577,     0.76677,     0.76777,\n",
       "           0.76877,     0.76977,     0.77077,     0.77177,     0.77277,     0.77377,     0.77477,     0.77578,     0.77678,     0.77778,     0.77878,     0.77978,     0.78078,     0.78178,     0.78278,     0.78378,     0.78478,     0.78579,     0.78679,     0.78779,     0.78879,     0.78979,     0.79079,     0.79179,\n",
       "           0.79279,     0.79379,     0.79479,      0.7958,      0.7968,      0.7978,      0.7988,      0.7998,      0.8008,      0.8018,      0.8028,      0.8038,      0.8048,     0.80581,     0.80681,     0.80781,     0.80881,     0.80981,     0.81081,     0.81181,     0.81281,     0.81381,     0.81481,     0.81582,\n",
       "           0.81682,     0.81782,     0.81882,     0.81982,     0.82082,     0.82182,     0.82282,     0.82382,     0.82482,     0.82583,     0.82683,     0.82783,     0.82883,     0.82983,     0.83083,     0.83183,     0.83283,     0.83383,     0.83483,     0.83584,     0.83684,     0.83784,     0.83884,     0.83984,\n",
       "           0.84084,     0.84184,     0.84284,     0.84384,     0.84484,     0.84585,     0.84685,     0.84785,     0.84885,     0.84985,     0.85085,     0.85185,     0.85285,     0.85385,     0.85485,     0.85586,     0.85686,     0.85786,     0.85886,     0.85986,     0.86086,     0.86186,     0.86286,     0.86386,\n",
       "           0.86486,     0.86587,     0.86687,     0.86787,     0.86887,     0.86987,     0.87087,     0.87187,     0.87287,     0.87387,     0.87487,     0.87588,     0.87688,     0.87788,     0.87888,     0.87988,     0.88088,     0.88188,     0.88288,     0.88388,     0.88488,     0.88589,     0.88689,     0.88789,\n",
       "           0.88889,     0.88989,     0.89089,     0.89189,     0.89289,     0.89389,     0.89489,      0.8959,      0.8969,      0.8979,      0.8989,      0.8999,      0.9009,      0.9019,      0.9029,      0.9039,      0.9049,     0.90591,     0.90691,     0.90791,     0.90891,     0.90991,     0.91091,     0.91191,\n",
       "           0.91291,     0.91391,     0.91491,     0.91592,     0.91692,     0.91792,     0.91892,     0.91992,     0.92092,     0.92192,     0.92292,     0.92392,     0.92492,     0.92593,     0.92693,     0.92793,     0.92893,     0.92993,     0.93093,     0.93193,     0.93293,     0.93393,     0.93493,     0.93594,\n",
       "           0.93694,     0.93794,     0.93894,     0.93994,     0.94094,     0.94194,     0.94294,     0.94394,     0.94494,     0.94595,     0.94695,     0.94795,     0.94895,     0.94995,     0.95095,     0.95195,     0.95295,     0.95395,     0.95495,     0.95596,     0.95696,     0.95796,     0.95896,     0.95996,\n",
       "           0.96096,     0.96196,     0.96296,     0.96396,     0.96496,     0.96597,     0.96697,     0.96797,     0.96897,     0.96997,     0.97097,     0.97197,     0.97297,     0.97397,     0.97497,     0.97598,     0.97698,     0.97798,     0.97898,     0.97998,     0.98098,     0.98198,     0.98298,     0.98398,\n",
       "           0.98498,     0.98599,     0.98699,     0.98799,     0.98899,     0.98999,     0.99099,     0.99199,     0.99299,     0.99399,     0.99499,       0.996,       0.997,       0.998,       0.999,           1]), array([[          1,           1,           1, ...,  0.00087875,  0.00043937,           0],\n",
       "       [          1,           1,           1, ...,     0.66957,     0.66957,           0]]), 'Recall', 'Precision'], [array([          0,    0.001001,    0.002002,    0.003003,    0.004004,    0.005005,    0.006006,    0.007007,    0.008008,    0.009009,     0.01001,    0.011011,    0.012012,    0.013013,    0.014014,    0.015015,    0.016016,    0.017017,    0.018018,    0.019019,     0.02002,    0.021021,    0.022022,    0.023023,\n",
       "          0.024024,    0.025025,    0.026026,    0.027027,    0.028028,    0.029029,     0.03003,    0.031031,    0.032032,    0.033033,    0.034034,    0.035035,    0.036036,    0.037037,    0.038038,    0.039039,     0.04004,    0.041041,    0.042042,    0.043043,    0.044044,    0.045045,    0.046046,    0.047047,\n",
       "          0.048048,    0.049049,     0.05005,    0.051051,    0.052052,    0.053053,    0.054054,    0.055055,    0.056056,    0.057057,    0.058058,    0.059059,     0.06006,    0.061061,    0.062062,    0.063063,    0.064064,    0.065065,    0.066066,    0.067067,    0.068068,    0.069069,     0.07007,    0.071071,\n",
       "          0.072072,    0.073073,    0.074074,    0.075075,    0.076076,    0.077077,    0.078078,    0.079079,     0.08008,    0.081081,    0.082082,    0.083083,    0.084084,    0.085085,    0.086086,    0.087087,    0.088088,    0.089089,     0.09009,    0.091091,    0.092092,    0.093093,    0.094094,    0.095095,\n",
       "          0.096096,    0.097097,    0.098098,    0.099099,      0.1001,      0.1011,      0.1021,      0.1031,      0.1041,     0.10511,     0.10611,     0.10711,     0.10811,     0.10911,     0.11011,     0.11111,     0.11211,     0.11311,     0.11411,     0.11512,     0.11612,     0.11712,     0.11812,     0.11912,\n",
       "           0.12012,     0.12112,     0.12212,     0.12312,     0.12412,     0.12513,     0.12613,     0.12713,     0.12813,     0.12913,     0.13013,     0.13113,     0.13213,     0.13313,     0.13413,     0.13514,     0.13614,     0.13714,     0.13814,     0.13914,     0.14014,     0.14114,     0.14214,     0.14314,\n",
       "           0.14414,     0.14515,     0.14615,     0.14715,     0.14815,     0.14915,     0.15015,     0.15115,     0.15215,     0.15315,     0.15415,     0.15516,     0.15616,     0.15716,     0.15816,     0.15916,     0.16016,     0.16116,     0.16216,     0.16316,     0.16416,     0.16517,     0.16617,     0.16717,\n",
       "           0.16817,     0.16917,     0.17017,     0.17117,     0.17217,     0.17317,     0.17417,     0.17518,     0.17618,     0.17718,     0.17818,     0.17918,     0.18018,     0.18118,     0.18218,     0.18318,     0.18418,     0.18519,     0.18619,     0.18719,     0.18819,     0.18919,     0.19019,     0.19119,\n",
       "           0.19219,     0.19319,     0.19419,      0.1952,      0.1962,      0.1972,      0.1982,      0.1992,      0.2002,      0.2012,      0.2022,      0.2032,      0.2042,     0.20521,     0.20621,     0.20721,     0.20821,     0.20921,     0.21021,     0.21121,     0.21221,     0.21321,     0.21421,     0.21522,\n",
       "           0.21622,     0.21722,     0.21822,     0.21922,     0.22022,     0.22122,     0.22222,     0.22322,     0.22422,     0.22523,     0.22623,     0.22723,     0.22823,     0.22923,     0.23023,     0.23123,     0.23223,     0.23323,     0.23423,     0.23524,     0.23624,     0.23724,     0.23824,     0.23924,\n",
       "           0.24024,     0.24124,     0.24224,     0.24324,     0.24424,     0.24525,     0.24625,     0.24725,     0.24825,     0.24925,     0.25025,     0.25125,     0.25225,     0.25325,     0.25425,     0.25526,     0.25626,     0.25726,     0.25826,     0.25926,     0.26026,     0.26126,     0.26226,     0.26326,\n",
       "           0.26426,     0.26527,     0.26627,     0.26727,     0.26827,     0.26927,     0.27027,     0.27127,     0.27227,     0.27327,     0.27427,     0.27528,     0.27628,     0.27728,     0.27828,     0.27928,     0.28028,     0.28128,     0.28228,     0.28328,     0.28428,     0.28529,     0.28629,     0.28729,\n",
       "           0.28829,     0.28929,     0.29029,     0.29129,     0.29229,     0.29329,     0.29429,      0.2953,      0.2963,      0.2973,      0.2983,      0.2993,      0.3003,      0.3013,      0.3023,      0.3033,      0.3043,     0.30531,     0.30631,     0.30731,     0.30831,     0.30931,     0.31031,     0.31131,\n",
       "           0.31231,     0.31331,     0.31431,     0.31532,     0.31632,     0.31732,     0.31832,     0.31932,     0.32032,     0.32132,     0.32232,     0.32332,     0.32432,     0.32533,     0.32633,     0.32733,     0.32833,     0.32933,     0.33033,     0.33133,     0.33233,     0.33333,     0.33433,     0.33534,\n",
       "           0.33634,     0.33734,     0.33834,     0.33934,     0.34034,     0.34134,     0.34234,     0.34334,     0.34434,     0.34535,     0.34635,     0.34735,     0.34835,     0.34935,     0.35035,     0.35135,     0.35235,     0.35335,     0.35435,     0.35536,     0.35636,     0.35736,     0.35836,     0.35936,\n",
       "           0.36036,     0.36136,     0.36236,     0.36336,     0.36436,     0.36537,     0.36637,     0.36737,     0.36837,     0.36937,     0.37037,     0.37137,     0.37237,     0.37337,     0.37437,     0.37538,     0.37638,     0.37738,     0.37838,     0.37938,     0.38038,     0.38138,     0.38238,     0.38338,\n",
       "           0.38438,     0.38539,     0.38639,     0.38739,     0.38839,     0.38939,     0.39039,     0.39139,     0.39239,     0.39339,     0.39439,      0.3954,      0.3964,      0.3974,      0.3984,      0.3994,      0.4004,      0.4014,      0.4024,      0.4034,      0.4044,     0.40541,     0.40641,     0.40741,\n",
       "           0.40841,     0.40941,     0.41041,     0.41141,     0.41241,     0.41341,     0.41441,     0.41542,     0.41642,     0.41742,     0.41842,     0.41942,     0.42042,     0.42142,     0.42242,     0.42342,     0.42442,     0.42543,     0.42643,     0.42743,     0.42843,     0.42943,     0.43043,     0.43143,\n",
       "           0.43243,     0.43343,     0.43443,     0.43544,     0.43644,     0.43744,     0.43844,     0.43944,     0.44044,     0.44144,     0.44244,     0.44344,     0.44444,     0.44545,     0.44645,     0.44745,     0.44845,     0.44945,     0.45045,     0.45145,     0.45245,     0.45345,     0.45445,     0.45546,\n",
       "           0.45646,     0.45746,     0.45846,     0.45946,     0.46046,     0.46146,     0.46246,     0.46346,     0.46446,     0.46547,     0.46647,     0.46747,     0.46847,     0.46947,     0.47047,     0.47147,     0.47247,     0.47347,     0.47447,     0.47548,     0.47648,     0.47748,     0.47848,     0.47948,\n",
       "           0.48048,     0.48148,     0.48248,     0.48348,     0.48448,     0.48549,     0.48649,     0.48749,     0.48849,     0.48949,     0.49049,     0.49149,     0.49249,     0.49349,     0.49449,      0.4955,      0.4965,      0.4975,      0.4985,      0.4995,      0.5005,      0.5015,      0.5025,      0.5035,\n",
       "            0.5045,     0.50551,     0.50651,     0.50751,     0.50851,     0.50951,     0.51051,     0.51151,     0.51251,     0.51351,     0.51451,     0.51552,     0.51652,     0.51752,     0.51852,     0.51952,     0.52052,     0.52152,     0.52252,     0.52352,     0.52452,     0.52553,     0.52653,     0.52753,\n",
       "           0.52853,     0.52953,     0.53053,     0.53153,     0.53253,     0.53353,     0.53453,     0.53554,     0.53654,     0.53754,     0.53854,     0.53954,     0.54054,     0.54154,     0.54254,     0.54354,     0.54454,     0.54555,     0.54655,     0.54755,     0.54855,     0.54955,     0.55055,     0.55155,\n",
       "           0.55255,     0.55355,     0.55455,     0.55556,     0.55656,     0.55756,     0.55856,     0.55956,     0.56056,     0.56156,     0.56256,     0.56356,     0.56456,     0.56557,     0.56657,     0.56757,     0.56857,     0.56957,     0.57057,     0.57157,     0.57257,     0.57357,     0.57457,     0.57558,\n",
       "           0.57658,     0.57758,     0.57858,     0.57958,     0.58058,     0.58158,     0.58258,     0.58358,     0.58458,     0.58559,     0.58659,     0.58759,     0.58859,     0.58959,     0.59059,     0.59159,     0.59259,     0.59359,     0.59459,      0.5956,      0.5966,      0.5976,      0.5986,      0.5996,\n",
       "            0.6006,      0.6016,      0.6026,      0.6036,      0.6046,     0.60561,     0.60661,     0.60761,     0.60861,     0.60961,     0.61061,     0.61161,     0.61261,     0.61361,     0.61461,     0.61562,     0.61662,     0.61762,     0.61862,     0.61962,     0.62062,     0.62162,     0.62262,     0.62362,\n",
       "           0.62462,     0.62563,     0.62663,     0.62763,     0.62863,     0.62963,     0.63063,     0.63163,     0.63263,     0.63363,     0.63463,     0.63564,     0.63664,     0.63764,     0.63864,     0.63964,     0.64064,     0.64164,     0.64264,     0.64364,     0.64464,     0.64565,     0.64665,     0.64765,\n",
       "           0.64865,     0.64965,     0.65065,     0.65165,     0.65265,     0.65365,     0.65465,     0.65566,     0.65666,     0.65766,     0.65866,     0.65966,     0.66066,     0.66166,     0.66266,     0.66366,     0.66466,     0.66567,     0.66667,     0.66767,     0.66867,     0.66967,     0.67067,     0.67167,\n",
       "           0.67267,     0.67367,     0.67467,     0.67568,     0.67668,     0.67768,     0.67868,     0.67968,     0.68068,     0.68168,     0.68268,     0.68368,     0.68468,     0.68569,     0.68669,     0.68769,     0.68869,     0.68969,     0.69069,     0.69169,     0.69269,     0.69369,     0.69469,      0.6957,\n",
       "            0.6967,      0.6977,      0.6987,      0.6997,      0.7007,      0.7017,      0.7027,      0.7037,      0.7047,     0.70571,     0.70671,     0.70771,     0.70871,     0.70971,     0.71071,     0.71171,     0.71271,     0.71371,     0.71471,     0.71572,     0.71672,     0.71772,     0.71872,     0.71972,\n",
       "           0.72072,     0.72172,     0.72272,     0.72372,     0.72472,     0.72573,     0.72673,     0.72773,     0.72873,     0.72973,     0.73073,     0.73173,     0.73273,     0.73373,     0.73473,     0.73574,     0.73674,     0.73774,     0.73874,     0.73974,     0.74074,     0.74174,     0.74274,     0.74374,\n",
       "           0.74474,     0.74575,     0.74675,     0.74775,     0.74875,     0.74975,     0.75075,     0.75175,     0.75275,     0.75375,     0.75475,     0.75576,     0.75676,     0.75776,     0.75876,     0.75976,     0.76076,     0.76176,     0.76276,     0.76376,     0.76476,     0.76577,     0.76677,     0.76777,\n",
       "           0.76877,     0.76977,     0.77077,     0.77177,     0.77277,     0.77377,     0.77477,     0.77578,     0.77678,     0.77778,     0.77878,     0.77978,     0.78078,     0.78178,     0.78278,     0.78378,     0.78478,     0.78579,     0.78679,     0.78779,     0.78879,     0.78979,     0.79079,     0.79179,\n",
       "           0.79279,     0.79379,     0.79479,      0.7958,      0.7968,      0.7978,      0.7988,      0.7998,      0.8008,      0.8018,      0.8028,      0.8038,      0.8048,     0.80581,     0.80681,     0.80781,     0.80881,     0.80981,     0.81081,     0.81181,     0.81281,     0.81381,     0.81481,     0.81582,\n",
       "           0.81682,     0.81782,     0.81882,     0.81982,     0.82082,     0.82182,     0.82282,     0.82382,     0.82482,     0.82583,     0.82683,     0.82783,     0.82883,     0.82983,     0.83083,     0.83183,     0.83283,     0.83383,     0.83483,     0.83584,     0.83684,     0.83784,     0.83884,     0.83984,\n",
       "           0.84084,     0.84184,     0.84284,     0.84384,     0.84484,     0.84585,     0.84685,     0.84785,     0.84885,     0.84985,     0.85085,     0.85185,     0.85285,     0.85385,     0.85485,     0.85586,     0.85686,     0.85786,     0.85886,     0.85986,     0.86086,     0.86186,     0.86286,     0.86386,\n",
       "           0.86486,     0.86587,     0.86687,     0.86787,     0.86887,     0.86987,     0.87087,     0.87187,     0.87287,     0.87387,     0.87487,     0.87588,     0.87688,     0.87788,     0.87888,     0.87988,     0.88088,     0.88188,     0.88288,     0.88388,     0.88488,     0.88589,     0.88689,     0.88789,\n",
       "           0.88889,     0.88989,     0.89089,     0.89189,     0.89289,     0.89389,     0.89489,      0.8959,      0.8969,      0.8979,      0.8989,      0.8999,      0.9009,      0.9019,      0.9029,      0.9039,      0.9049,     0.90591,     0.90691,     0.90791,     0.90891,     0.90991,     0.91091,     0.91191,\n",
       "           0.91291,     0.91391,     0.91491,     0.91592,     0.91692,     0.91792,     0.91892,     0.91992,     0.92092,     0.92192,     0.92292,     0.92392,     0.92492,     0.92593,     0.92693,     0.92793,     0.92893,     0.92993,     0.93093,     0.93193,     0.93293,     0.93393,     0.93493,     0.93594,\n",
       "           0.93694,     0.93794,     0.93894,     0.93994,     0.94094,     0.94194,     0.94294,     0.94394,     0.94494,     0.94595,     0.94695,     0.94795,     0.94895,     0.94995,     0.95095,     0.95195,     0.95295,     0.95395,     0.95495,     0.95596,     0.95696,     0.95796,     0.95896,     0.95996,\n",
       "           0.96096,     0.96196,     0.96296,     0.96396,     0.96496,     0.96597,     0.96697,     0.96797,     0.96897,     0.96997,     0.97097,     0.97197,     0.97297,     0.97397,     0.97497,     0.97598,     0.97698,     0.97798,     0.97898,     0.97998,     0.98098,     0.98198,     0.98298,     0.98398,\n",
       "           0.98498,     0.98599,     0.98699,     0.98799,     0.98899,     0.98999,     0.99099,     0.99199,     0.99299,     0.99399,     0.99499,       0.996,       0.997,       0.998,       0.999,           1]), array([[    0.13552,     0.13552,     0.18214, ...,           0,           0,           0],\n",
       "       [   0.068232,    0.068232,     0.15307, ...,           0,           0,           0]]), 'Confidence', 'F1'], [array([          0,    0.001001,    0.002002,    0.003003,    0.004004,    0.005005,    0.006006,    0.007007,    0.008008,    0.009009,     0.01001,    0.011011,    0.012012,    0.013013,    0.014014,    0.015015,    0.016016,    0.017017,    0.018018,    0.019019,     0.02002,    0.021021,    0.022022,    0.023023,\n",
       "          0.024024,    0.025025,    0.026026,    0.027027,    0.028028,    0.029029,     0.03003,    0.031031,    0.032032,    0.033033,    0.034034,    0.035035,    0.036036,    0.037037,    0.038038,    0.039039,     0.04004,    0.041041,    0.042042,    0.043043,    0.044044,    0.045045,    0.046046,    0.047047,\n",
       "          0.048048,    0.049049,     0.05005,    0.051051,    0.052052,    0.053053,    0.054054,    0.055055,    0.056056,    0.057057,    0.058058,    0.059059,     0.06006,    0.061061,    0.062062,    0.063063,    0.064064,    0.065065,    0.066066,    0.067067,    0.068068,    0.069069,     0.07007,    0.071071,\n",
       "          0.072072,    0.073073,    0.074074,    0.075075,    0.076076,    0.077077,    0.078078,    0.079079,     0.08008,    0.081081,    0.082082,    0.083083,    0.084084,    0.085085,    0.086086,    0.087087,    0.088088,    0.089089,     0.09009,    0.091091,    0.092092,    0.093093,    0.094094,    0.095095,\n",
       "          0.096096,    0.097097,    0.098098,    0.099099,      0.1001,      0.1011,      0.1021,      0.1031,      0.1041,     0.10511,     0.10611,     0.10711,     0.10811,     0.10911,     0.11011,     0.11111,     0.11211,     0.11311,     0.11411,     0.11512,     0.11612,     0.11712,     0.11812,     0.11912,\n",
       "           0.12012,     0.12112,     0.12212,     0.12312,     0.12412,     0.12513,     0.12613,     0.12713,     0.12813,     0.12913,     0.13013,     0.13113,     0.13213,     0.13313,     0.13413,     0.13514,     0.13614,     0.13714,     0.13814,     0.13914,     0.14014,     0.14114,     0.14214,     0.14314,\n",
       "           0.14414,     0.14515,     0.14615,     0.14715,     0.14815,     0.14915,     0.15015,     0.15115,     0.15215,     0.15315,     0.15415,     0.15516,     0.15616,     0.15716,     0.15816,     0.15916,     0.16016,     0.16116,     0.16216,     0.16316,     0.16416,     0.16517,     0.16617,     0.16717,\n",
       "           0.16817,     0.16917,     0.17017,     0.17117,     0.17217,     0.17317,     0.17417,     0.17518,     0.17618,     0.17718,     0.17818,     0.17918,     0.18018,     0.18118,     0.18218,     0.18318,     0.18418,     0.18519,     0.18619,     0.18719,     0.18819,     0.18919,     0.19019,     0.19119,\n",
       "           0.19219,     0.19319,     0.19419,      0.1952,      0.1962,      0.1972,      0.1982,      0.1992,      0.2002,      0.2012,      0.2022,      0.2032,      0.2042,     0.20521,     0.20621,     0.20721,     0.20821,     0.20921,     0.21021,     0.21121,     0.21221,     0.21321,     0.21421,     0.21522,\n",
       "           0.21622,     0.21722,     0.21822,     0.21922,     0.22022,     0.22122,     0.22222,     0.22322,     0.22422,     0.22523,     0.22623,     0.22723,     0.22823,     0.22923,     0.23023,     0.23123,     0.23223,     0.23323,     0.23423,     0.23524,     0.23624,     0.23724,     0.23824,     0.23924,\n",
       "           0.24024,     0.24124,     0.24224,     0.24324,     0.24424,     0.24525,     0.24625,     0.24725,     0.24825,     0.24925,     0.25025,     0.25125,     0.25225,     0.25325,     0.25425,     0.25526,     0.25626,     0.25726,     0.25826,     0.25926,     0.26026,     0.26126,     0.26226,     0.26326,\n",
       "           0.26426,     0.26527,     0.26627,     0.26727,     0.26827,     0.26927,     0.27027,     0.27127,     0.27227,     0.27327,     0.27427,     0.27528,     0.27628,     0.27728,     0.27828,     0.27928,     0.28028,     0.28128,     0.28228,     0.28328,     0.28428,     0.28529,     0.28629,     0.28729,\n",
       "           0.28829,     0.28929,     0.29029,     0.29129,     0.29229,     0.29329,     0.29429,      0.2953,      0.2963,      0.2973,      0.2983,      0.2993,      0.3003,      0.3013,      0.3023,      0.3033,      0.3043,     0.30531,     0.30631,     0.30731,     0.30831,     0.30931,     0.31031,     0.31131,\n",
       "           0.31231,     0.31331,     0.31431,     0.31532,     0.31632,     0.31732,     0.31832,     0.31932,     0.32032,     0.32132,     0.32232,     0.32332,     0.32432,     0.32533,     0.32633,     0.32733,     0.32833,     0.32933,     0.33033,     0.33133,     0.33233,     0.33333,     0.33433,     0.33534,\n",
       "           0.33634,     0.33734,     0.33834,     0.33934,     0.34034,     0.34134,     0.34234,     0.34334,     0.34434,     0.34535,     0.34635,     0.34735,     0.34835,     0.34935,     0.35035,     0.35135,     0.35235,     0.35335,     0.35435,     0.35536,     0.35636,     0.35736,     0.35836,     0.35936,\n",
       "           0.36036,     0.36136,     0.36236,     0.36336,     0.36436,     0.36537,     0.36637,     0.36737,     0.36837,     0.36937,     0.37037,     0.37137,     0.37237,     0.37337,     0.37437,     0.37538,     0.37638,     0.37738,     0.37838,     0.37938,     0.38038,     0.38138,     0.38238,     0.38338,\n",
       "           0.38438,     0.38539,     0.38639,     0.38739,     0.38839,     0.38939,     0.39039,     0.39139,     0.39239,     0.39339,     0.39439,      0.3954,      0.3964,      0.3974,      0.3984,      0.3994,      0.4004,      0.4014,      0.4024,      0.4034,      0.4044,     0.40541,     0.40641,     0.40741,\n",
       "           0.40841,     0.40941,     0.41041,     0.41141,     0.41241,     0.41341,     0.41441,     0.41542,     0.41642,     0.41742,     0.41842,     0.41942,     0.42042,     0.42142,     0.42242,     0.42342,     0.42442,     0.42543,     0.42643,     0.42743,     0.42843,     0.42943,     0.43043,     0.43143,\n",
       "           0.43243,     0.43343,     0.43443,     0.43544,     0.43644,     0.43744,     0.43844,     0.43944,     0.44044,     0.44144,     0.44244,     0.44344,     0.44444,     0.44545,     0.44645,     0.44745,     0.44845,     0.44945,     0.45045,     0.45145,     0.45245,     0.45345,     0.45445,     0.45546,\n",
       "           0.45646,     0.45746,     0.45846,     0.45946,     0.46046,     0.46146,     0.46246,     0.46346,     0.46446,     0.46547,     0.46647,     0.46747,     0.46847,     0.46947,     0.47047,     0.47147,     0.47247,     0.47347,     0.47447,     0.47548,     0.47648,     0.47748,     0.47848,     0.47948,\n",
       "           0.48048,     0.48148,     0.48248,     0.48348,     0.48448,     0.48549,     0.48649,     0.48749,     0.48849,     0.48949,     0.49049,     0.49149,     0.49249,     0.49349,     0.49449,      0.4955,      0.4965,      0.4975,      0.4985,      0.4995,      0.5005,      0.5015,      0.5025,      0.5035,\n",
       "            0.5045,     0.50551,     0.50651,     0.50751,     0.50851,     0.50951,     0.51051,     0.51151,     0.51251,     0.51351,     0.51451,     0.51552,     0.51652,     0.51752,     0.51852,     0.51952,     0.52052,     0.52152,     0.52252,     0.52352,     0.52452,     0.52553,     0.52653,     0.52753,\n",
       "           0.52853,     0.52953,     0.53053,     0.53153,     0.53253,     0.53353,     0.53453,     0.53554,     0.53654,     0.53754,     0.53854,     0.53954,     0.54054,     0.54154,     0.54254,     0.54354,     0.54454,     0.54555,     0.54655,     0.54755,     0.54855,     0.54955,     0.55055,     0.55155,\n",
       "           0.55255,     0.55355,     0.55455,     0.55556,     0.55656,     0.55756,     0.55856,     0.55956,     0.56056,     0.56156,     0.56256,     0.56356,     0.56456,     0.56557,     0.56657,     0.56757,     0.56857,     0.56957,     0.57057,     0.57157,     0.57257,     0.57357,     0.57457,     0.57558,\n",
       "           0.57658,     0.57758,     0.57858,     0.57958,     0.58058,     0.58158,     0.58258,     0.58358,     0.58458,     0.58559,     0.58659,     0.58759,     0.58859,     0.58959,     0.59059,     0.59159,     0.59259,     0.59359,     0.59459,      0.5956,      0.5966,      0.5976,      0.5986,      0.5996,\n",
       "            0.6006,      0.6016,      0.6026,      0.6036,      0.6046,     0.60561,     0.60661,     0.60761,     0.60861,     0.60961,     0.61061,     0.61161,     0.61261,     0.61361,     0.61461,     0.61562,     0.61662,     0.61762,     0.61862,     0.61962,     0.62062,     0.62162,     0.62262,     0.62362,\n",
       "           0.62462,     0.62563,     0.62663,     0.62763,     0.62863,     0.62963,     0.63063,     0.63163,     0.63263,     0.63363,     0.63463,     0.63564,     0.63664,     0.63764,     0.63864,     0.63964,     0.64064,     0.64164,     0.64264,     0.64364,     0.64464,     0.64565,     0.64665,     0.64765,\n",
       "           0.64865,     0.64965,     0.65065,     0.65165,     0.65265,     0.65365,     0.65465,     0.65566,     0.65666,     0.65766,     0.65866,     0.65966,     0.66066,     0.66166,     0.66266,     0.66366,     0.66466,     0.66567,     0.66667,     0.66767,     0.66867,     0.66967,     0.67067,     0.67167,\n",
       "           0.67267,     0.67367,     0.67467,     0.67568,     0.67668,     0.67768,     0.67868,     0.67968,     0.68068,     0.68168,     0.68268,     0.68368,     0.68468,     0.68569,     0.68669,     0.68769,     0.68869,     0.68969,     0.69069,     0.69169,     0.69269,     0.69369,     0.69469,      0.6957,\n",
       "            0.6967,      0.6977,      0.6987,      0.6997,      0.7007,      0.7017,      0.7027,      0.7037,      0.7047,     0.70571,     0.70671,     0.70771,     0.70871,     0.70971,     0.71071,     0.71171,     0.71271,     0.71371,     0.71471,     0.71572,     0.71672,     0.71772,     0.71872,     0.71972,\n",
       "           0.72072,     0.72172,     0.72272,     0.72372,     0.72472,     0.72573,     0.72673,     0.72773,     0.72873,     0.72973,     0.73073,     0.73173,     0.73273,     0.73373,     0.73473,     0.73574,     0.73674,     0.73774,     0.73874,     0.73974,     0.74074,     0.74174,     0.74274,     0.74374,\n",
       "           0.74474,     0.74575,     0.74675,     0.74775,     0.74875,     0.74975,     0.75075,     0.75175,     0.75275,     0.75375,     0.75475,     0.75576,     0.75676,     0.75776,     0.75876,     0.75976,     0.76076,     0.76176,     0.76276,     0.76376,     0.76476,     0.76577,     0.76677,     0.76777,\n",
       "           0.76877,     0.76977,     0.77077,     0.77177,     0.77277,     0.77377,     0.77477,     0.77578,     0.77678,     0.77778,     0.77878,     0.77978,     0.78078,     0.78178,     0.78278,     0.78378,     0.78478,     0.78579,     0.78679,     0.78779,     0.78879,     0.78979,     0.79079,     0.79179,\n",
       "           0.79279,     0.79379,     0.79479,      0.7958,      0.7968,      0.7978,      0.7988,      0.7998,      0.8008,      0.8018,      0.8028,      0.8038,      0.8048,     0.80581,     0.80681,     0.80781,     0.80881,     0.80981,     0.81081,     0.81181,     0.81281,     0.81381,     0.81481,     0.81582,\n",
       "           0.81682,     0.81782,     0.81882,     0.81982,     0.82082,     0.82182,     0.82282,     0.82382,     0.82482,     0.82583,     0.82683,     0.82783,     0.82883,     0.82983,     0.83083,     0.83183,     0.83283,     0.83383,     0.83483,     0.83584,     0.83684,     0.83784,     0.83884,     0.83984,\n",
       "           0.84084,     0.84184,     0.84284,     0.84384,     0.84484,     0.84585,     0.84685,     0.84785,     0.84885,     0.84985,     0.85085,     0.85185,     0.85285,     0.85385,     0.85485,     0.85586,     0.85686,     0.85786,     0.85886,     0.85986,     0.86086,     0.86186,     0.86286,     0.86386,\n",
       "           0.86486,     0.86587,     0.86687,     0.86787,     0.86887,     0.86987,     0.87087,     0.87187,     0.87287,     0.87387,     0.87487,     0.87588,     0.87688,     0.87788,     0.87888,     0.87988,     0.88088,     0.88188,     0.88288,     0.88388,     0.88488,     0.88589,     0.88689,     0.88789,\n",
       "           0.88889,     0.88989,     0.89089,     0.89189,     0.89289,     0.89389,     0.89489,      0.8959,      0.8969,      0.8979,      0.8989,      0.8999,      0.9009,      0.9019,      0.9029,      0.9039,      0.9049,     0.90591,     0.90691,     0.90791,     0.90891,     0.90991,     0.91091,     0.91191,\n",
       "           0.91291,     0.91391,     0.91491,     0.91592,     0.91692,     0.91792,     0.91892,     0.91992,     0.92092,     0.92192,     0.92292,     0.92392,     0.92492,     0.92593,     0.92693,     0.92793,     0.92893,     0.92993,     0.93093,     0.93193,     0.93293,     0.93393,     0.93493,     0.93594,\n",
       "           0.93694,     0.93794,     0.93894,     0.93994,     0.94094,     0.94194,     0.94294,     0.94394,     0.94494,     0.94595,     0.94695,     0.94795,     0.94895,     0.94995,     0.95095,     0.95195,     0.95295,     0.95395,     0.95495,     0.95596,     0.95696,     0.95796,     0.95896,     0.95996,\n",
       "           0.96096,     0.96196,     0.96296,     0.96396,     0.96496,     0.96597,     0.96697,     0.96797,     0.96897,     0.96997,     0.97097,     0.97197,     0.97297,     0.97397,     0.97497,     0.97598,     0.97698,     0.97798,     0.97898,     0.97998,     0.98098,     0.98198,     0.98298,     0.98398,\n",
       "           0.98498,     0.98599,     0.98699,     0.98799,     0.98899,     0.98999,     0.99099,     0.99199,     0.99299,     0.99399,     0.99499,       0.996,       0.997,       0.998,       0.999,           1]), array([[    0.07377,     0.07377,     0.10226, ...,           1,           1,           1],\n",
       "       [   0.035321,    0.035321,    0.082876, ...,           1,           1,           1]]), 'Confidence', 'Precision'], [array([          0,    0.001001,    0.002002,    0.003003,    0.004004,    0.005005,    0.006006,    0.007007,    0.008008,    0.009009,     0.01001,    0.011011,    0.012012,    0.013013,    0.014014,    0.015015,    0.016016,    0.017017,    0.018018,    0.019019,     0.02002,    0.021021,    0.022022,    0.023023,\n",
       "          0.024024,    0.025025,    0.026026,    0.027027,    0.028028,    0.029029,     0.03003,    0.031031,    0.032032,    0.033033,    0.034034,    0.035035,    0.036036,    0.037037,    0.038038,    0.039039,     0.04004,    0.041041,    0.042042,    0.043043,    0.044044,    0.045045,    0.046046,    0.047047,\n",
       "          0.048048,    0.049049,     0.05005,    0.051051,    0.052052,    0.053053,    0.054054,    0.055055,    0.056056,    0.057057,    0.058058,    0.059059,     0.06006,    0.061061,    0.062062,    0.063063,    0.064064,    0.065065,    0.066066,    0.067067,    0.068068,    0.069069,     0.07007,    0.071071,\n",
       "          0.072072,    0.073073,    0.074074,    0.075075,    0.076076,    0.077077,    0.078078,    0.079079,     0.08008,    0.081081,    0.082082,    0.083083,    0.084084,    0.085085,    0.086086,    0.087087,    0.088088,    0.089089,     0.09009,    0.091091,    0.092092,    0.093093,    0.094094,    0.095095,\n",
       "          0.096096,    0.097097,    0.098098,    0.099099,      0.1001,      0.1011,      0.1021,      0.1031,      0.1041,     0.10511,     0.10611,     0.10711,     0.10811,     0.10911,     0.11011,     0.11111,     0.11211,     0.11311,     0.11411,     0.11512,     0.11612,     0.11712,     0.11812,     0.11912,\n",
       "           0.12012,     0.12112,     0.12212,     0.12312,     0.12412,     0.12513,     0.12613,     0.12713,     0.12813,     0.12913,     0.13013,     0.13113,     0.13213,     0.13313,     0.13413,     0.13514,     0.13614,     0.13714,     0.13814,     0.13914,     0.14014,     0.14114,     0.14214,     0.14314,\n",
       "           0.14414,     0.14515,     0.14615,     0.14715,     0.14815,     0.14915,     0.15015,     0.15115,     0.15215,     0.15315,     0.15415,     0.15516,     0.15616,     0.15716,     0.15816,     0.15916,     0.16016,     0.16116,     0.16216,     0.16316,     0.16416,     0.16517,     0.16617,     0.16717,\n",
       "           0.16817,     0.16917,     0.17017,     0.17117,     0.17217,     0.17317,     0.17417,     0.17518,     0.17618,     0.17718,     0.17818,     0.17918,     0.18018,     0.18118,     0.18218,     0.18318,     0.18418,     0.18519,     0.18619,     0.18719,     0.18819,     0.18919,     0.19019,     0.19119,\n",
       "           0.19219,     0.19319,     0.19419,      0.1952,      0.1962,      0.1972,      0.1982,      0.1992,      0.2002,      0.2012,      0.2022,      0.2032,      0.2042,     0.20521,     0.20621,     0.20721,     0.20821,     0.20921,     0.21021,     0.21121,     0.21221,     0.21321,     0.21421,     0.21522,\n",
       "           0.21622,     0.21722,     0.21822,     0.21922,     0.22022,     0.22122,     0.22222,     0.22322,     0.22422,     0.22523,     0.22623,     0.22723,     0.22823,     0.22923,     0.23023,     0.23123,     0.23223,     0.23323,     0.23423,     0.23524,     0.23624,     0.23724,     0.23824,     0.23924,\n",
       "           0.24024,     0.24124,     0.24224,     0.24324,     0.24424,     0.24525,     0.24625,     0.24725,     0.24825,     0.24925,     0.25025,     0.25125,     0.25225,     0.25325,     0.25425,     0.25526,     0.25626,     0.25726,     0.25826,     0.25926,     0.26026,     0.26126,     0.26226,     0.26326,\n",
       "           0.26426,     0.26527,     0.26627,     0.26727,     0.26827,     0.26927,     0.27027,     0.27127,     0.27227,     0.27327,     0.27427,     0.27528,     0.27628,     0.27728,     0.27828,     0.27928,     0.28028,     0.28128,     0.28228,     0.28328,     0.28428,     0.28529,     0.28629,     0.28729,\n",
       "           0.28829,     0.28929,     0.29029,     0.29129,     0.29229,     0.29329,     0.29429,      0.2953,      0.2963,      0.2973,      0.2983,      0.2993,      0.3003,      0.3013,      0.3023,      0.3033,      0.3043,     0.30531,     0.30631,     0.30731,     0.30831,     0.30931,     0.31031,     0.31131,\n",
       "           0.31231,     0.31331,     0.31431,     0.31532,     0.31632,     0.31732,     0.31832,     0.31932,     0.32032,     0.32132,     0.32232,     0.32332,     0.32432,     0.32533,     0.32633,     0.32733,     0.32833,     0.32933,     0.33033,     0.33133,     0.33233,     0.33333,     0.33433,     0.33534,\n",
       "           0.33634,     0.33734,     0.33834,     0.33934,     0.34034,     0.34134,     0.34234,     0.34334,     0.34434,     0.34535,     0.34635,     0.34735,     0.34835,     0.34935,     0.35035,     0.35135,     0.35235,     0.35335,     0.35435,     0.35536,     0.35636,     0.35736,     0.35836,     0.35936,\n",
       "           0.36036,     0.36136,     0.36236,     0.36336,     0.36436,     0.36537,     0.36637,     0.36737,     0.36837,     0.36937,     0.37037,     0.37137,     0.37237,     0.37337,     0.37437,     0.37538,     0.37638,     0.37738,     0.37838,     0.37938,     0.38038,     0.38138,     0.38238,     0.38338,\n",
       "           0.38438,     0.38539,     0.38639,     0.38739,     0.38839,     0.38939,     0.39039,     0.39139,     0.39239,     0.39339,     0.39439,      0.3954,      0.3964,      0.3974,      0.3984,      0.3994,      0.4004,      0.4014,      0.4024,      0.4034,      0.4044,     0.40541,     0.40641,     0.40741,\n",
       "           0.40841,     0.40941,     0.41041,     0.41141,     0.41241,     0.41341,     0.41441,     0.41542,     0.41642,     0.41742,     0.41842,     0.41942,     0.42042,     0.42142,     0.42242,     0.42342,     0.42442,     0.42543,     0.42643,     0.42743,     0.42843,     0.42943,     0.43043,     0.43143,\n",
       "           0.43243,     0.43343,     0.43443,     0.43544,     0.43644,     0.43744,     0.43844,     0.43944,     0.44044,     0.44144,     0.44244,     0.44344,     0.44444,     0.44545,     0.44645,     0.44745,     0.44845,     0.44945,     0.45045,     0.45145,     0.45245,     0.45345,     0.45445,     0.45546,\n",
       "           0.45646,     0.45746,     0.45846,     0.45946,     0.46046,     0.46146,     0.46246,     0.46346,     0.46446,     0.46547,     0.46647,     0.46747,     0.46847,     0.46947,     0.47047,     0.47147,     0.47247,     0.47347,     0.47447,     0.47548,     0.47648,     0.47748,     0.47848,     0.47948,\n",
       "           0.48048,     0.48148,     0.48248,     0.48348,     0.48448,     0.48549,     0.48649,     0.48749,     0.48849,     0.48949,     0.49049,     0.49149,     0.49249,     0.49349,     0.49449,      0.4955,      0.4965,      0.4975,      0.4985,      0.4995,      0.5005,      0.5015,      0.5025,      0.5035,\n",
       "            0.5045,     0.50551,     0.50651,     0.50751,     0.50851,     0.50951,     0.51051,     0.51151,     0.51251,     0.51351,     0.51451,     0.51552,     0.51652,     0.51752,     0.51852,     0.51952,     0.52052,     0.52152,     0.52252,     0.52352,     0.52452,     0.52553,     0.52653,     0.52753,\n",
       "           0.52853,     0.52953,     0.53053,     0.53153,     0.53253,     0.53353,     0.53453,     0.53554,     0.53654,     0.53754,     0.53854,     0.53954,     0.54054,     0.54154,     0.54254,     0.54354,     0.54454,     0.54555,     0.54655,     0.54755,     0.54855,     0.54955,     0.55055,     0.55155,\n",
       "           0.55255,     0.55355,     0.55455,     0.55556,     0.55656,     0.55756,     0.55856,     0.55956,     0.56056,     0.56156,     0.56256,     0.56356,     0.56456,     0.56557,     0.56657,     0.56757,     0.56857,     0.56957,     0.57057,     0.57157,     0.57257,     0.57357,     0.57457,     0.57558,\n",
       "           0.57658,     0.57758,     0.57858,     0.57958,     0.58058,     0.58158,     0.58258,     0.58358,     0.58458,     0.58559,     0.58659,     0.58759,     0.58859,     0.58959,     0.59059,     0.59159,     0.59259,     0.59359,     0.59459,      0.5956,      0.5966,      0.5976,      0.5986,      0.5996,\n",
       "            0.6006,      0.6016,      0.6026,      0.6036,      0.6046,     0.60561,     0.60661,     0.60761,     0.60861,     0.60961,     0.61061,     0.61161,     0.61261,     0.61361,     0.61461,     0.61562,     0.61662,     0.61762,     0.61862,     0.61962,     0.62062,     0.62162,     0.62262,     0.62362,\n",
       "           0.62462,     0.62563,     0.62663,     0.62763,     0.62863,     0.62963,     0.63063,     0.63163,     0.63263,     0.63363,     0.63463,     0.63564,     0.63664,     0.63764,     0.63864,     0.63964,     0.64064,     0.64164,     0.64264,     0.64364,     0.64464,     0.64565,     0.64665,     0.64765,\n",
       "           0.64865,     0.64965,     0.65065,     0.65165,     0.65265,     0.65365,     0.65465,     0.65566,     0.65666,     0.65766,     0.65866,     0.65966,     0.66066,     0.66166,     0.66266,     0.66366,     0.66466,     0.66567,     0.66667,     0.66767,     0.66867,     0.66967,     0.67067,     0.67167,\n",
       "           0.67267,     0.67367,     0.67467,     0.67568,     0.67668,     0.67768,     0.67868,     0.67968,     0.68068,     0.68168,     0.68268,     0.68368,     0.68468,     0.68569,     0.68669,     0.68769,     0.68869,     0.68969,     0.69069,     0.69169,     0.69269,     0.69369,     0.69469,      0.6957,\n",
       "            0.6967,      0.6977,      0.6987,      0.6997,      0.7007,      0.7017,      0.7027,      0.7037,      0.7047,     0.70571,     0.70671,     0.70771,     0.70871,     0.70971,     0.71071,     0.71171,     0.71271,     0.71371,     0.71471,     0.71572,     0.71672,     0.71772,     0.71872,     0.71972,\n",
       "           0.72072,     0.72172,     0.72272,     0.72372,     0.72472,     0.72573,     0.72673,     0.72773,     0.72873,     0.72973,     0.73073,     0.73173,     0.73273,     0.73373,     0.73473,     0.73574,     0.73674,     0.73774,     0.73874,     0.73974,     0.74074,     0.74174,     0.74274,     0.74374,\n",
       "           0.74474,     0.74575,     0.74675,     0.74775,     0.74875,     0.74975,     0.75075,     0.75175,     0.75275,     0.75375,     0.75475,     0.75576,     0.75676,     0.75776,     0.75876,     0.75976,     0.76076,     0.76176,     0.76276,     0.76376,     0.76476,     0.76577,     0.76677,     0.76777,\n",
       "           0.76877,     0.76977,     0.77077,     0.77177,     0.77277,     0.77377,     0.77477,     0.77578,     0.77678,     0.77778,     0.77878,     0.77978,     0.78078,     0.78178,     0.78278,     0.78378,     0.78478,     0.78579,     0.78679,     0.78779,     0.78879,     0.78979,     0.79079,     0.79179,\n",
       "           0.79279,     0.79379,     0.79479,      0.7958,      0.7968,      0.7978,      0.7988,      0.7998,      0.8008,      0.8018,      0.8028,      0.8038,      0.8048,     0.80581,     0.80681,     0.80781,     0.80881,     0.80981,     0.81081,     0.81181,     0.81281,     0.81381,     0.81481,     0.81582,\n",
       "           0.81682,     0.81782,     0.81882,     0.81982,     0.82082,     0.82182,     0.82282,     0.82382,     0.82482,     0.82583,     0.82683,     0.82783,     0.82883,     0.82983,     0.83083,     0.83183,     0.83283,     0.83383,     0.83483,     0.83584,     0.83684,     0.83784,     0.83884,     0.83984,\n",
       "           0.84084,     0.84184,     0.84284,     0.84384,     0.84484,     0.84585,     0.84685,     0.84785,     0.84885,     0.84985,     0.85085,     0.85185,     0.85285,     0.85385,     0.85485,     0.85586,     0.85686,     0.85786,     0.85886,     0.85986,     0.86086,     0.86186,     0.86286,     0.86386,\n",
       "           0.86486,     0.86587,     0.86687,     0.86787,     0.86887,     0.86987,     0.87087,     0.87187,     0.87287,     0.87387,     0.87487,     0.87588,     0.87688,     0.87788,     0.87888,     0.87988,     0.88088,     0.88188,     0.88288,     0.88388,     0.88488,     0.88589,     0.88689,     0.88789,\n",
       "           0.88889,     0.88989,     0.89089,     0.89189,     0.89289,     0.89389,     0.89489,      0.8959,      0.8969,      0.8979,      0.8989,      0.8999,      0.9009,      0.9019,      0.9029,      0.9039,      0.9049,     0.90591,     0.90691,     0.90791,     0.90891,     0.90991,     0.91091,     0.91191,\n",
       "           0.91291,     0.91391,     0.91491,     0.91592,     0.91692,     0.91792,     0.91892,     0.91992,     0.92092,     0.92192,     0.92292,     0.92392,     0.92492,     0.92593,     0.92693,     0.92793,     0.92893,     0.92993,     0.93093,     0.93193,     0.93293,     0.93393,     0.93493,     0.93594,\n",
       "           0.93694,     0.93794,     0.93894,     0.93994,     0.94094,     0.94194,     0.94294,     0.94394,     0.94494,     0.94595,     0.94695,     0.94795,     0.94895,     0.94995,     0.95095,     0.95195,     0.95295,     0.95395,     0.95495,     0.95596,     0.95696,     0.95796,     0.95896,     0.95996,\n",
       "           0.96096,     0.96196,     0.96296,     0.96396,     0.96496,     0.96597,     0.96697,     0.96797,     0.96897,     0.96997,     0.97097,     0.97197,     0.97297,     0.97397,     0.97497,     0.97598,     0.97698,     0.97798,     0.97898,     0.97998,     0.98098,     0.98198,     0.98298,     0.98398,\n",
       "           0.98498,     0.98599,     0.98699,     0.98799,     0.98899,     0.98999,     0.99099,     0.99199,     0.99299,     0.99399,     0.99499,       0.996,       0.997,       0.998,       0.999,           1]), array([[    0.83193,     0.83193,     0.83193, ...,           0,           0,           0],\n",
       "       [          1,           1,           1, ...,           0,           0,           0]]), 'Confidence', 'Recall']]\n",
       "fitness: 0.4214727559001689\n",
       "keys: ['metrics/precision(B)', 'metrics/recall(B)', 'metrics/mAP50(B)', 'metrics/mAP50-95(B)']\n",
       "maps: array([    0.16348,     0.60135])\n",
       "names: {0: 'barcode', 1: 'pallets'}\n",
       "plot: True\n",
       "results_dict: {'metrics/precision(B)': 0.7527718507934518, 'metrics/recall(B)': 0.7769289533995416, 'metrics/mAP50(B)': 0.7729859843133209, 'metrics/mAP50-95(B)': 0.3824157305209298, 'fitness': 0.4214727559001689}\n",
       "save_dir: PosixPath('runs/detect/train')\n",
       "speed: {'preprocess': 0.38419033332199126, 'inference': 2.3793071333481444, 'loss': 0.0004230000134460473, 'postprocess': 0.9657814999930755}\n",
       "task: 'detect'"
      ]
     },
     "execution_count": 14,
     "metadata": {},
     "output_type": "execute_result"
    }
   ],
   "source": [
    "import os\n",
    "\n",
    "# construct the full path to data.yaml\n",
    "pwd = os.getcwd()  # e.g. '/home/ec2-user/SageMaker'\n",
    "data_yaml = os.path.join(pwd, 'dataSetDrone', 'data.yaml')\n",
    "print(data_yaml)\n",
    "\n",
    "\n",
    "model.train(\n",
    "    data=data_yaml,  # relative to the notebook’s cwd\n",
    "    imgsz=1280,  # scales long side to 1280, pads to 1280×1280\n",
    "    epochs=50,\n",
    "    batch=16,             \n",
    "    device='cuda:0',\n",
    ")"
   ]
  },
  {
   "cell_type": "code",
   "execution_count": 10,
   "id": "5d8ae336-5693-479e-976a-b3b75584e395",
   "metadata": {},
   "outputs": [
    {
     "name": "stdout",
     "output_type": "stream",
     "text": [
      "TensorFlow installation not found - running with reduced feature set.\n",
      "Serving TensorBoard on localhost; to expose to the network, use a proxy or pass --bind_all\n",
      "TensorBoard 2.19.0 at http://localhost:6006/ (Press CTRL+C to quit)\n",
      "^C\n"
     ]
    }
   ],
   "source": [
    "!tensorboard --logdir runs/detect/train"
   ]
  },
  {
   "cell_type": "code",
   "execution_count": 8,
   "id": "5a8a3f0a-50e5-49e9-9668-c2071ecebe82",
   "metadata": {},
   "outputs": [
    {
     "name": "stdout",
     "output_type": "stream",
     "text": [
      "\n",
      "image 1/133 /home/ec2-user/SageMaker/dataSetDrone/train/images/DJI_20250424192951_0003_V_jpeg.rf.4ea24d1c2dbecd316db963325bb8e7aa.jpg: 960x1280 (no detections), 6.8ms\n",
      "image 2/133 /home/ec2-user/SageMaker/dataSetDrone/train/images/DJI_20250424192952_0005_V_jpeg.rf.6f0ec846ef9e7fd148623663aa902fe2.jpg: 960x1280 (no detections), 5.8ms\n",
      "image 3/133 /home/ec2-user/SageMaker/dataSetDrone/train/images/DJI_20250424192953_0006_V_jpeg.rf.f9aa45ffc2da6ed8d2f2df0025876274.jpg: 960x1280 8 barcodes, 4 palletss, 5.8ms\n",
      "image 4/133 /home/ec2-user/SageMaker/dataSetDrone/train/images/DJI_20250424192954_0007_V_jpeg.rf.7f57fea57fde8f8db14d50c628547576.jpg: 960x1280 5 barcodes, 4 palletss, 5.8ms\n",
      "image 5/133 /home/ec2-user/SageMaker/dataSetDrone/train/images/DJI_20250424192954_0008_V_jpeg.rf.07297633e35fd2d6b034df4cf16af891.jpg: 960x1280 1 barcode, 4 palletss, 6.4ms\n",
      "image 6/133 /home/ec2-user/SageMaker/dataSetDrone/train/images/DJI_20250424192955_0009_V_jpeg.rf.00a17be2b621882bb74644a0b279c682.jpg: 960x1280 4 palletss, 6.0ms\n",
      "image 7/133 /home/ec2-user/SageMaker/dataSetDrone/train/images/DJI_20250424192956_0010_V_jpeg.rf.18283edd925f08fa91b61f40d79733b8.jpg: 960x1280 4 palletss, 6.1ms\n",
      "image 8/133 /home/ec2-user/SageMaker/dataSetDrone/train/images/DJI_20250424192957_0011_V_jpeg.rf.2f2e1b55328781e6ebf1e7074a6cc6f2.jpg: 960x1280 4 palletss, 6.2ms\n",
      "image 9/133 /home/ec2-user/SageMaker/dataSetDrone/train/images/DJI_20250424192957_0012_V_jpeg.rf.4185732a43401a88075e53549a9a6f1a.jpg: 960x1280 4 palletss, 6.1ms\n",
      "image 10/133 /home/ec2-user/SageMaker/dataSetDrone/train/images/DJI_20250424192958_0013_V_jpeg.rf.b1f308b43d62b1105947d639d9a05062.jpg: 960x1280 4 palletss, 6.0ms\n",
      "image 11/133 /home/ec2-user/SageMaker/dataSetDrone/train/images/DJI_20250424192959_0014_V_jpeg.rf.31bfcdb0fa984308fe71c06b55e525fb.jpg: 960x1280 4 palletss, 5.9ms\n",
      "image 12/133 /home/ec2-user/SageMaker/dataSetDrone/train/images/DJI_20250424192959_0015_V_jpeg.rf.fdf3c63fc48e8acdd87bbdea519dfeaf.jpg: 960x1280 1 barcode, 4 palletss, 6.1ms\n",
      "image 13/133 /home/ec2-user/SageMaker/dataSetDrone/train/images/DJI_20250424193001_0017_V_jpeg.rf.69c5efc8894df446be0ad61282bd089a.jpg: 960x1280 4 barcodes, 4 palletss, 6.1ms\n",
      "image 14/133 /home/ec2-user/SageMaker/dataSetDrone/train/images/DJI_20250424193001_0018_V_jpeg.rf.393719bfaddf91582428898650a49de3.jpg: 960x1280 12 barcodes, 4 palletss, 6.3ms\n",
      "image 15/133 /home/ec2-user/SageMaker/dataSetDrone/train/images/DJI_20250424193002_0019_V_jpeg.rf.edc7bbb634785941eded02dae6555c8f.jpg: 960x1280 (no detections), 6.0ms\n",
      "image 16/133 /home/ec2-user/SageMaker/dataSetDrone/train/images/DJI_20250424193003_0020_V_jpeg.rf.c8cb4efefa0d3bed4361a8493c811fb0.jpg: 960x1280 (no detections), 6.0ms\n",
      "image 17/133 /home/ec2-user/SageMaker/dataSetDrone/train/images/DJI_20250424193003_0021_V_jpeg.rf.318655ceb5036568ee771e6da933aba0.jpg: 960x1280 (no detections), 5.8ms\n",
      "image 18/133 /home/ec2-user/SageMaker/dataSetDrone/train/images/DJI_20250424193004_0022_V_jpeg.rf.99a386dbb15ccd1aef854bffff3d2bce.jpg: 960x1280 12 barcodes, 5 palletss, 5.8ms\n",
      "image 19/133 /home/ec2-user/SageMaker/dataSetDrone/train/images/DJI_20250424193005_0023_V_jpeg.rf.b2592ab357c86dcaa16052245b5c3f42.jpg: 960x1280 16 barcodes, 4 palletss, 6.0ms\n",
      "image 20/133 /home/ec2-user/SageMaker/dataSetDrone/train/images/DJI_20250424193006_0024_V_jpeg.rf.74dfbdcbbd6eb9099aeafade45f6e4f0.jpg: 960x1280 13 barcodes, 4 palletss, 6.0ms\n",
      "image 21/133 /home/ec2-user/SageMaker/dataSetDrone/train/images/DJI_20250424193006_0025_V_jpeg.rf.f60a1edaa5f1f9a9e95c0ecfbcc1800f.jpg: 960x1280 14 barcodes, 4 palletss, 5.8ms\n",
      "image 22/133 /home/ec2-user/SageMaker/dataSetDrone/train/images/DJI_20250424193007_0026_V_jpeg.rf.cf0bc3fc109a622aaed618a8168d3135.jpg: 960x1280 9 barcodes, 4 palletss, 5.8ms\n",
      "image 23/133 /home/ec2-user/SageMaker/dataSetDrone/train/images/DJI_20250424193008_0028_V_jpeg.rf.b6bb8da6208ef1374c98ac4cc1fd641a.jpg: 960x1280 4 palletss, 5.9ms\n",
      "image 24/133 /home/ec2-user/SageMaker/dataSetDrone/train/images/DJI_20250424193009_0029_V_jpeg.rf.5ea3867777bc3e5824f1a19780b522b2.jpg: 960x1280 1 barcode, 4 palletss, 6.2ms\n",
      "image 25/133 /home/ec2-user/SageMaker/dataSetDrone/train/images/DJI_20250424193010_0030_V_jpeg.rf.94d1c1db600d2fb49590752a498b140f.jpg: 960x1280 1 barcode, 4 palletss, 6.0ms\n",
      "image 26/133 /home/ec2-user/SageMaker/dataSetDrone/train/images/DJI_20250424193010_0031_V_jpeg.rf.a332dc9db04f91041dd318736160fb65.jpg: 960x1280 1 barcode, 4 palletss, 5.8ms\n",
      "image 27/133 /home/ec2-user/SageMaker/dataSetDrone/train/images/DJI_20250424193011_0032_V_jpeg.rf.725e9954b8f43ab79541682ba2670970.jpg: 960x1280 1 barcode, 4 palletss, 5.9ms\n",
      "image 28/133 /home/ec2-user/SageMaker/dataSetDrone/train/images/DJI_20250424193035_0033_V_jpeg.rf.9cc135c8cff6809db3d350326acb9f92.jpg: 960x1280 12 barcodes, 4 palletss, 6.1ms\n",
      "image 29/133 /home/ec2-user/SageMaker/dataSetDrone/train/images/DJI_20250424193035_0034_V_jpeg.rf.17da08522ab8e1696107523bc36badda.jpg: 960x1280 12 barcodes, 4 palletss, 5.8ms\n",
      "image 30/133 /home/ec2-user/SageMaker/dataSetDrone/train/images/DJI_20250424193036_0035_V_jpeg.rf.be1430d28eff2a53895d782a6d13ba9d.jpg: 960x1280 12 barcodes, 4 palletss, 5.9ms\n",
      "image 31/133 /home/ec2-user/SageMaker/dataSetDrone/train/images/DJI_20250424193038_0037_V_jpeg.rf.45c0d25bb8d653a44ba4d974a9720fab.jpg: 960x1280 11 barcodes, 4 palletss, 6.0ms\n",
      "image 32/133 /home/ec2-user/SageMaker/dataSetDrone/train/images/DJI_20250424193038_0038_V_jpeg.rf.4d7d60309fc6422dc80fb9dad6095946.jpg: 960x1280 12 barcodes, 4 palletss, 6.1ms\n",
      "image 33/133 /home/ec2-user/SageMaker/dataSetDrone/train/images/DJI_20250424193039_0039_V_jpeg.rf.24b10806557fdb04fbe049f9227d8ea3.jpg: 960x1280 12 barcodes, 4 palletss, 6.2ms\n",
      "image 34/133 /home/ec2-user/SageMaker/dataSetDrone/train/images/DJI_20250424193040_0041_V_jpeg.rf.8e6ad7f9fbb318bffc40bd013da16bef.jpg: 960x1280 10 barcodes, 4 palletss, 6.0ms\n",
      "image 35/133 /home/ec2-user/SageMaker/dataSetDrone/train/images/DJI_20250424193041_0042_V_jpeg.rf.3fa6e4e2a6961b7acfab635a5922a863.jpg: 960x1280 11 barcodes, 6 palletss, 5.9ms\n",
      "image 36/133 /home/ec2-user/SageMaker/dataSetDrone/train/images/DJI_20250424193042_0044_V_jpeg.rf.d074ad9fb975c75fae4a6f903e24a70c.jpg: 960x1280 10 barcodes, 5 palletss, 6.0ms\n",
      "image 37/133 /home/ec2-user/SageMaker/dataSetDrone/train/images/DJI_20250424193043_0045_V_jpeg.rf.ce95b8dfbac42e8c370547265f5f04ef.jpg: 960x1280 7 barcodes, 4 palletss, 6.3ms\n",
      "image 38/133 /home/ec2-user/SageMaker/dataSetDrone/train/images/DJI_20250424193044_0046_V_jpeg.rf.c1018dac966751423a0b00b57fc259c0.jpg: 960x1280 9 barcodes, 4 palletss, 5.8ms\n",
      "image 39/133 /home/ec2-user/SageMaker/dataSetDrone/train/images/DJI_20250424193045_0047_V_jpeg.rf.9a054402f36f253f0300c4c71c6192a0.jpg: 960x1280 11 barcodes, 4 palletss, 6.0ms\n",
      "image 40/133 /home/ec2-user/SageMaker/dataSetDrone/train/images/DJI_20250424193045_0048_V_jpeg.rf.8cbf4cd57855744f41a18e3889cb5b55.jpg: 960x1280 11 barcodes, 4 palletss, 6.0ms\n",
      "image 41/133 /home/ec2-user/SageMaker/dataSetDrone/train/images/DJI_20250424193046_0049_V_jpeg.rf.f22b0de3073c8e7616235f8baa1ae9c9.jpg: 960x1280 13 barcodes, 4 palletss, 6.1ms\n",
      "image 42/133 /home/ec2-user/SageMaker/dataSetDrone/train/images/DJI_20250424193047_0050_V_jpeg.rf.c41dcf52bf10ce0b22b54c7212e9cd1f.jpg: 960x1280 12 barcodes, 4 palletss, 5.8ms\n",
      "image 43/133 /home/ec2-user/SageMaker/dataSetDrone/train/images/DJI_20250424193047_0051_V_jpeg.rf.93155642558ecfa8c46646f3dbd5ae15.jpg: 960x1280 13 barcodes, 4 palletss, 5.8ms\n",
      "image 44/133 /home/ec2-user/SageMaker/dataSetDrone/train/images/DJI_20250424193048_0052_V_jpeg.rf.9d4440637fab3a629df51cf065cd1f2e.jpg: 960x1280 11 barcodes, 4 palletss, 5.8ms\n",
      "image 45/133 /home/ec2-user/SageMaker/dataSetDrone/train/images/DJI_20250424193049_0053_V_jpeg.rf.cbbc249bb1bab34e191a2289f05d7145.jpg: 960x1280 11 barcodes, 4 palletss, 5.8ms\n",
      "image 46/133 /home/ec2-user/SageMaker/dataSetDrone/train/images/DJI_20250424193050_0054_V_jpeg.rf.5fad48482ec2d738012c1a2765672f1c.jpg: 960x1280 13 barcodes, 4 palletss, 6.1ms\n",
      "image 47/133 /home/ec2-user/SageMaker/dataSetDrone/train/images/DJI_20250424193050_0055_V_jpeg.rf.e185996a8a30c2a73e1e2893fe408722.jpg: 960x1280 12 barcodes, 4 palletss, 6.2ms\n",
      "image 48/133 /home/ec2-user/SageMaker/dataSetDrone/train/images/DJI_20250424193051_0056_V_jpeg.rf.963ac2660f73b37614cd8757a4e31f48.jpg: 960x1280 9 barcodes, 4 palletss, 6.1ms\n",
      "image 49/133 /home/ec2-user/SageMaker/dataSetDrone/train/images/DJI_20250424193052_0058_V_jpeg.rf.bd36c8775d5509cc7c00551c019eeda9.jpg: 960x1280 9 barcodes, 4 palletss, 6.0ms\n",
      "image 50/133 /home/ec2-user/SageMaker/dataSetDrone/train/images/DJI_20250424193053_0059_V_jpeg.rf.7f386dc874f6115836b70195e3d2c364.jpg: 960x1280 11 barcodes, 4 palletss, 5.9ms\n",
      "image 51/133 /home/ec2-user/SageMaker/dataSetDrone/train/images/DJI_20250424193054_0060_V_jpeg.rf.4d4129c660e9171de228b01e0a27e990.jpg: 960x1280 11 barcodes, 4 palletss, 6.1ms\n",
      "image 52/133 /home/ec2-user/SageMaker/dataSetDrone/train/images/DJI_20250424193054_0061_V_jpeg.rf.e86f93fe50a90a268b00e1ea2db13c69.jpg: 960x1280 9 barcodes, 4 palletss, 6.1ms\n",
      "image 53/133 /home/ec2-user/SageMaker/dataSetDrone/train/images/DJI_20250424193055_0062_V_jpeg.rf.077ffaf3d27470deb7b011b8e116137a.jpg: 960x1280 10 barcodes, 4 palletss, 5.9ms\n",
      "image 54/133 /home/ec2-user/SageMaker/dataSetDrone/train/images/DJI_20250424193057_0064_V_jpeg.rf.2f3274aa04c0327715bc6d3d09d3051a.jpg: 960x1280 9 barcodes, 4 palletss, 5.8ms\n",
      "image 55/133 /home/ec2-user/SageMaker/dataSetDrone/train/images/DJI_20250424193119_0065_V_jpeg.rf.6b3860d12f1d3f25fccd224d76b2a8f2.jpg: 960x1280 2 barcodes, 1 pallets, 6.1ms\n",
      "image 56/133 /home/ec2-user/SageMaker/dataSetDrone/train/images/DJI_20250424193120_0066_V_jpeg.rf.01db072ec81430ded54912069bbb88f9.jpg: 960x1280 4 barcodes, 2 palletss, 6.1ms\n",
      "image 57/133 /home/ec2-user/SageMaker/dataSetDrone/train/images/DJI_20250424193121_0067_V_jpeg.rf.9d6a545cbf568cfda40fbcf473c1c0e4.jpg: 960x1280 7 barcodes, 2 palletss, 6.0ms\n",
      "image 58/133 /home/ec2-user/SageMaker/dataSetDrone/train/images/DJI_20250424193121_0068_V_jpeg.rf.cd635d0926f213c8a94e32b166d766c8.jpg: 960x1280 9 barcodes, 4 palletss, 6.4ms\n",
      "image 59/133 /home/ec2-user/SageMaker/dataSetDrone/train/images/DJI_20250424193122_0069_V_jpeg.rf.eafa6890d801027e7a0c00de2d31c844.jpg: 960x1280 11 barcodes, 4 palletss, 5.8ms\n",
      "image 60/133 /home/ec2-user/SageMaker/dataSetDrone/train/images/DJI_20250424193123_0070_V_jpeg.rf.19a517680167b55eae727943674e68bb.jpg: 960x1280 4 barcodes, 4 palletss, 5.8ms\n",
      "image 61/133 /home/ec2-user/SageMaker/dataSetDrone/train/images/DJI_20250424193124_0071_V_jpeg.rf.eab5608f77e709465ed4ba69881e7954.jpg: 960x1280 8 barcodes, 4 palletss, 5.8ms\n",
      "image 62/133 /home/ec2-user/SageMaker/dataSetDrone/train/images/DJI_20250424193124_0072_V_jpeg.rf.7251ba1ff6407158ec59517eb565de76.jpg: 960x1280 5 barcodes, 5 palletss, 6.2ms\n",
      "image 63/133 /home/ec2-user/SageMaker/dataSetDrone/train/images/DJI_20250424193126_0074_V_jpeg.rf.9df590e3538900ce79c03b436d1b0c21.jpg: 960x1280 4 barcodes, 6 palletss, 6.1ms\n",
      "image 64/133 /home/ec2-user/SageMaker/dataSetDrone/train/images/DJI_20250424193128_0077_V_jpeg.rf.893eb7b79bb146e9018b1f222766b0e3.jpg: 960x1280 1 barcode, 5 palletss, 6.1ms\n",
      "image 65/133 /home/ec2-user/SageMaker/dataSetDrone/train/images/DJI_20250424193128_0078_V_jpeg.rf.4120321ba6692ecc8554579c54ef4c41.jpg: 960x1280 5 palletss, 5.9ms\n",
      "image 66/133 /home/ec2-user/SageMaker/dataSetDrone/train/images/DJI_20250424193129_0079_V_jpeg.rf.4888e9dab2b357f19a3e44d69e429db3.jpg: 960x1280 2 barcodes, 4 palletss, 5.9ms\n",
      "image 67/133 /home/ec2-user/SageMaker/dataSetDrone/train/images/DJI_20250424193131_0081_V_jpeg.rf.62d4907dc8bed61885b33f86837b592c.jpg: 960x1280 4 barcodes, 4 palletss, 5.9ms\n",
      "image 68/133 /home/ec2-user/SageMaker/dataSetDrone/train/images/DJI_20250424193133_0085_V_jpeg.rf.e2983fa2868a071e420281b850732e62.jpg: 960x1280 1 pallets, 6.1ms\n",
      "image 69/133 /home/ec2-user/SageMaker/dataSetDrone/train/images/DJI_20250424193134_0086_V_jpeg.rf.50f150c7916bd22ca4408582354f0a36.jpg: 960x1280 1 pallets, 5.9ms\n",
      "image 70/133 /home/ec2-user/SageMaker/dataSetDrone/train/images/DJI_20250424193135_0087_V_jpeg.rf.41bf717e6016208f4ced828efb5fb943.jpg: 960x1280 2 palletss, 6.1ms\n",
      "image 71/133 /home/ec2-user/SageMaker/dataSetDrone/train/images/DJI_20250424193135_0088_V_jpeg.rf.2c270d1118ff345be335d66377c4ea99.jpg: 960x1280 3 palletss, 6.1ms\n",
      "image 72/133 /home/ec2-user/SageMaker/dataSetDrone/train/images/DJI_20250424193136_0089_V_jpeg.rf.e7a98cb82887391396ee50c1f6821329.jpg: 960x1280 4 palletss, 6.1ms\n",
      "image 73/133 /home/ec2-user/SageMaker/dataSetDrone/train/images/DJI_20250424193137_0090_V_jpeg.rf.82f609d3c2afac21b554dfaadf6fa1ef.jpg: 960x1280 4 palletss, 5.9ms\n",
      "image 74/133 /home/ec2-user/SageMaker/dataSetDrone/train/images/DJI_20250424193138_0092_V_jpeg.rf.f9b29c7b71415f9e9a0c93bcb470dbb8.jpg: 960x1280 4 palletss, 5.9ms\n",
      "image 75/133 /home/ec2-user/SageMaker/dataSetDrone/train/images/DJI_20250424193139_0093_V_jpeg.rf.553251410824e36be1a82db76e6401e8.jpg: 960x1280 4 palletss, 5.8ms\n",
      "image 76/133 /home/ec2-user/SageMaker/dataSetDrone/train/images/DJI_20250424193140_0094_V_jpeg.rf.068dcc3b046ca73305591f129b2676a3.jpg: 960x1280 4 palletss, 5.9ms\n",
      "image 77/133 /home/ec2-user/SageMaker/dataSetDrone/train/images/DJI_20250424193140_0095_V_jpeg.rf.ea0c8aa8f663ff711b262e02d28f28c7.jpg: 960x1280 4 palletss, 6.2ms\n",
      "image 78/133 /home/ec2-user/SageMaker/dataSetDrone/train/images/DJI_20250424193159_0096_V_jpeg.rf.0c455117aa0af81977627c5b68855f44.jpg: 960x1280 (no detections), 5.8ms\n",
      "image 79/133 /home/ec2-user/SageMaker/dataSetDrone/train/images/DJI_20250424193201_0099_V_jpeg.rf.ade977755f4e50497fdcfa9297c3ef45.jpg: 960x1280 1 pallets, 6.0ms\n",
      "image 80/133 /home/ec2-user/SageMaker/dataSetDrone/train/images/DJI_20250424193203_0101_V_jpeg.rf.5d32038142fbf4b2c1eedcfb79233e42.jpg: 960x1280 1 barcode, 4 palletss, 6.1ms\n",
      "image 81/133 /home/ec2-user/SageMaker/dataSetDrone/train/images/DJI_20250424193203_0102_V_jpeg.rf.d8b365665c2354ccddbd6c8cc6d1353e.jpg: 960x1280 1 barcode, 4 palletss, 6.1ms\n",
      "image 82/133 /home/ec2-user/SageMaker/dataSetDrone/train/images/DJI_20250424193204_0103_V_jpeg.rf.b44a7e1f8b3af69b19c99f7a174cdfac.jpg: 960x1280 4 palletss, 6.1ms\n",
      "image 83/133 /home/ec2-user/SageMaker/dataSetDrone/train/images/DJI_20250424193205_0104_V_jpeg.rf.29dc51878485aa57c0112d5e13c0cd6e.jpg: 960x1280 5 palletss, 5.9ms\n",
      "image 84/133 /home/ec2-user/SageMaker/dataSetDrone/train/images/DJI_20250424193206_0105_V_jpeg.rf.7dfce68f8ebbbcff9260fd2f313f01d1.jpg: 960x1280 3 palletss, 5.8ms\n",
      "image 85/133 /home/ec2-user/SageMaker/dataSetDrone/train/images/DJI_20250424193206_0106_V_jpeg.rf.55f96c894fbfd04094b74c148aed6c91.jpg: 960x1280 (no detections), 6.2ms\n",
      "image 86/133 /home/ec2-user/SageMaker/dataSetDrone/train/images/DJI_20250424193207_0107_V_jpeg.rf.c97bc9f7abb4401bec1840968aabe3a4.jpg: 960x1280 (no detections), 6.0ms\n",
      "image 87/133 /home/ec2-user/SageMaker/dataSetDrone/train/images/DJI_20250424193208_0109_V_jpeg.rf.7da11919e36f5857c87e2dbac60741b0.jpg: 960x1280 (no detections), 6.3ms\n",
      "image 88/133 /home/ec2-user/SageMaker/dataSetDrone/train/images/DJI_20250424193209_0110_V_jpeg.rf.185c5945f5bb09256bd599ae81aa1e19.jpg: 960x1280 (no detections), 6.4ms\n",
      "image 89/133 /home/ec2-user/SageMaker/dataSetDrone/train/images/DJI_20250424193210_0111_V_jpeg.rf.bc5ddaf21851fbe0d8d3f29794ddd1f6.jpg: 960x1280 4 palletss, 6.0ms\n",
      "image 90/133 /home/ec2-user/SageMaker/dataSetDrone/train/images/DJI_20250424193210_0112_V_jpeg.rf.e8a14e116d17f49f84eb843c4bed9d26.jpg: 960x1280 4 palletss, 5.9ms\n",
      "image 91/133 /home/ec2-user/SageMaker/dataSetDrone/train/images/DJI_20250424193211_0113_V_jpeg.rf.2de891c6266e96dada1a19ef9a0b1fe3.jpg: 960x1280 4 palletss, 5.8ms\n",
      "image 92/133 /home/ec2-user/SageMaker/dataSetDrone/train/images/DJI_20250424193213_0115_V_jpeg.rf.e6ac276457dbbd9df20a3d369ff91eb6.jpg: 960x1280 4 palletss, 6.0ms\n",
      "image 93/133 /home/ec2-user/SageMaker/dataSetDrone/train/images/DJI_20250424193213_0116_V_jpeg.rf.49a8f8a28defa133b3f1c461ced6cd55.jpg: 960x1280 1 pallets, 5.8ms\n",
      "image 94/133 /home/ec2-user/SageMaker/dataSetDrone/train/images/DJI_20250424193214_0117_V_jpeg.rf.2b383b1c6fe7a6dd8db68e8330918ae5.jpg: 960x1280 (no detections), 6.1ms\n",
      "image 95/133 /home/ec2-user/SageMaker/dataSetDrone/train/images/DJI_20250424193215_0118_V_jpeg.rf.eb5ea89ad12194420729485e7568ee06.jpg: 960x1280 (no detections), 6.2ms\n",
      "image 96/133 /home/ec2-user/SageMaker/dataSetDrone/train/images/DJI_20250424193216_0120_V_jpeg.rf.3fe0ce39e4516054e10bdfbc7ae7e93b.jpg: 960x1280 (no detections), 6.1ms\n",
      "image 97/133 /home/ec2-user/SageMaker/dataSetDrone/train/images/DJI_20250424193217_0121_V_jpeg.rf.18ef9219873d5c2c596f70968b209a78.jpg: 960x1280 (no detections), 6.5ms\n",
      "image 98/133 /home/ec2-user/SageMaker/dataSetDrone/train/images/DJI_20250424193217_0122_V_jpeg.rf.c5927720914afc546f99364edbfd14a8.jpg: 960x1280 (no detections), 5.8ms\n",
      "image 99/133 /home/ec2-user/SageMaker/dataSetDrone/train/images/DJI_20250424193218_0123_V_jpeg.rf.428da0ad1317cf4420d6604ddf6ba120.jpg: 960x1280 (no detections), 6.2ms\n",
      "image 100/133 /home/ec2-user/SageMaker/dataSetDrone/train/images/DJI_20250424193219_0124_V_jpeg.rf.ab81cc94d9c6c5a363712f75bca3d45b.jpg: 960x1280 1 pallets, 6.1ms\n",
      "image 101/133 /home/ec2-user/SageMaker/dataSetDrone/train/images/DJI_20250424193220_0125_V_jpeg.rf.745b83827f5ce661fddae169c681004c.jpg: 960x1280 3 palletss, 5.9ms\n",
      "image 102/133 /home/ec2-user/SageMaker/dataSetDrone/train/images/DJI_20250424193221_0127_V_jpeg.rf.ed1d2f1cf816bf71de8bb39090869be7.jpg: 960x1280 4 palletss, 6.1ms\n",
      "image 103/133 /home/ec2-user/SageMaker/dataSetDrone/train/images/DJI_20250424193222_0128_V_jpeg.rf.1b228277dd7ad5d85bde59d28106773d.jpg: 960x1280 2 palletss, 5.9ms\n",
      "image 104/133 /home/ec2-user/SageMaker/dataSetDrone/train/images/DJI_20250424193222_0129_V_jpeg.rf.ee7ca11a608a9ea74d05208f5a57ad0f.jpg: 960x1280 (no detections), 6.0ms\n",
      "image 105/133 /home/ec2-user/SageMaker/dataSetDrone/train/images/DJI_20250424193246_0132_V_jpeg.rf.db271bbd406d12452a773eba4b0c810f.jpg: 960x1280 2 palletss, 7.1ms\n",
      "image 106/133 /home/ec2-user/SageMaker/dataSetDrone/train/images/DJI_20250424193248_0134_V_jpeg.rf.50678340d8e95b5a639a824d3a310c68.jpg: 960x1280 3 palletss, 5.8ms\n",
      "image 107/133 /home/ec2-user/SageMaker/dataSetDrone/train/images/DJI_20250424193249_0135_V_jpeg.rf.dd8be2859ac16db1c66194981ccd95ec.jpg: 960x1280 4 palletss, 5.8ms\n",
      "image 108/133 /home/ec2-user/SageMaker/dataSetDrone/train/images/DJI_20250424193249_0136_V_jpeg.rf.01ab2250a110d73fdfb198a1bbcecf48.jpg: 960x1280 5 palletss, 6.2ms\n",
      "image 109/133 /home/ec2-user/SageMaker/dataSetDrone/train/images/DJI_20250424193250_0137_V_jpeg.rf.c30e13a900258023da701cecf86bb2a7.jpg: 960x1280 4 palletss, 5.8ms\n",
      "image 110/133 /home/ec2-user/SageMaker/dataSetDrone/train/images/DJI_20250424193251_0138_V_jpeg.rf.da0a5713a772c441578bf346a8fdf166.jpg: 960x1280 3 palletss, 5.8ms\n",
      "image 111/133 /home/ec2-user/SageMaker/dataSetDrone/train/images/DJI_20250424193251_0139_V_jpeg.rf.4264097ef5f0f1ec684d85e7d043fe52.jpg: 960x1280 4 palletss, 6.2ms\n",
      "image 112/133 /home/ec2-user/SageMaker/dataSetDrone/train/images/DJI_20250424193253_0141_V_jpeg.rf.d294c6ae3c065ad54696ba929927de43.jpg: 960x1280 3 palletss, 5.8ms\n",
      "image 113/133 /home/ec2-user/SageMaker/dataSetDrone/train/images/DJI_20250424193253_0142_V_jpeg.rf.ebca72f9ceb67874ae49a3a112a88061.jpg: 960x1280 3 palletss, 6.1ms\n",
      "image 114/133 /home/ec2-user/SageMaker/dataSetDrone/train/images/DJI_20250424193254_0143_V_jpeg.rf.ac90dab178ba2691a30946d70af87d87.jpg: 960x1280 2 palletss, 5.9ms\n",
      "image 115/133 /home/ec2-user/SageMaker/dataSetDrone/train/images/DJI_20250424193255_0144_V_jpeg.rf.6329a25447b28d7ba0d0b45bcd6d95ee.jpg: 960x1280 (no detections), 5.9ms\n",
      "image 116/133 /home/ec2-user/SageMaker/dataSetDrone/train/images/DJI_20250424193256_0145_V_jpeg.rf.31bf48ca669ade3b23a5e02a4066855a.jpg: 960x1280 (no detections), 5.8ms\n",
      "image 117/133 /home/ec2-user/SageMaker/dataSetDrone/train/images/DJI_20250424193256_0146_V_jpeg.rf.67458c2e06c0ceffbd1cfb0367f86b05.jpg: 960x1280 (no detections), 5.8ms\n",
      "image 118/133 /home/ec2-user/SageMaker/dataSetDrone/train/images/DJI_20250424193257_0147_V_jpeg.rf.5623a65c144cc599a2f67749a50e55bc.jpg: 960x1280 3 palletss, 5.8ms\n",
      "image 119/133 /home/ec2-user/SageMaker/dataSetDrone/train/images/DJI_20250424193258_0149_V_jpeg.rf.ba83f8da607e7258f189284d41f02aa8.jpg: 960x1280 3 palletss, 6.1ms\n",
      "image 120/133 /home/ec2-user/SageMaker/dataSetDrone/train/images/DJI_20250424193259_0150_V_jpeg.rf.9347a8928039977b988ee7a9f158244e.jpg: 960x1280 3 palletss, 5.8ms\n",
      "image 121/133 /home/ec2-user/SageMaker/dataSetDrone/train/images/DJI_20250424193300_0151_V_jpeg.rf.6815c34421e615b6786c9570df0f93fd.jpg: 960x1280 4 palletss, 5.8ms\n",
      "image 122/133 /home/ec2-user/SageMaker/dataSetDrone/train/images/DJI_20250424193301_0152_V_jpeg.rf.89668e9bd31c92d34f63e3d14b09987c.jpg: 960x1280 4 palletss, 6.1ms\n",
      "image 123/133 /home/ec2-user/SageMaker/dataSetDrone/train/images/DJI_20250424193301_0153_V_jpeg.rf.47059b0ea5341b1a3f8055c0bcac4727.jpg: 960x1280 5 palletss, 6.0ms\n",
      "image 124/133 /home/ec2-user/SageMaker/dataSetDrone/train/images/DJI_20250424193302_0154_V_jpeg.rf.1edfd8a340c1e68110410880003270f1.jpg: 960x1280 5 palletss, 6.1ms\n",
      "image 125/133 /home/ec2-user/SageMaker/dataSetDrone/train/images/DJI_20250424193303_0155_V_jpeg.rf.27423c7341020e9463a7ec2a3b85a839.jpg: 960x1280 1 barcode, 3 palletss, 6.1ms\n",
      "image 126/133 /home/ec2-user/SageMaker/dataSetDrone/train/images/DJI_20250424193303_0156_V_jpeg.rf.744cdcbe16fc325884746c6b499eeb8b.jpg: 960x1280 2 barcodes, 2 palletss, 5.8ms\n",
      "image 127/133 /home/ec2-user/SageMaker/dataSetDrone/train/images/DJI_20250424193305_0157_V_jpeg.rf.c97c16a5ebac0fdcb11d6c6a4fa6d2a7.jpg: 960x1280 1 barcode, 1 pallets, 6.0ms\n",
      "image 128/133 /home/ec2-user/SageMaker/dataSetDrone/train/images/DJI_20250424193306_0158_V_jpeg.rf.f07994aad6942e5cc9265f3864d5efcf.jpg: 960x1280 6 barcodes, 4 palletss, 6.0ms\n",
      "image 129/133 /home/ec2-user/SageMaker/dataSetDrone/train/images/DJI_20250424193307_0159_V_jpeg.rf.8ac0784a5a9a105f81b367ba4bf24b07.jpg: 960x1280 11 barcodes, 4 palletss, 5.8ms\n",
      "image 130/133 /home/ec2-user/SageMaker/dataSetDrone/train/images/DJI_20250424193308_0161_V_jpeg.rf.4fac2df57e441ca9f1c2e76a3189a067.jpg: 960x1280 6 barcodes, 5 palletss, 6.2ms\n",
      "image 131/133 /home/ec2-user/SageMaker/dataSetDrone/train/images/DJI_20250424193309_0162_V_jpeg.rf.4f8858721924121907339670f95de259.jpg: 960x1280 1 barcode, 4 palletss, 5.8ms\n",
      "image 132/133 /home/ec2-user/SageMaker/dataSetDrone/train/images/DJI_20250424193310_0164_V_jpeg.rf.ae40d47d4697d834e544875a42d6b4df.jpg: 960x1280 3 palletss, 5.9ms\n",
      "image 133/133 /home/ec2-user/SageMaker/dataSetDrone/train/images/DJI_20250424193311_0165_V_jpeg.rf.1fd29f8a05cf7b773e78dd0c6d73b12b.jpg: 960x1280 3 palletss, 5.8ms\n",
      "Speed: 6.6ms preprocess, 6.0ms inference, 1.1ms postprocess per image at shape (1, 3, 960, 1280)\n",
      "Results saved to \u001b[1mruns/detect/predict\u001b[0m\n",
      "\n",
      "image 1/30 /home/ec2-user/SageMaker/dataSetDrone/valid/images/DJI_20250424192950_0001_V_jpeg.rf.4898842251e8d44236d66863ddcc110b.jpg: 960x1280 (no detections), 6.1ms\n",
      "image 2/30 /home/ec2-user/SageMaker/dataSetDrone/valid/images/DJI_20250424192952_0004_V_jpeg.rf.f37af411c6a6b2bfdb4925bbd5175d43.jpg: 960x1280 (no detections), 6.0ms\n",
      "image 3/30 /home/ec2-user/SageMaker/dataSetDrone/valid/images/DJI_20250424193000_0016_V_jpeg.rf.4b5f0f5d0be0a38b7d823ba5d8ed611f.jpg: 960x1280 4 palletss, 6.2ms\n",
      "image 4/30 /home/ec2-user/SageMaker/dataSetDrone/valid/images/DJI_20250424193008_0027_V_jpeg.rf.f4b82ac2e1d52d368740f72122a16162.jpg: 960x1280 5 barcodes, 4 palletss, 6.0ms\n",
      "image 5/30 /home/ec2-user/SageMaker/dataSetDrone/valid/images/DJI_20250424193037_0036_V_jpeg.rf.936a566d1452e9729b9447b9c46e2f6f.jpg: 960x1280 11 barcodes, 4 palletss, 5.9ms\n",
      "image 6/30 /home/ec2-user/SageMaker/dataSetDrone/valid/images/DJI_20250424193040_0040_V_jpeg.rf.411ba7614b8dec03c6e7c9a165b5176c.jpg: 960x1280 11 barcodes, 4 palletss, 6.1ms\n",
      "image 7/30 /home/ec2-user/SageMaker/dataSetDrone/valid/images/DJI_20250424193042_0043_V_jpeg.rf.c82e3ff665ea1c651dd8c670aeeb4717.jpg: 960x1280 11 barcodes, 6 palletss, 5.8ms\n",
      "image 8/30 /home/ec2-user/SageMaker/dataSetDrone/valid/images/DJI_20250424193052_0057_V_jpeg.rf.297ca0dd57c86c2df5432bf9a42d1c77.jpg: 960x1280 11 barcodes, 4 palletss, 6.1ms\n",
      "image 9/30 /home/ec2-user/SageMaker/dataSetDrone/valid/images/DJI_20250424193125_0073_V_jpeg.rf.cc94dfb2bf151aee98bbc58b361d64b8.jpg: 960x1280 7 barcodes, 5 palletss, 6.1ms\n",
      "image 10/30 /home/ec2-user/SageMaker/dataSetDrone/valid/images/DJI_20250424193126_0075_V_jpeg.rf.4416575a2a0a78fd2e0351a228dc0571.jpg: 960x1280 2 barcodes, 4 palletss, 6.1ms\n",
      "image 11/30 /home/ec2-user/SageMaker/dataSetDrone/valid/images/DJI_20250424193127_0076_V_jpeg.rf.5cfb05993360f87b1491a911dba2ca0d.jpg: 960x1280 1 barcode, 5 palletss, 5.8ms\n",
      "image 12/30 /home/ec2-user/SageMaker/dataSetDrone/valid/images/DJI_20250424193130_0080_V_jpeg.rf.9a095ab1c47978938eb0be0d27c81b4c.jpg: 960x1280 2 barcodes, 4 palletss, 5.8ms\n",
      "image 13/30 /home/ec2-user/SageMaker/dataSetDrone/valid/images/DJI_20250424193131_0082_V_jpeg.rf.3be4630456c481bf51dc7a72fc8cc20a.jpg: 960x1280 4 barcodes, 3 palletss, 5.8ms\n",
      "image 14/30 /home/ec2-user/SageMaker/dataSetDrone/valid/images/DJI_20250424193132_0083_V_jpeg.rf.df76b4b52d30f7a85465814fb67193f9.jpg: 960x1280 1 barcode, 2 palletss, 6.0ms\n",
      "image 15/30 /home/ec2-user/SageMaker/dataSetDrone/valid/images/DJI_20250424193133_0084_V_jpeg.rf.7ba44fc6a3634a5ac9820ca471a3c06c.jpg: 960x1280 1 pallets, 5.8ms\n",
      "image 16/30 /home/ec2-user/SageMaker/dataSetDrone/valid/images/DJI_20250424193138_0091_V_jpeg.rf.6bd11cce54248168153e42ed1b1e8f60.jpg: 960x1280 4 palletss, 6.2ms\n",
      "image 17/30 /home/ec2-user/SageMaker/dataSetDrone/valid/images/DJI_20250424193200_0097_V_jpeg.rf.ab138d58c65c7298572e58d6a1ba9db9.jpg: 960x1280 (no detections), 6.6ms\n",
      "image 18/30 /home/ec2-user/SageMaker/dataSetDrone/valid/images/DJI_20250424193201_0098_V_jpeg.rf.c1b76046077a874055e4b70dd6b1759b.jpg: 960x1280 (no detections), 5.8ms\n",
      "image 19/30 /home/ec2-user/SageMaker/dataSetDrone/valid/images/DJI_20250424193202_0100_V_jpeg.rf.30718d033cd93e7f0ba2f97dcc1a8627.jpg: 960x1280 1 barcode, 4 palletss, 5.8ms\n",
      "image 20/30 /home/ec2-user/SageMaker/dataSetDrone/valid/images/DJI_20250424193208_0108_V_jpeg.rf.6567c5b2d31216c1da24a1454382a428.jpg: 960x1280 (no detections), 5.8ms\n",
      "image 21/30 /home/ec2-user/SageMaker/dataSetDrone/valid/images/DJI_20250424193212_0114_V_jpeg.rf.f0d0e019438416996826836eab9a9036.jpg: 960x1280 4 palletss, 5.8ms\n",
      "image 22/30 /home/ec2-user/SageMaker/dataSetDrone/valid/images/DJI_20250424193215_0119_V_jpeg.rf.7dad2ab8f74f64ea9599d6aa527bc58d.jpg: 960x1280 (no detections), 6.0ms\n",
      "image 23/30 /home/ec2-user/SageMaker/dataSetDrone/valid/images/DJI_20250424193220_0126_V_jpeg.rf.b8a71a43118c42119d59829d8d03bcc3.jpg: 960x1280 5 palletss, 6.1ms\n",
      "image 24/30 /home/ec2-user/SageMaker/dataSetDrone/valid/images/DJI_20250424193223_0130_V_jpeg.rf.fa07c3ba1c54c47a0d2264f6d73f9760.jpg: 960x1280 (no detections), 6.7ms\n",
      "image 25/30 /home/ec2-user/SageMaker/dataSetDrone/valid/images/DJI_20250424193224_0131_V_jpeg.rf.d4cb185f93ea9584828fe6f8d2a2d819.jpg: 960x1280 (no detections), 5.8ms\n",
      "image 26/30 /home/ec2-user/SageMaker/dataSetDrone/valid/images/DJI_20250424193247_0133_V_jpeg.rf.1deef49284ff0a4899ad03e36b8de1cc.jpg: 960x1280 2 palletss, 6.0ms\n",
      "image 27/30 /home/ec2-user/SageMaker/dataSetDrone/valid/images/DJI_20250424193252_0140_V_jpeg.rf.f6ea06428755ecc9cb8e7ec6dada07a8.jpg: 960x1280 3 palletss, 6.1ms\n",
      "image 28/30 /home/ec2-user/SageMaker/dataSetDrone/valid/images/DJI_20250424193258_0148_V_jpeg.rf.43cd82775e8929158ceb61642c88b565.jpg: 960x1280 3 palletss, 5.8ms\n",
      "image 29/30 /home/ec2-user/SageMaker/dataSetDrone/valid/images/DJI_20250424193308_0160_V_jpeg.rf.34a9700359fb324f1f9a62869e9ecedf.jpg: 960x1280 10 barcodes, 4 palletss, 6.2ms\n",
      "image 30/30 /home/ec2-user/SageMaker/dataSetDrone/valid/images/DJI_20250424193310_0163_V_jpeg.rf.7786790e47f65a75615daffacecfe483.jpg: 960x1280 3 palletss, 6.0ms\n",
      "Speed: 6.6ms preprocess, 6.0ms inference, 1.1ms postprocess per image at shape (1, 3, 960, 1280)\n",
      "Results saved to \u001b[1mruns/detect/predict\u001b[0m\n",
      "Saved 1060 detections to all_bounding_boxes.csv\n"
     ]
    },
    {
     "data": {
      "text/html": [
       "<div>\n",
       "<style scoped>\n",
       "    .dataframe tbody tr th:only-of-type {\n",
       "        vertical-align: middle;\n",
       "    }\n",
       "\n",
       "    .dataframe tbody tr th {\n",
       "        vertical-align: top;\n",
       "    }\n",
       "\n",
       "    .dataframe thead th {\n",
       "        text-align: right;\n",
       "    }\n",
       "</style>\n",
       "<table border=\"1\" class=\"dataframe\">\n",
       "  <thead>\n",
       "    <tr style=\"text-align: right;\">\n",
       "      <th></th>\n",
       "    </tr>\n",
       "  </thead>\n",
       "  <tbody>\n",
       "  </tbody>\n",
       "</table>\n",
       "</div>"
      ],
      "text/plain": [
       "Empty DataFrame\n",
       "Columns: []\n",
       "Index: []"
      ]
     },
     "execution_count": 8,
     "metadata": {},
     "output_type": "execute_result"
    }
   ],
   "source": [
    "\n",
    "'''\n",
    "See results in validation \n",
    "\n",
    "from ultralytics import YOLO\n",
    "\n",
    "# 1. Load your trained model\n",
    "model = YOLO('runs/detect/train/weights/best.pt')\n",
    "\n",
    "# 2. Run batch‐prediction on the validation set and save results\n",
    "results = model.predict(\n",
    "    source='dataSetDrone/valid/images',  # folder of images\n",
    "    conf=0.25,                           # optional: confidence threshold\n",
    "    save=True                            # writes output images under runs/detect/predict\n",
    ")\n",
    "\n",
    "'''\n",
    "\n",
    "from ultralytics import YOLO\n",
    "import pandas as pd\n",
    "from pathlib import Path\n",
    "\n",
    "model = YOLO('runs/detect/train/weights/best.pt')\n",
    "rows = []\n",
    "\n",
    "records = []\n",
    "dataset_root = Path('dataSetDrone')\n",
    "for subset in ['train', 'valid']:\n",
    "    folder = f'dataSetDrone/{subset}/images'\n",
    "    results = model.predict(source=folder, conf=0.25, save=True)\n",
    "    # Extract every box from every image\n",
    "    for res in results:\n",
    "        img_path = Path(res.path) # original image path\n",
    "        img_name = img_path.name  # grab the filename\n",
    "          \n",
    "        for box in res.boxes:\n",
    "            x1, y1, x2, y2 = box.xyxy[0].tolist()\n",
    "            cls_id        = int(box.cls[0])\n",
    "            conf_score    = float(box.conf[0])\n",
    "            records.append({\n",
    "                'subset':     subset,\n",
    "                'image':      img_name,\n",
    "                'class':      model.names[cls_id],\n",
    "                'confidence': conf_score,\n",
    "                'x1':          x1,\n",
    "                'y1':          y1,\n",
    "                'x2':          x2,\n",
    "                'y2':          y2\n",
    "            })\n",
    "\n",
    "# Save to CSV\n",
    "df = pd.DataFrame(records)\n",
    "df.to_csv('all_bounding_boxes.csv', index=False)\n",
    "print(f\"Saved {len(df)} detections to all_bounding_boxes.csv\")\n",
    "\n",
    "df = pd.DataFrame(rows)\n",
    "df.head()\n",
    "\n",
    "\n",
    "\n"
   ]
  },
  {
   "cell_type": "code",
   "execution_count": 1,
   "id": "182df36a-2f0f-4cbb-a41f-d534a1debdf4",
   "metadata": {},
   "outputs": [
    {
     "name": "stdout",
     "output_type": "stream",
     "text": [
      "\n",
      "image 1/273 /home/ec2-user/SageMaker/test_data/DJI_20250424162143_0001_V.jpeg: 960x1280 4 palletss, 100.2ms\n",
      "image 2/273 /home/ec2-user/SageMaker/test_data/DJI_20250424162144_0002_V.jpeg: 960x1280 5 palletss, 5.9ms\n",
      "image 3/273 /home/ec2-user/SageMaker/test_data/DJI_20250424162144_0003_V.jpeg: 960x1280 2 barcodes, 7 palletss, 5.8ms\n",
      "image 4/273 /home/ec2-user/SageMaker/test_data/DJI_20250424162145_0004_V.jpeg: 960x1280 1 barcode, 9 palletss, 6.1ms\n",
      "image 5/273 /home/ec2-user/SageMaker/test_data/DJI_20250424162146_0005_V.jpeg: 960x1280 9 palletss, 6.2ms\n",
      "image 6/273 /home/ec2-user/SageMaker/test_data/DJI_20250424162147_0006_V.jpeg: 960x1280 6 palletss, 6.0ms\n",
      "image 7/273 /home/ec2-user/SageMaker/test_data/DJI_20250424162148_0007_V.jpeg: 960x1280 2 barcodes, 11 palletss, 5.8ms\n",
      "image 8/273 /home/ec2-user/SageMaker/test_data/DJI_20250424162149_0008_V.jpeg: 960x1280 12 palletss, 6.1ms\n",
      "image 9/273 /home/ec2-user/SageMaker/test_data/DJI_20250424162150_0009_V.jpeg: 960x1280 6 palletss, 5.7ms\n",
      "image 10/273 /home/ec2-user/SageMaker/test_data/DJI_20250424162151_0010_V.jpeg: 960x1280 1 barcode, 4 palletss, 6.1ms\n",
      "image 11/273 /home/ec2-user/SageMaker/test_data/DJI_20250424162151_0011_V.jpeg: 960x1280 1 barcode, 4 palletss, 6.0ms\n",
      "image 12/273 /home/ec2-user/SageMaker/test_data/DJI_20250424162152_0012_V.jpeg: 960x1280 1 barcode, 3 palletss, 6.1ms\n",
      "image 13/273 /home/ec2-user/SageMaker/test_data/DJI_20250424162153_0013_V.jpeg: 960x1280 6 palletss, 6.1ms\n",
      "image 14/273 /home/ec2-user/SageMaker/test_data/DJI_20250424162154_0014_V.jpeg: 960x1280 1 barcode, 8 palletss, 6.0ms\n",
      "image 15/273 /home/ec2-user/SageMaker/test_data/DJI_20250424162155_0015_V.jpeg: 960x1280 1 barcode, 7 palletss, 6.0ms\n",
      "image 16/273 /home/ec2-user/SageMaker/test_data/DJI_20250424162156_0016_V.jpeg: 960x1280 2 barcodes, 7 palletss, 6.0ms\n",
      "image 17/273 /home/ec2-user/SageMaker/test_data/DJI_20250424162157_0017_V.jpeg: 960x1280 1 barcode, 6 palletss, 6.1ms\n",
      "image 18/273 /home/ec2-user/SageMaker/test_data/DJI_20250424162157_0018_V.jpeg: 960x1280 5 palletss, 6.0ms\n",
      "image 19/273 /home/ec2-user/SageMaker/test_data/DJI_20250424162158_0019_V.jpeg: 960x1280 1 barcode, 3 palletss, 6.0ms\n",
      "image 20/273 /home/ec2-user/SageMaker/test_data/DJI_20250424162159_0020_V.jpeg: 960x1280 3 palletss, 6.2ms\n",
      "image 21/273 /home/ec2-user/SageMaker/test_data/DJI_20250424162200_0021_V.jpeg: 960x1280 3 palletss, 6.2ms\n",
      "image 22/273 /home/ec2-user/SageMaker/test_data/DJI_20250424162201_0022_V.jpeg: 960x1280 1 pallets, 6.2ms\n",
      "image 23/273 /home/ec2-user/SageMaker/test_data/DJI_20250424162202_0023_V.jpeg: 960x1280 (no detections), 5.9ms\n",
      "image 24/273 /home/ec2-user/SageMaker/test_data/DJI_20250424162203_0024_V.jpeg: 960x1280 (no detections), 6.1ms\n",
      "image 25/273 /home/ec2-user/SageMaker/test_data/DJI_20250424162204_0025_V.jpeg: 960x1280 1 pallets, 6.0ms\n",
      "image 26/273 /home/ec2-user/SageMaker/test_data/DJI_20250424162205_0026_V.jpeg: 960x1280 (no detections), 6.0ms\n",
      "image 27/273 /home/ec2-user/SageMaker/test_data/DJI_20250424162205_0027_V.jpeg: 960x1280 (no detections), 5.8ms\n",
      "image 28/273 /home/ec2-user/SageMaker/test_data/DJI_20250424162206_0028_V.jpeg: 960x1280 (no detections), 5.7ms\n",
      "image 29/273 /home/ec2-user/SageMaker/test_data/DJI_20250424162207_0029_V.jpeg: 960x1280 (no detections), 5.8ms\n",
      "image 30/273 /home/ec2-user/SageMaker/test_data/DJI_20250424162208_0030_V.jpeg: 960x1280 (no detections), 5.7ms\n",
      "image 31/273 /home/ec2-user/SageMaker/test_data/DJI_20250424162209_0031_V.jpeg: 960x1280 3 palletss, 5.8ms\n",
      "image 32/273 /home/ec2-user/SageMaker/test_data/DJI_20250424162210_0032_V.jpeg: 960x1280 2 palletss, 6.1ms\n",
      "image 33/273 /home/ec2-user/SageMaker/test_data/DJI_20250424162211_0033_V.jpeg: 960x1280 1 pallets, 5.9ms\n",
      "image 34/273 /home/ec2-user/SageMaker/test_data/DJI_20250424162212_0034_V.jpeg: 960x1280 (no detections), 6.0ms\n",
      "image 35/273 /home/ec2-user/SageMaker/test_data/DJI_20250424162212_0035_V.jpeg: 960x1280 (no detections), 5.7ms\n",
      "image 36/273 /home/ec2-user/SageMaker/test_data/DJI_20250424162213_0036_V.jpeg: 960x1280 (no detections), 6.1ms\n",
      "image 37/273 /home/ec2-user/SageMaker/test_data/DJI_20250424162214_0037_V.jpeg: 960x1280 2 palletss, 5.8ms\n",
      "image 38/273 /home/ec2-user/SageMaker/test_data/DJI_20250424162215_0038_V.jpeg: 960x1280 1 pallets, 6.1ms\n",
      "image 39/273 /home/ec2-user/SageMaker/test_data/DJI_20250424162216_0039_V.jpeg: 960x1280 1 barcode, 3 palletss, 6.0ms\n",
      "image 40/273 /home/ec2-user/SageMaker/test_data/DJI_20250424162217_0040_V.jpeg: 960x1280 2 palletss, 5.8ms\n",
      "image 41/273 /home/ec2-user/SageMaker/test_data/DJI_20250424162218_0041_V.jpeg: 960x1280 2 palletss, 5.8ms\n",
      "image 42/273 /home/ec2-user/SageMaker/test_data/DJI_20250424162219_0042_V.jpeg: 960x1280 1 pallets, 5.8ms\n",
      "image 43/273 /home/ec2-user/SageMaker/test_data/DJI_20250424162219_0043_V.jpeg: 960x1280 2 palletss, 6.0ms\n",
      "image 44/273 /home/ec2-user/SageMaker/test_data/DJI_20250424162220_0044_V.jpeg: 960x1280 2 palletss, 7.1ms\n",
      "image 45/273 /home/ec2-user/SageMaker/test_data/DJI_20250424162221_0045_V.jpeg: 960x1280 1 pallets, 6.2ms\n",
      "image 46/273 /home/ec2-user/SageMaker/test_data/DJI_20250424162222_0046_V.jpeg: 960x1280 (no detections), 6.0ms\n",
      "image 47/273 /home/ec2-user/SageMaker/test_data/DJI_20250424162223_0047_V.jpeg: 960x1280 (no detections), 5.8ms\n",
      "image 48/273 /home/ec2-user/SageMaker/test_data/DJI_20250424162224_0048_V.jpeg: 960x1280 1 pallets, 5.8ms\n",
      "image 49/273 /home/ec2-user/SageMaker/test_data/DJI_20250424162225_0049_V.jpeg: 960x1280 2 palletss, 5.8ms\n",
      "image 50/273 /home/ec2-user/SageMaker/test_data/DJI_20250424162226_0050_V.jpeg: 960x1280 2 palletss, 5.8ms\n",
      "image 51/273 /home/ec2-user/SageMaker/test_data/DJI_20250424162226_0051_V.jpeg: 960x1280 4 palletss, 6.2ms\n",
      "image 52/273 /home/ec2-user/SageMaker/test_data/DJI_20250424162227_0052_V.jpeg: 960x1280 3 palletss, 6.1ms\n",
      "image 53/273 /home/ec2-user/SageMaker/test_data/DJI_20250424162228_0053_V.jpeg: 960x1280 3 palletss, 6.1ms\n",
      "image 54/273 /home/ec2-user/SageMaker/test_data/DJI_20250424162229_0054_V.jpeg: 960x1280 2 palletss, 5.8ms\n",
      "image 55/273 /home/ec2-user/SageMaker/test_data/DJI_20250424162230_0055_V.jpeg: 960x1280 1 pallets, 5.8ms\n",
      "image 56/273 /home/ec2-user/SageMaker/test_data/DJI_20250424162231_0056_V.jpeg: 960x1280 1 pallets, 6.1ms\n",
      "image 57/273 /home/ec2-user/SageMaker/test_data/DJI_20250424162240_0057_V.jpeg: 960x1280 2 palletss, 6.0ms\n",
      "image 58/273 /home/ec2-user/SageMaker/test_data/DJI_20250424162240_0058_V.jpeg: 960x1280 2 palletss, 6.0ms\n",
      "image 59/273 /home/ec2-user/SageMaker/test_data/DJI_20250424162241_0059_V.jpeg: 960x1280 2 palletss, 5.8ms\n",
      "image 60/273 /home/ec2-user/SageMaker/test_data/DJI_20250424162242_0060_V.jpeg: 960x1280 4 palletss, 5.7ms\n",
      "image 61/273 /home/ec2-user/SageMaker/test_data/DJI_20250424162243_0061_V.jpeg: 960x1280 3 palletss, 6.1ms\n",
      "image 62/273 /home/ec2-user/SageMaker/test_data/DJI_20250424162244_0062_V.jpeg: 960x1280 2 palletss, 6.1ms\n",
      "image 63/273 /home/ec2-user/SageMaker/test_data/DJI_20250424162245_0063_V.jpeg: 960x1280 3 palletss, 6.0ms\n",
      "image 64/273 /home/ec2-user/SageMaker/test_data/DJI_20250424162246_0064_V.jpeg: 960x1280 4 palletss, 5.7ms\n",
      "image 65/273 /home/ec2-user/SageMaker/test_data/DJI_20250424162247_0065_V.jpeg: 960x1280 4 palletss, 5.8ms\n",
      "image 66/273 /home/ec2-user/SageMaker/test_data/DJI_20250424162248_0066_V.jpeg: 960x1280 6 palletss, 6.0ms\n",
      "image 67/273 /home/ec2-user/SageMaker/test_data/DJI_20250424162248_0067_V.jpeg: 960x1280 4 palletss, 6.4ms\n",
      "image 68/273 /home/ec2-user/SageMaker/test_data/DJI_20250424162249_0068_V.jpeg: 960x1280 3 palletss, 6.0ms\n",
      "image 69/273 /home/ec2-user/SageMaker/test_data/DJI_20250424162250_0069_V.jpeg: 960x1280 2 palletss, 6.0ms\n",
      "image 70/273 /home/ec2-user/SageMaker/test_data/DJI_20250424162251_0070_V.jpeg: 960x1280 5 palletss, 5.8ms\n",
      "image 71/273 /home/ec2-user/SageMaker/test_data/DJI_20250424162252_0071_V.jpeg: 960x1280 1 barcode, 5 palletss, 5.9ms\n",
      "image 72/273 /home/ec2-user/SageMaker/test_data/DJI_20250424162253_0072_V.jpeg: 960x1280 1 barcode, 1 pallets, 6.2ms\n",
      "image 73/273 /home/ec2-user/SageMaker/test_data/DJI_20250424162254_0073_V.jpeg: 960x1280 3 palletss, 5.8ms\n",
      "image 74/273 /home/ec2-user/SageMaker/test_data/DJI_20250424162255_0074_V.jpeg: 960x1280 (no detections), 5.9ms\n",
      "image 75/273 /home/ec2-user/SageMaker/test_data/DJI_20250424162255_0075_V.jpeg: 960x1280 (no detections), 5.8ms\n",
      "image 76/273 /home/ec2-user/SageMaker/test_data/DJI_20250424162256_0076_V.jpeg: 960x1280 (no detections), 5.8ms\n",
      "image 77/273 /home/ec2-user/SageMaker/test_data/DJI_20250424162257_0077_V.jpeg: 960x1280 (no detections), 6.1ms\n",
      "image 78/273 /home/ec2-user/SageMaker/test_data/DJI_20250424162258_0078_V.jpeg: 960x1280 (no detections), 5.8ms\n",
      "image 79/273 /home/ec2-user/SageMaker/test_data/DJI_20250424162259_0079_V.jpeg: 960x1280 (no detections), 6.0ms\n",
      "image 80/273 /home/ec2-user/SageMaker/test_data/DJI_20250424162300_0080_V.jpeg: 960x1280 (no detections), 6.0ms\n",
      "image 81/273 /home/ec2-user/SageMaker/test_data/DJI_20250424162301_0081_V.jpeg: 960x1280 1 pallets, 5.9ms\n",
      "image 82/273 /home/ec2-user/SageMaker/test_data/DJI_20250424162302_0082_V.jpeg: 960x1280 1 barcode, 6 palletss, 6.3ms\n",
      "image 83/273 /home/ec2-user/SageMaker/test_data/DJI_20250424162302_0083_V.jpeg: 960x1280 4 barcodes, 4 palletss, 5.8ms\n",
      "image 84/273 /home/ec2-user/SageMaker/test_data/DJI_20250424162303_0084_V.jpeg: 960x1280 1 barcode, 5 palletss, 5.7ms\n",
      "image 85/273 /home/ec2-user/SageMaker/test_data/DJI_20250424162304_0085_V.jpeg: 960x1280 1 barcode, 6 palletss, 6.1ms\n",
      "image 86/273 /home/ec2-user/SageMaker/test_data/DJI_20250424162305_0086_V.jpeg: 960x1280 2 barcodes, 7 palletss, 6.0ms\n",
      "image 87/273 /home/ec2-user/SageMaker/test_data/DJI_20250424162306_0087_V.jpeg: 960x1280 1 barcode, 4 palletss, 6.0ms\n",
      "image 88/273 /home/ec2-user/SageMaker/test_data/DJI_20250424162307_0088_V.jpeg: 960x1280 7 palletss, 6.0ms\n",
      "image 89/273 /home/ec2-user/SageMaker/test_data/DJI_20250424162308_0089_V.jpeg: 960x1280 2 palletss, 5.8ms\n",
      "image 90/273 /home/ec2-user/SageMaker/test_data/DJI_20250424162309_0090_V.jpeg: 960x1280 2 palletss, 5.9ms\n",
      "image 91/273 /home/ec2-user/SageMaker/test_data/DJI_20250424162310_0091_V.jpeg: 960x1280 2 barcodes, 4 palletss, 6.2ms\n",
      "image 92/273 /home/ec2-user/SageMaker/test_data/DJI_20250424162310_0092_V.jpeg: 960x1280 5 palletss, 6.0ms\n",
      "image 93/273 /home/ec2-user/SageMaker/test_data/DJI_20250424162311_0093_V.jpeg: 960x1280 2 barcodes, 6 palletss, 6.1ms\n",
      "image 94/273 /home/ec2-user/SageMaker/test_data/DJI_20250424162312_0094_V.jpeg: 960x1280 1 barcode, 3 palletss, 5.8ms\n",
      "image 95/273 /home/ec2-user/SageMaker/test_data/DJI_20250424162313_0095_V.jpeg: 960x1280 1 barcode, 6 palletss, 6.0ms\n",
      "image 96/273 /home/ec2-user/SageMaker/test_data/DJI_20250424162314_0096_V.jpeg: 960x1280 1 pallets, 6.1ms\n",
      "image 97/273 /home/ec2-user/SageMaker/test_data/DJI_20250424162315_0097_V.jpeg: 960x1280 (no detections), 6.1ms\n",
      "image 98/273 /home/ec2-user/SageMaker/test_data/DJI_20250424162316_0098_V.jpeg: 960x1280 (no detections), 5.8ms\n",
      "image 99/273 /home/ec2-user/SageMaker/test_data/DJI_20250424162317_0099_V.jpeg: 960x1280 1 pallets, 6.0ms\n",
      "image 100/273 /home/ec2-user/SageMaker/test_data/DJI_20250424162317_0100_V.jpeg: 960x1280 5 palletss, 5.9ms\n",
      "image 101/273 /home/ec2-user/SageMaker/test_data/DJI_20250424162318_0101_V.jpeg: 960x1280 4 palletss, 5.9ms\n",
      "image 102/273 /home/ec2-user/SageMaker/test_data/DJI_20250424162319_0102_V.jpeg: 960x1280 4 palletss, 6.0ms\n",
      "image 103/273 /home/ec2-user/SageMaker/test_data/DJI_20250424162320_0103_V.jpeg: 960x1280 9 palletss, 6.0ms\n",
      "image 104/273 /home/ec2-user/SageMaker/test_data/DJI_20250424162321_0104_V.jpeg: 960x1280 1 barcode, 16 palletss, 6.0ms\n",
      "image 105/273 /home/ec2-user/SageMaker/test_data/DJI_20250424162322_0105_V.jpeg: 960x1280 2 barcodes, 23 palletss, 5.8ms\n",
      "image 106/273 /home/ec2-user/SageMaker/test_data/DJI_20250424162323_0106_V.jpeg: 960x1280 3 barcodes, 19 palletss, 5.8ms\n",
      "image 107/273 /home/ec2-user/SageMaker/test_data/DJI_20250424162324_0107_V.jpeg: 960x1280 3 barcodes, 15 palletss, 5.8ms\n",
      "image 108/273 /home/ec2-user/SageMaker/test_data/DJI_20250424162324_0108_V.jpeg: 960x1280 3 barcodes, 21 palletss, 5.7ms\n",
      "image 109/273 /home/ec2-user/SageMaker/test_data/DJI_20250424162325_0109_V.jpeg: 960x1280 5 barcodes, 18 palletss, 5.8ms\n",
      "image 110/273 /home/ec2-user/SageMaker/test_data/DJI_20250424162326_0110_V.jpeg: 960x1280 5 barcodes, 21 palletss, 6.0ms\n",
      "image 111/273 /home/ec2-user/SageMaker/test_data/DJI_20250424162335_0111_V.jpeg: 960x1280 4 palletss, 6.1ms\n",
      "image 112/273 /home/ec2-user/SageMaker/test_data/DJI_20250424162336_0112_V.jpeg: 960x1280 4 palletss, 5.9ms\n",
      "image 113/273 /home/ec2-user/SageMaker/test_data/DJI_20250424162337_0113_V.jpeg: 960x1280 4 palletss, 6.2ms\n",
      "image 114/273 /home/ec2-user/SageMaker/test_data/DJI_20250424162337_0114_V.jpeg: 960x1280 1 barcode, 5 palletss, 6.1ms\n",
      "image 115/273 /home/ec2-user/SageMaker/test_data/DJI_20250424162338_0115_V.jpeg: 960x1280 1 barcode, 5 palletss, 5.8ms\n",
      "image 116/273 /home/ec2-user/SageMaker/test_data/DJI_20250424162339_0116_V.jpeg: 960x1280 9 palletss, 5.8ms\n",
      "image 117/273 /home/ec2-user/SageMaker/test_data/DJI_20250424162340_0117_V.jpeg: 960x1280 1 barcode, 9 palletss, 5.7ms\n",
      "image 118/273 /home/ec2-user/SageMaker/test_data/DJI_20250424162341_0118_V.jpeg: 960x1280 13 palletss, 5.7ms\n",
      "image 119/273 /home/ec2-user/SageMaker/test_data/DJI_20250424162342_0119_V.jpeg: 960x1280 1 barcode, 13 palletss, 6.1ms\n",
      "image 120/273 /home/ec2-user/SageMaker/test_data/DJI_20250424162343_0120_V.jpeg: 960x1280 5 barcodes, 18 palletss, 6.1ms\n",
      "image 121/273 /home/ec2-user/SageMaker/test_data/DJI_20250424162344_0121_V.jpeg: 960x1280 5 barcodes, 24 palletss, 5.9ms\n",
      "image 122/273 /home/ec2-user/SageMaker/test_data/DJI_20250424162344_0122_V.jpeg: 960x1280 4 barcodes, 19 palletss, 6.0ms\n",
      "image 123/273 /home/ec2-user/SageMaker/test_data/DJI_20250424162345_0123_V.jpeg: 960x1280 3 barcodes, 11 palletss, 6.2ms\n",
      "image 124/273 /home/ec2-user/SageMaker/test_data/DJI_20250424162346_0124_V.jpeg: 960x1280 4 barcodes, 7 palletss, 5.7ms\n",
      "image 125/273 /home/ec2-user/SageMaker/test_data/DJI_20250424162347_0125_V.jpeg: 960x1280 2 barcodes, 4 palletss, 5.8ms\n",
      "image 126/273 /home/ec2-user/SageMaker/test_data/DJI_20250424162348_0126_V.jpeg: 960x1280 4 palletss, 6.1ms\n",
      "image 127/273 /home/ec2-user/SageMaker/test_data/DJI_20250424162349_0127_V.jpeg: 960x1280 5 palletss, 6.0ms\n",
      "image 128/273 /home/ec2-user/SageMaker/test_data/DJI_20250424162350_0128_V.jpeg: 960x1280 4 palletss, 6.1ms\n",
      "image 129/273 /home/ec2-user/SageMaker/test_data/DJI_20250424162351_0129_V.jpeg: 960x1280 6 palletss, 6.1ms\n",
      "image 130/273 /home/ec2-user/SageMaker/test_data/DJI_20250424162351_0130_V.jpeg: 960x1280 4 palletss, 5.8ms\n",
      "image 131/273 /home/ec2-user/SageMaker/test_data/DJI_20250424162352_0131_V.jpeg: 960x1280 5 palletss, 6.0ms\n",
      "image 132/273 /home/ec2-user/SageMaker/test_data/DJI_20250424162353_0132_V.jpeg: 960x1280 5 palletss, 5.8ms\n",
      "image 133/273 /home/ec2-user/SageMaker/test_data/DJI_20250424162354_0133_V.jpeg: 960x1280 3 palletss, 5.9ms\n",
      "image 134/273 /home/ec2-user/SageMaker/test_data/DJI_20250424162355_0134_V.jpeg: 960x1280 5 palletss, 6.1ms\n",
      "image 135/273 /home/ec2-user/SageMaker/test_data/DJI_20250424162356_0135_V.jpeg: 960x1280 1 barcode, 5 palletss, 5.8ms\n",
      "image 136/273 /home/ec2-user/SageMaker/test_data/DJI_20250424162357_0136_V.jpeg: 960x1280 2 barcodes, 5 palletss, 5.8ms\n",
      "image 137/273 /home/ec2-user/SageMaker/test_data/DJI_20250424162358_0137_V.jpeg: 960x1280 2 barcodes, 7 palletss, 5.8ms\n",
      "image 138/273 /home/ec2-user/SageMaker/test_data/DJI_20250424162358_0138_V.jpeg: 960x1280 4 barcodes, 12 palletss, 6.0ms\n",
      "image 139/273 /home/ec2-user/SageMaker/test_data/DJI_20250424162359_0139_V.jpeg: 960x1280 1 barcode, 16 palletss, 6.0ms\n",
      "image 140/273 /home/ec2-user/SageMaker/test_data/DJI_20250424162400_0140_V.jpeg: 960x1280 4 barcodes, 12 palletss, 5.9ms\n",
      "image 141/273 /home/ec2-user/SageMaker/test_data/DJI_20250424162401_0141_V.jpeg: 960x1280 4 barcodes, 19 palletss, 5.8ms\n",
      "image 142/273 /home/ec2-user/SageMaker/test_data/DJI_20250424162402_0142_V.jpeg: 960x1280 2 barcodes, 17 palletss, 7.1ms\n",
      "image 143/273 /home/ec2-user/SageMaker/test_data/DJI_20250424162403_0143_V.jpeg: 960x1280 12 palletss, 5.8ms\n",
      "image 144/273 /home/ec2-user/SageMaker/test_data/DJI_20250424162404_0144_V.jpeg: 960x1280 5 palletss, 5.8ms\n",
      "image 145/273 /home/ec2-user/SageMaker/test_data/DJI_20250424162405_0145_V.jpeg: 960x1280 1 barcode, 10 palletss, 6.1ms\n",
      "image 146/273 /home/ec2-user/SageMaker/test_data/DJI_20250424162406_0146_V.jpeg: 960x1280 7 palletss, 6.2ms\n",
      "image 147/273 /home/ec2-user/SageMaker/test_data/DJI_20250424162406_0147_V.jpeg: 960x1280 1 barcode, 9 palletss, 6.0ms\n",
      "image 148/273 /home/ec2-user/SageMaker/test_data/DJI_20250424162407_0148_V.jpeg: 960x1280 1 barcode, 4 palletss, 5.8ms\n",
      "image 149/273 /home/ec2-user/SageMaker/test_data/DJI_20250424162408_0149_V.jpeg: 960x1280 1 barcode, 3 palletss, 6.1ms\n",
      "image 150/273 /home/ec2-user/SageMaker/test_data/DJI_20250424162409_0150_V.jpeg: 960x1280 5 palletss, 5.8ms\n",
      "image 151/273 /home/ec2-user/SageMaker/test_data/DJI_20250424162410_0151_V.jpeg: 960x1280 2 palletss, 5.7ms\n",
      "image 152/273 /home/ec2-user/SageMaker/test_data/DJI_20250424162411_0152_V.jpeg: 960x1280 1 pallets, 6.0ms\n",
      "image 153/273 /home/ec2-user/SageMaker/test_data/DJI_20250424162412_0153_V.jpeg: 960x1280 1 barcode, 1 pallets, 6.1ms\n",
      "image 154/273 /home/ec2-user/SageMaker/test_data/DJI_20250424162413_0154_V.jpeg: 960x1280 2 palletss, 5.8ms\n",
      "image 155/273 /home/ec2-user/SageMaker/test_data/DJI_20250424162413_0155_V.jpeg: 960x1280 1 pallets, 5.7ms\n",
      "image 156/273 /home/ec2-user/SageMaker/test_data/DJI_20250424162414_0156_V.jpeg: 960x1280 1 pallets, 6.0ms\n",
      "image 157/273 /home/ec2-user/SageMaker/test_data/DJI_20250424162415_0157_V.jpeg: 960x1280 1 pallets, 5.8ms\n",
      "image 158/273 /home/ec2-user/SageMaker/test_data/DJI_20250424162416_0158_V.jpeg: 960x1280 1 barcode, 1 pallets, 5.8ms\n",
      "image 159/273 /home/ec2-user/SageMaker/test_data/DJI_20250424162417_0159_V.jpeg: 960x1280 1 barcode, 6 palletss, 5.8ms\n",
      "image 160/273 /home/ec2-user/SageMaker/test_data/DJI_20250424162418_0160_V.jpeg: 960x1280 5 palletss, 6.3ms\n",
      "image 161/273 /home/ec2-user/SageMaker/test_data/DJI_20250424162419_0161_V.jpeg: 960x1280 1 barcode, 5 palletss, 6.1ms\n",
      "image 162/273 /home/ec2-user/SageMaker/test_data/DJI_20250424162432_0162_V.jpeg: 960x1280 2 barcodes, 18 palletss, 6.0ms\n",
      "image 163/273 /home/ec2-user/SageMaker/test_data/DJI_20250424162433_0163_V.jpeg: 960x1280 2 barcodes, 22 palletss, 6.1ms\n",
      "image 164/273 /home/ec2-user/SageMaker/test_data/DJI_20250424162434_0164_V.jpeg: 960x1280 2 barcodes, 15 palletss, 5.8ms\n",
      "image 165/273 /home/ec2-user/SageMaker/test_data/DJI_20250424162435_0165_V.jpeg: 960x1280 2 barcodes, 23 palletss, 6.0ms\n",
      "image 166/273 /home/ec2-user/SageMaker/test_data/DJI_20250424162436_0166_V.jpeg: 960x1280 2 barcodes, 18 palletss, 5.9ms\n",
      "image 167/273 /home/ec2-user/SageMaker/test_data/DJI_20250424162437_0167_V.jpeg: 960x1280 1 barcode, 25 palletss, 6.4ms\n",
      "image 168/273 /home/ec2-user/SageMaker/test_data/DJI_20250424162437_0168_V.jpeg: 960x1280 1 barcode, 20 palletss, 7.1ms\n",
      "image 169/273 /home/ec2-user/SageMaker/test_data/DJI_20250424162438_0169_V.jpeg: 960x1280 1 barcode, 17 palletss, 5.8ms\n",
      "image 170/273 /home/ec2-user/SageMaker/test_data/DJI_20250424162439_0170_V.jpeg: 960x1280 1 barcode, 13 palletss, 6.1ms\n",
      "image 171/273 /home/ec2-user/SageMaker/test_data/DJI_20250424162440_0171_V.jpeg: 960x1280 1 barcode, 13 palletss, 5.8ms\n",
      "image 172/273 /home/ec2-user/SageMaker/test_data/DJI_20250424162441_0172_V.jpeg: 960x1280 2 barcodes, 15 palletss, 6.2ms\n",
      "image 173/273 /home/ec2-user/SageMaker/test_data/DJI_20250424162442_0173_V.jpeg: 960x1280 1 barcode, 16 palletss, 6.0ms\n",
      "image 174/273 /home/ec2-user/SageMaker/test_data/DJI_20250424162443_0174_V.jpeg: 960x1280 1 barcode, 17 palletss, 5.8ms\n",
      "image 175/273 /home/ec2-user/SageMaker/test_data/DJI_20250424162444_0175_V.jpeg: 960x1280 1 barcode, 15 palletss, 5.8ms\n",
      "image 176/273 /home/ec2-user/SageMaker/test_data/DJI_20250424162444_0176_V.jpeg: 960x1280 1 barcode, 13 palletss, 5.7ms\n",
      "image 177/273 /home/ec2-user/SageMaker/test_data/DJI_20250424162445_0177_V.jpeg: 960x1280 2 barcodes, 12 palletss, 8.3ms\n",
      "image 178/273 /home/ec2-user/SageMaker/test_data/DJI_20250424162446_0178_V.jpeg: 960x1280 1 barcode, 14 palletss, 7.0ms\n",
      "image 179/273 /home/ec2-user/SageMaker/test_data/DJI_20250424162447_0179_V.jpeg: 960x1280 2 barcodes, 11 palletss, 5.7ms\n",
      "image 180/273 /home/ec2-user/SageMaker/test_data/DJI_20250424162448_0180_V.jpeg: 960x1280 7 palletss, 5.7ms\n",
      "image 181/273 /home/ec2-user/SageMaker/test_data/DJI_20250424162449_0181_V.jpeg: 960x1280 3 palletss, 5.7ms\n",
      "image 182/273 /home/ec2-user/SageMaker/test_data/DJI_20250424162450_0182_V.jpeg: 960x1280 3 palletss, 6.1ms\n",
      "image 183/273 /home/ec2-user/SageMaker/test_data/DJI_20250424162451_0183_V.jpeg: 960x1280 2 palletss, 6.0ms\n",
      "image 184/273 /home/ec2-user/SageMaker/test_data/DJI_20250424162451_0184_V.jpeg: 960x1280 4 palletss, 5.9ms\n",
      "image 185/273 /home/ec2-user/SageMaker/test_data/DJI_20250424162452_0185_V.jpeg: 960x1280 1 barcode, 9 palletss, 5.8ms\n",
      "image 186/273 /home/ec2-user/SageMaker/test_data/DJI_20250424162453_0186_V.jpeg: 960x1280 8 palletss, 5.7ms\n",
      "image 187/273 /home/ec2-user/SageMaker/test_data/DJI_20250424162454_0187_V.jpeg: 960x1280 15 palletss, 5.8ms\n",
      "image 188/273 /home/ec2-user/SageMaker/test_data/DJI_20250424162455_0188_V.jpeg: 960x1280 1 barcode, 12 palletss, 5.7ms\n",
      "image 189/273 /home/ec2-user/SageMaker/test_data/DJI_20250424162456_0189_V.jpeg: 960x1280 1 barcode, 12 palletss, 5.7ms\n",
      "image 190/273 /home/ec2-user/SageMaker/test_data/DJI_20250424162457_0190_V.jpeg: 960x1280 1 barcode, 12 palletss, 5.8ms\n",
      "image 191/273 /home/ec2-user/SageMaker/test_data/DJI_20250424162458_0191_V.jpeg: 960x1280 2 barcodes, 8 palletss, 5.7ms\n",
      "image 192/273 /home/ec2-user/SageMaker/test_data/DJI_20250424162458_0192_V.jpeg: 960x1280 8 palletss, 5.8ms\n",
      "image 193/273 /home/ec2-user/SageMaker/test_data/DJI_20250424162459_0193_V.jpeg: 960x1280 8 palletss, 6.0ms\n",
      "image 194/273 /home/ec2-user/SageMaker/test_data/DJI_20250424162500_0194_V.jpeg: 960x1280 10 palletss, 5.7ms\n",
      "image 195/273 /home/ec2-user/SageMaker/test_data/DJI_20250424162501_0195_V.jpeg: 960x1280 7 palletss, 6.0ms\n",
      "image 196/273 /home/ec2-user/SageMaker/test_data/DJI_20250424162502_0196_V.jpeg: 960x1280 6 palletss, 6.0ms\n",
      "image 197/273 /home/ec2-user/SageMaker/test_data/DJI_20250424162503_0197_V.jpeg: 960x1280 6 palletss, 5.8ms\n",
      "image 198/273 /home/ec2-user/SageMaker/test_data/DJI_20250424162504_0198_V.jpeg: 960x1280 5 palletss, 5.8ms\n",
      "image 199/273 /home/ec2-user/SageMaker/test_data/DJI_20250424162505_0199_V.jpeg: 960x1280 11 palletss, 6.0ms\n",
      "image 200/273 /home/ec2-user/SageMaker/test_data/DJI_20250424162506_0200_V.jpeg: 960x1280 11 palletss, 5.7ms\n",
      "image 201/273 /home/ec2-user/SageMaker/test_data/DJI_20250424162506_0201_V.jpeg: 960x1280 5 palletss, 6.1ms\n",
      "image 202/273 /home/ec2-user/SageMaker/test_data/DJI_20250424162507_0202_V.jpeg: 960x1280 4 palletss, 6.1ms\n",
      "image 203/273 /home/ec2-user/SageMaker/test_data/DJI_20250424162508_0203_V.jpeg: 960x1280 5 palletss, 5.8ms\n",
      "image 204/273 /home/ec2-user/SageMaker/test_data/DJI_20250424162509_0204_V.jpeg: 960x1280 5 palletss, 5.9ms\n",
      "image 205/273 /home/ec2-user/SageMaker/test_data/DJI_20250424162510_0205_V.jpeg: 960x1280 1 pallets, 6.2ms\n",
      "image 206/273 /home/ec2-user/SageMaker/test_data/DJI_20250424162511_0206_V.jpeg: 960x1280 2 palletss, 6.4ms\n",
      "image 207/273 /home/ec2-user/SageMaker/test_data/DJI_20250424162512_0207_V.jpeg: 960x1280 1 pallets, 6.1ms\n",
      "image 208/273 /home/ec2-user/SageMaker/test_data/DJI_20250424162513_0208_V.jpeg: 960x1280 1 pallets, 5.9ms\n",
      "image 209/273 /home/ec2-user/SageMaker/test_data/DJI_20250424162513_0209_V.jpeg: 960x1280 1 pallets, 5.9ms\n",
      "image 210/273 /home/ec2-user/SageMaker/test_data/DJI_20250424162514_0210_V.jpeg: 960x1280 1 pallets, 6.0ms\n",
      "image 211/273 /home/ec2-user/SageMaker/test_data/DJI_20250424162515_0211_V.jpeg: 960x1280 1 pallets, 5.8ms\n",
      "image 212/273 /home/ec2-user/SageMaker/test_data/DJI_20250424162516_0212_V.jpeg: 960x1280 2 palletss, 6.1ms\n",
      "image 213/273 /home/ec2-user/SageMaker/test_data/DJI_20250424162517_0213_V.jpeg: 960x1280 3 palletss, 6.2ms\n",
      "image 214/273 /home/ec2-user/SageMaker/test_data/DJI_20250424162526_0214_V.jpeg: 960x1280 1 barcode, 41 palletss, 6.1ms\n",
      "image 215/273 /home/ec2-user/SageMaker/test_data/DJI_20250424162526_0215_V.jpeg: 960x1280 1 barcode, 39 palletss, 5.8ms\n",
      "image 216/273 /home/ec2-user/SageMaker/test_data/DJI_20250424162527_0216_V.jpeg: 960x1280 35 palletss, 5.7ms\n",
      "image 217/273 /home/ec2-user/SageMaker/test_data/DJI_20250424162528_0217_V.jpeg: 960x1280 31 palletss, 6.1ms\n",
      "image 218/273 /home/ec2-user/SageMaker/test_data/DJI_20250424162529_0218_V.jpeg: 960x1280 18 palletss, 6.0ms\n",
      "image 219/273 /home/ec2-user/SageMaker/test_data/DJI_20250424162530_0219_V.jpeg: 960x1280 17 palletss, 6.1ms\n",
      "image 220/273 /home/ec2-user/SageMaker/test_data/DJI_20250424162531_0220_V.jpeg: 960x1280 16 palletss, 6.7ms\n",
      "image 221/273 /home/ec2-user/SageMaker/test_data/DJI_20250424162532_0221_V.jpeg: 960x1280 19 palletss, 5.8ms\n",
      "image 222/273 /home/ec2-user/SageMaker/test_data/DJI_20250424162533_0222_V.jpeg: 960x1280 19 palletss, 6.2ms\n",
      "image 223/273 /home/ec2-user/SageMaker/test_data/DJI_20250424162533_0223_V.jpeg: 960x1280 25 palletss, 6.0ms\n",
      "image 224/273 /home/ec2-user/SageMaker/test_data/DJI_20250424162534_0224_V.jpeg: 960x1280 1 barcode, 25 palletss, 6.1ms\n",
      "image 225/273 /home/ec2-user/SageMaker/test_data/DJI_20250424162535_0225_V.jpeg: 960x1280 13 palletss, 5.8ms\n",
      "image 226/273 /home/ec2-user/SageMaker/test_data/DJI_20250424162536_0226_V.jpeg: 960x1280 4 palletss, 6.0ms\n",
      "image 227/273 /home/ec2-user/SageMaker/test_data/DJI_20250424162537_0227_V.jpeg: 960x1280 2 palletss, 6.0ms\n",
      "image 228/273 /home/ec2-user/SageMaker/test_data/DJI_20250424162538_0228_V.jpeg: 960x1280 (no detections), 6.1ms\n",
      "image 229/273 /home/ec2-user/SageMaker/test_data/DJI_20250424162539_0229_V.jpeg: 960x1280 (no detections), 5.8ms\n",
      "image 230/273 /home/ec2-user/SageMaker/test_data/DJI_20250424162540_0230_V.jpeg: 960x1280 1 pallets, 5.7ms\n",
      "image 231/273 /home/ec2-user/SageMaker/test_data/DJI_20250424162540_0231_V.jpeg: 960x1280 2 palletss, 6.0ms\n",
      "image 232/273 /home/ec2-user/SageMaker/test_data/DJI_20250424162541_0232_V.jpeg: 960x1280 1 barcode, 4 palletss, 6.0ms\n",
      "image 233/273 /home/ec2-user/SageMaker/test_data/DJI_20250424162542_0233_V.jpeg: 960x1280 1 barcode, 12 palletss, 5.8ms\n",
      "image 234/273 /home/ec2-user/SageMaker/test_data/DJI_20250424162543_0234_V.jpeg: 960x1280 1 barcode, 24 palletss, 6.2ms\n",
      "image 235/273 /home/ec2-user/SageMaker/test_data/DJI_20250424162544_0235_V.jpeg: 960x1280 28 palletss, 5.8ms\n",
      "image 236/273 /home/ec2-user/SageMaker/test_data/DJI_20250424162545_0236_V.jpeg: 960x1280 1 barcode, 35 palletss, 5.7ms\n",
      "image 237/273 /home/ec2-user/SageMaker/test_data/DJI_20250424162546_0237_V.jpeg: 960x1280 5 barcodes, 36 palletss, 6.1ms\n",
      "image 238/273 /home/ec2-user/SageMaker/test_data/DJI_20250424162547_0238_V.jpeg: 960x1280 1 barcode, 28 palletss, 6.0ms\n",
      "image 239/273 /home/ec2-user/SageMaker/test_data/DJI_20250424162548_0239_V.jpeg: 960x1280 1 barcode, 33 palletss, 6.0ms\n",
      "image 240/273 /home/ec2-user/SageMaker/test_data/DJI_20250424162548_0240_V.jpeg: 960x1280 37 palletss, 6.2ms\n",
      "image 241/273 /home/ec2-user/SageMaker/test_data/DJI_20250424162549_0241_V.jpeg: 960x1280 3 barcodes, 30 palletss, 5.8ms\n",
      "image 242/273 /home/ec2-user/SageMaker/test_data/DJI_20250424162550_0242_V.jpeg: 960x1280 4 barcodes, 35 palletss, 5.9ms\n",
      "image 243/273 /home/ec2-user/SageMaker/test_data/DJI_20250424162551_0243_V.jpeg: 960x1280 4 barcodes, 37 palletss, 5.8ms\n",
      "image 244/273 /home/ec2-user/SageMaker/test_data/DJI_20250424162552_0244_V.jpeg: 960x1280 2 barcodes, 40 palletss, 5.8ms\n",
      "image 245/273 /home/ec2-user/SageMaker/test_data/DJI_20250424162553_0245_V.jpeg: 960x1280 2 barcodes, 35 palletss, 5.8ms\n",
      "image 246/273 /home/ec2-user/SageMaker/test_data/DJI_20250424162554_0246_V.jpeg: 960x1280 1 barcode, 38 palletss, 5.9ms\n",
      "image 247/273 /home/ec2-user/SageMaker/test_data/DJI_20250424162555_0247_V.jpeg: 960x1280 34 palletss, 5.8ms\n",
      "image 248/273 /home/ec2-user/SageMaker/test_data/DJI_20250424162555_0248_V.jpeg: 960x1280 1 barcode, 23 palletss, 6.6ms\n",
      "image 249/273 /home/ec2-user/SageMaker/test_data/DJI_20250424162556_0249_V.jpeg: 960x1280 15 palletss, 6.0ms\n",
      "image 250/273 /home/ec2-user/SageMaker/test_data/DJI_20250424162557_0250_V.jpeg: 960x1280 6 palletss, 5.8ms\n",
      "image 251/273 /home/ec2-user/SageMaker/test_data/DJI_20250424162558_0251_V.jpeg: 960x1280 4 palletss, 5.8ms\n",
      "image 252/273 /home/ec2-user/SageMaker/test_data/DJI_20250424162559_0252_V.jpeg: 960x1280 1 pallets, 6.2ms\n",
      "image 253/273 /home/ec2-user/SageMaker/test_data/DJI_20250424162600_0253_V.jpeg: 960x1280 1 pallets, 6.1ms\n",
      "image 254/273 /home/ec2-user/SageMaker/test_data/DJI_20250424162601_0254_V.jpeg: 960x1280 1 pallets, 5.8ms\n",
      "image 255/273 /home/ec2-user/SageMaker/test_data/DJI_20250424162602_0255_V.jpeg: 960x1280 1 pallets, 6.3ms\n",
      "image 256/273 /home/ec2-user/SageMaker/test_data/DJI_20250424162603_0256_V.jpeg: 960x1280 4 palletss, 5.7ms\n",
      "image 257/273 /home/ec2-user/SageMaker/test_data/DJI_20250424162603_0257_V.jpeg: 960x1280 5 palletss, 5.8ms\n",
      "image 258/273 /home/ec2-user/SageMaker/test_data/DJI_20250424162604_0258_V.jpeg: 960x1280 16 palletss, 5.9ms\n",
      "image 259/273 /home/ec2-user/SageMaker/test_data/DJI_20250424162605_0259_V.jpeg: 960x1280 1 barcode, 21 palletss, 6.2ms\n",
      "image 260/273 /home/ec2-user/SageMaker/test_data/DJI_20250424162606_0260_V.jpeg: 960x1280 2 barcodes, 26 palletss, 6.6ms\n",
      "image 261/273 /home/ec2-user/SageMaker/test_data/DJI_20250424162607_0261_V.jpeg: 960x1280 4 barcodes, 27 palletss, 6.1ms\n",
      "image 262/273 /home/ec2-user/SageMaker/test_data/DJI_20250424162608_0262_V.jpeg: 960x1280 4 barcodes, 35 palletss, 5.9ms\n",
      "image 263/273 /home/ec2-user/SageMaker/test_data/DJI_20250424162610_0264_V.jpeg: 960x1280 1 barcode, 37 palletss, 5.8ms\n",
      "image 264/273 /home/ec2-user/SageMaker/test_data/DJI_20250424162610_0265_V.jpeg: 960x1280 35 palletss, 6.3ms\n",
      "image 265/273 /home/ec2-user/SageMaker/test_data/DJI_20250424162611_0266_V.jpeg: 960x1280 1 barcode, 25 palletss, 6.1ms\n",
      "image 266/273 /home/ec2-user/SageMaker/test_data/DJI_20250424162612_0267_V.jpeg: 960x1280 2 barcodes, 23 palletss, 6.0ms\n",
      "image 267/273 /home/ec2-user/SageMaker/test_data/DJI_20250424162613_0268_V.jpeg: 960x1280 1 barcode, 25 palletss, 5.8ms\n",
      "image 268/273 /home/ec2-user/SageMaker/test_data/DJI_20250424162614_0269_V.jpeg: 960x1280 22 palletss, 6.2ms\n",
      "image 269/273 /home/ec2-user/SageMaker/test_data/DJI_20250424162615_0270_V.jpeg: 960x1280 9 palletss, 6.0ms\n",
      "image 270/273 /home/ec2-user/SageMaker/test_data/DJI_20250424162616_0271_V.jpeg: 960x1280 9 palletss, 6.6ms\n",
      "image 271/273 /home/ec2-user/SageMaker/test_data/DJI_20250424162617_0272_V.jpeg: 960x1280 9 palletss, 6.0ms\n",
      "image 272/273 /home/ec2-user/SageMaker/test_data/DJI_20250424162617_0273_V.jpeg: 960x1280 4 palletss, 5.9ms\n",
      "image 273/273 /home/ec2-user/SageMaker/test_data/DJI_20250424162618_0274_V.jpeg: 960x1280 3 palletss, 5.8ms\n",
      "Speed: 6.6ms preprocess, 6.3ms inference, 2.0ms postprocess per image at shape (1, 3, 960, 1280)\n",
      "Results saved to \u001b[1mruns/detect/predict3\u001b[0m\n",
      "Saved 2680 detections to test_boundingBox.csv\n"
     ]
    },
    {
     "data": {
      "text/html": [
       "<div>\n",
       "<style scoped>\n",
       "    .dataframe tbody tr th:only-of-type {\n",
       "        vertical-align: middle;\n",
       "    }\n",
       "\n",
       "    .dataframe tbody tr th {\n",
       "        vertical-align: top;\n",
       "    }\n",
       "\n",
       "    .dataframe thead th {\n",
       "        text-align: right;\n",
       "    }\n",
       "</style>\n",
       "<table border=\"1\" class=\"dataframe\">\n",
       "  <thead>\n",
       "    <tr style=\"text-align: right;\">\n",
       "      <th></th>\n",
       "    </tr>\n",
       "  </thead>\n",
       "  <tbody>\n",
       "  </tbody>\n",
       "</table>\n",
       "</div>"
      ],
      "text/plain": [
       "Empty DataFrame\n",
       "Columns: []\n",
       "Index: []"
      ]
     },
     "execution_count": 1,
     "metadata": {},
     "output_type": "execute_result"
    }
   ],
   "source": [
    "from ultralytics import YOLO\n",
    "import pandas as pd\n",
    "from pathlib import Path\n",
    "\n",
    "# Load your best weights\n",
    "model = YOLO('runs/detect/train/weights/best.pt')\n",
    "\n",
    "rows = []\n",
    "records = []\n",
    "dataset_root = Path('test_data')\n",
    "\n",
    "# Predict on your test set\n",
    "results = model.predict(\n",
    "    source='test_data/',  # or 'test_data/images' if you only have one subfolder\n",
    "    conf=0.25,            # confidence threshold\n",
    "    save=True,            # draws & saves the overlays\n",
    "    # write into ./runs/detect/\n",
    "    save_dir='test_data_labeled'  # your custom folder\n",
    ")\n",
    "\n",
    "# Extract every box from every image\n",
    "for res in results:\n",
    "    img_path = Path(res.path) # original image path\n",
    "    img_name = img_path.name  # grab the filename\n",
    "      \n",
    "    for box in res.boxes:\n",
    "        x1, y1, x2, y2 = box.xyxy[0].tolist()\n",
    "        cls_id        = int(box.cls[0])\n",
    "        conf_score    = float(box.conf[0])\n",
    "        records.append({\n",
    "            'image':      img_name,\n",
    "            'class':      model.names[cls_id],\n",
    "            'confidence': conf_score,\n",
    "            'x1':          x1,\n",
    "            'y1':          y1,\n",
    "            'x2':          x2,\n",
    "            'y2':          y2\n",
    "        })\n",
    "\n",
    "# Save to CSV\n",
    "df = pd.DataFrame(records)\n",
    "df.to_csv('test_boundingBox.csv', index=False)\n",
    "print(f\"Saved {len(df)} detections to test_boundingBox.csv\")\n",
    "\n",
    "df = pd.DataFrame(rows)\n",
    "df.head()"
   ]
  },
  {
   "cell_type": "code",
   "execution_count": null,
   "id": "004c5b99-949e-4fca-a881-d745977e19c6",
   "metadata": {},
   "outputs": [],
   "source": []
  }
 ],
 "metadata": {
  "kernelspec": {
   "display_name": "conda_pytorch_p310",
   "language": "python",
   "name": "conda_pytorch_p310"
  },
  "language_info": {
   "codemirror_mode": {
    "name": "ipython",
    "version": 3
   },
   "file_extension": ".py",
   "mimetype": "text/x-python",
   "name": "python",
   "nbconvert_exporter": "python",
   "pygments_lexer": "ipython3",
   "version": "3.10.14"
  }
 },
 "nbformat": 4,
 "nbformat_minor": 5
}
