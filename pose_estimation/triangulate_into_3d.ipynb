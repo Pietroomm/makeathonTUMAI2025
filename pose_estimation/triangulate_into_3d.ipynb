{
 "cells": [
  {
   "cell_type": "code",
   "execution_count": 17,
   "id": "5bbb68de-c52f-4a8e-bda8-8a0e4879119a",
   "metadata": {},
   "outputs": [
    {
     "name": "stdout",
     "output_type": "stream",
     "text": [
      "Triangulated GPS coordinates: lat=49.099393, lon=12.180903, alt≈487.54 m\n",
      "Triangulated GPS coordinates: lat=49.099392, lon=12.180903, alt≈487.69 m\n",
      "Triangulated GPS coordinates: lat=49.099391, lon=12.180907, alt≈487.49 m\n",
      "Triangulated GPS coordinates: lat=49.099390, lon=12.180912, alt≈487.29 m\n"
     ]
    },
    {
     "data": {
      "text/plain": [
       "[(12.18090253874485, 49.099392570576676, 487.5393529124558),\n",
       " (12.18090316789037, 49.099392459162466, 487.68679808452725),\n",
       " (12.180907204492144, 49.099391322882276, 487.4937693476677),\n",
       " (12.180911566568401, 49.0993901935563, 487.2905433224514)]"
      ]
     },
     "execution_count": 17,
     "metadata": {},
     "output_type": "execute_result"
    }
   ],
   "source": [
    "import nbimporter\n",
    "\n",
    "from geometry_2d import process_images\n",
    "from add_camera_position import get_df_with_camera_position\n",
    "\n",
    "import numpy as np\n",
    "import cv2\n",
    "from pyproj import Transformer\n",
    "from scipy.spatial.transform import Rotation as R\n",
    "\n",
    "def get_3d(data):\n",
    "    \"\"\"\n",
    "    data: dict mapping image_filename -> {\n",
    "      'leftmost point': (x_px, y_px),\n",
    "      'lat': float, 'lon': float, 'alt': float\n",
    "    }\n",
    "    \"\"\"\n",
    "\n",
    "    # 1) Camera intrinsics (DJI M4TD wide) – unchanged\n",
    "    sensor_width_mm  = 7.6\n",
    "    sensor_height_mm = 5.7\n",
    "    focal_length_mm  = 7.0\n",
    "    image_width_px   = 4032\n",
    "    image_height_px  = 3024\n",
    "\n",
    "    fx = (focal_length_mm / sensor_width_mm)  * image_width_px\n",
    "    fy = (focal_length_mm / sensor_height_mm) * image_height_px\n",
    "    cx, cy = image_width_px/2, image_height_px/2\n",
    "\n",
    "    K = np.array([[fx,  0, cx],\n",
    "                  [ 0, fy, cy],\n",
    "                  [ 0,  0,  1]])\n",
    "\n",
    "    # 2) CRS transformers\n",
    "    to_ecef   = Transformer.from_crs(\"epsg:4326\",\"epsg:4978\",always_xy=True)\n",
    "    from_ecef = Transformer.from_crs(\"epsg:4978\",\"epsg:4326\",always_xy=True)\n",
    "\n",
    "    # 3) Nadir rotation\n",
    "    rot_nadir = R.from_euler('xyz', [0, -90, 0], degrees=True).as_matrix()\n",
    "\n",
    "    # 4) Build projection matrices\n",
    "    P_list = []\n",
    "    for img_name in data:\n",
    "        values= data[img_name]\n",
    "        Cx, Cy, Cz = to_ecef.transform(values[\"lat\"], values[\"lon\"], values[\"alt\"])\n",
    "        C = np.array([[Cx],[Cy],[Cz]])\n",
    "        Rt = np.hstack((rot_nadir, -rot_nadir @ C))\n",
    "        P_list.append(K @ Rt)\n",
    "\n",
    "    # 5) Collect 2D points\n",
    "    pts = np.array([data[img][\"point\"] for img in data], dtype=float)\n",
    "    if pts.shape[0] < 2:\n",
    "        raise ValueError(\"Need at least two cameras/points to triangulate\")\n",
    "\n",
    "    p1 = pts[0].reshape(2,1)\n",
    "    p2 = pts[1].reshape(2,1)\n",
    "\n",
    "    # 6) Triangulate\n",
    "    Xh = cv2.triangulatePoints(P_list[0], P_list[1], p1, p2)\n",
    "\n",
    "    # 7) From homogeneous to ECEF\n",
    "    X_ecef = (Xh[:3] / Xh[3]).flatten()\n",
    "\n",
    "    # 8) Back to GPS\n",
    "    lat,lon,  alt = from_ecef.transform(*X_ecef)\n",
    "\n",
    "    print(f\"Triangulated GPS coordinates: lat={lat:.6f}, lon={lon:.6f}, alt≈{alt:.2f} m\")\n",
    "    return lon, lat, alt\n",
    "\n",
    "def get_line():\n",
    "    df = get_df_with_camera_position()\n",
    "    \n",
    "    points_to_triangulate = process_images(df,image_width_px=4032, image_height_px=3024)\n",
    "    \n",
    "    \n",
    "    points_on_line = []\n",
    "    for coord in points_to_triangulate: \n",
    "        points_on_line.append(get_3d(coord))\n",
    "    return points_on_line\n",
    "\n",
    "\n",
    "get_line()"
   ]
  },
  {
   "cell_type": "code",
   "execution_count": null,
   "id": "6398b889-2e10-421f-837c-a4e39022e022",
   "metadata": {},
   "outputs": [],
   "source": []
  }
 ],
 "metadata": {
  "kernelspec": {
   "display_name": "conda_python3",
   "language": "python",
   "name": "conda_python3"
  },
  "language_info": {
   "codemirror_mode": {
    "name": "ipython",
    "version": 3
   },
   "file_extension": ".py",
   "mimetype": "text/x-python",
   "name": "python",
   "nbconvert_exporter": "python",
   "pygments_lexer": "ipython3",
   "version": "3.10.16"
  }
 },
 "nbformat": 4,
 "nbformat_minor": 5
}
